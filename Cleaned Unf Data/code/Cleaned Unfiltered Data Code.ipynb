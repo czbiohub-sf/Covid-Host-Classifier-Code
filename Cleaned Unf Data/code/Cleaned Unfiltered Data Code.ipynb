{
 "cells": [
  {
   "cell_type": "markdown",
   "metadata": {},
   "source": [
    "## Load Libraries"
   ]
  },
  {
   "cell_type": "code",
   "execution_count": 1,
   "metadata": {},
   "outputs": [],
   "source": [
    "import pandas as pd\n",
    "import numpy as np\n",
    "from sklearn.svm import SVC\n",
    "from matplotlib import pyplot as plt\n",
    "from sklearn import preprocessing\n",
    "from sklearn.model_selection import cross_validate\n",
    "from sklearn.model_selection import StratifiedKFold\n",
    "from sklearn.model_selection import train_test_split\n",
    "from sklearn.metrics import roc_auc_score\n",
    "from sklearn.metrics import plot_roc_curve\n",
    "from sklearn.metrics import auc\n",
    "from sklearn.ensemble import RandomForestClassifier\n",
    "from sklearn.preprocessing import StandardScaler"
   ]
  },
  {
   "cell_type": "markdown",
   "metadata": {},
   "source": [
    "## Load Data"
   ]
  },
  {
   "cell_type": "code",
   "execution_count": 2,
   "metadata": {},
   "outputs": [],
   "source": [
    "first_gene_counts_df = pd.read_csv(\"../data/swab_gene_counts.csv\",low_memory=False).T\n",
    "first_headers = first_gene_counts_df.iloc[0]\n",
    "first_gene_counts_df = first_gene_counts_df[1:]\n",
    "first_gene_counts_df.columns = first_headers"
   ]
  },
  {
   "cell_type": "code",
   "execution_count": 3,
   "metadata": {},
   "outputs": [],
   "source": [
    "second_gene_counts_df = pd.read_csv(\"../data/Adult-validation-cohort/adult_validation_swab_gene_counts.csv\",low_memory=False).T\n",
    "second_headers = second_gene_counts_df.iloc[0]\n",
    "second_gene_counts_df = second_gene_counts_df[1:]\n",
    "second_gene_counts_df.columns = second_headers\n",
    "second_gene_counts_df = second_gene_counts_df.drop(['gene_symbol'])"
   ]
  },
  {
   "cell_type": "code",
   "execution_count": 4,
   "metadata": {},
   "outputs": [],
   "source": [
    "ENSG_trans = pd.read_csv('../annotation/gene2name.txt',low_memory=False, index_col = 0, header = None, sep = '\\t').T\n",
    "sharedgenes = np.intersect1d(first_gene_counts_df.columns[1:], second_gene_counts_df.columns[1:])"
   ]
  },
  {
   "cell_type": "code",
   "execution_count": 5,
   "metadata": {},
   "outputs": [],
   "source": [
    "R_first_gene_counts = pd.read_csv('../code/test.csv',low_memory=False)[sharedgenes].values\n",
    "R_second_gene_counts = pd.read_csv('../data/Adult-validation-cohort/test2.csv',low_memory=False)[sharedgenes].values\n"
   ]
  },
  {
   "cell_type": "code",
   "execution_count": 6,
   "metadata": {},
   "outputs": [],
   "source": [
    "R_first_second_gene_counts = np.concatenate((R_first_gene_counts, R_second_gene_counts))"
   ]
  },
  {
   "cell_type": "code",
   "execution_count": 7,
   "metadata": {},
   "outputs": [],
   "source": [
    "IDs = pd.read_csv('GSE152075_raw_counts_GEO.csv')['Unnamed: 0']\n",
    "\n",
    "first_SC2 = (pd.read_csv(\"../../covid19-swab-host-expression-master-1/data/metatable_with_viral_status.csv\",low_memory=False)['viral_status'].values == 'SC2')\n",
    "second_SC2 = (pd.read_csv(\"../data/Adult-validation-cohort/adult_validation_metatable_with_viral_status.csv\",low_memory=False)['viral_status'].values == 'sc2')"
   ]
  },
  {
   "cell_type": "code",
   "execution_count": 8,
   "metadata": {},
   "outputs": [],
   "source": [
    "first_second_SC2 = np.concatenate((first_SC2, second_SC2))"
   ]
  },
  {
   "cell_type": "code",
   "execution_count": 9,
   "metadata": {},
   "outputs": [],
   "source": [
    "first_rpM = pd.read_csv(\"../../covid19-swab-host-expression-master-1/data/metatable_with_viral_status.csv\",low_memory=False)['SC2_rpm']\n",
    "second_rpM = pd.read_csv(\"../data/Adult-validation-cohort/adult_validation_metatable_with_viral_status.csv\",low_memory=False)['sc2_rpm']\n",
    "\n",
    "\n"
   ]
  },
  {
   "cell_type": "code",
   "execution_count": 10,
   "metadata": {},
   "outputs": [],
   "source": [
    "first_second_rpM = np.concatenate((first_rpM, second_rpM))\n"
   ]
  },
  {
   "cell_type": "markdown",
   "metadata": {},
   "source": [
    "## Split Data into Training and Testing Cohorts"
   ]
  },
  {
   "cell_type": "code",
   "execution_count": 11,
   "metadata": {},
   "outputs": [],
   "source": [
    "seed = 8675309"
   ]
  },
  {
   "cell_type": "code",
   "execution_count": 12,
   "metadata": {},
   "outputs": [],
   "source": [
    "comb_data_src = np.concatenate((np.zeros(first_SC2.shape[0]), np.ones(second_SC2.shape[0])))"
   ]
  },
  {
   "cell_type": "code",
   "execution_count": 13,
   "metadata": {},
   "outputs": [],
   "source": [
    "scaler = StandardScaler().fit(R_first_second_gene_counts)\n",
    "scaled_R_first_second_gene_counts = scaler.transform(R_first_second_gene_counts)"
   ]
  },
  {
   "cell_type": "code",
   "execution_count": 14,
   "metadata": {},
   "outputs": [],
   "source": [
    "#Splits the data into training and validation datasets (70:30)\n",
    "\n",
    "[train_ind, test_ind] = train_test_split(np.arange(368), random_state = seed, test_size = 0.3, stratify = 2*first_second_SC2+comb_data_src)\n",
    "\n",
    "TRcomb_counts = scaled_R_first_second_gene_counts[train_ind]\n",
    "TEcomb_counts = scaled_R_first_second_gene_counts[test_ind]\n",
    "\n",
    "#TRcomb_counts = pre_norm_first_gene_counts_df.values[train_ind]\n",
    "#TEcomb_counts = pre_norm_first_gene_counts_df.values[test_ind]\n",
    "\n",
    "TRcomb_SC2 = first_second_SC2[train_ind]\n",
    "TEcomb_SC2 = first_second_SC2[test_ind]\n"
   ]
  },
  {
   "cell_type": "code",
   "execution_count": 15,
   "metadata": {},
   "outputs": [],
   "source": [
    "TRcomb_counts_rpM = np.c_[TRcomb_counts, first_second_rpM[train_ind]]\n",
    "TEcomb_counts_rpM = np.c_[TEcomb_counts, first_second_rpM[test_ind]]"
   ]
  },
  {
   "cell_type": "markdown",
   "metadata": {},
   "source": [
    "## Generate Scores for Gene Sets"
   ]
  },
  {
   "cell_type": "code",
   "execution_count": 16,
   "metadata": {},
   "outputs": [],
   "source": [
    "#Given a gene set, generates the following five scores:\n",
    "#\n",
    "#   CV score on the training cohort\n",
    "#   CV score on the testing cohort\n",
    "#   Score on the testing cohort when trained on the training cohort\n",
    "#   CV score on the training cohort with rpm\n",
    "#   Score on the testing cohort when trained on the training cohort with rpm\n",
    "\n",
    "\n",
    "def rpMandnorpMAUCs(gene_set):\n",
    "    print(gene_set)\n",
    "    comb_inds = []\n",
    "    for gene in gene_set:\n",
    "        comb_inds.append(np.where(sharedgenes == ENSG_trans.columns[np.where(ENSG_trans == gene)[1]][0])[0][0])\n",
    "        \n",
    "        \n",
    "    cur_scores = []\n",
    "    for i in range(10000):\n",
    "        clf = SVC(gamma = 'auto', probability = True)\n",
    "        score = cross_validate(clf, TRcomb_counts_rpM[:, comb_inds], TRcomb_SC2, scoring='roc_auc', cv=StratifiedKFold(n_splits=5, shuffle=True))\n",
    "        av = np.average(score['test_score'])\n",
    "        cur_scores.append(av)\n",
    "    print(np.average(cur_scores), np.std(cur_scores))\n",
    "    \n",
    "    \n",
    "    cur_scores = []\n",
    "    for i in range(10000):\n",
    "        clf = SVC(gamma = 'auto', probability = True)\n",
    "        score = cross_validate(clf, TEcomb_counts_rpM[:, comb_inds], TEcomb_SC2, scoring='roc_auc', cv=StratifiedKFold(n_splits=5, shuffle=True))\n",
    "        av = np.average(score['test_score'])\n",
    "        cur_scores.append(av)\n",
    "    print(np.average(cur_scores), np.std(cur_scores))\n",
    "        \n",
    "    \n",
    "    clf = SVC(gamma = 'auto', probability = True)\n",
    "    clf.fit(TRcomb_counts_rpM[:, comb_inds], TRcomb_SC2)\n",
    "    print(roc_auc_score(TEcomb_SC2, clf.predict_proba(TEcomb_counts_rpM[:, comb_inds])[:, 1]))\n",
    "    \n",
    "    \n",
    "    comb_inds_rpM = comb_inds\n",
    "    comb_inds_rpM.append(-1)\n",
    "    \n",
    "    \n",
    "    cur_scores = []\n",
    "    for i in range(10000):\n",
    "        clf = SVC(gamma = 'auto', probability = True)\n",
    "        score = cross_validate(clf, TRcomb_counts_rpM[:, comb_inds_rpM], TRcomb_SC2, scoring='roc_auc', cv=StratifiedKFold(n_splits=5, shuffle=True))\n",
    "        av = np.average(score['test_score'])\n",
    "        cur_scores.append(av)\n",
    "    print(np.average(cur_scores), np.std(cur_scores))\n",
    "    \n",
    "    \n",
    "    clf = SVC(gamma = 'auto', probability = True)\n",
    "    clf.fit(TRcomb_counts_rpM[:, comb_inds_rpM], TRcomb_SC2)\n",
    "    print(roc_auc_score(TEcomb_SC2, clf.predict_proba(TEcomb_counts_rpM[:, comb_inds_rpM])[:, 1]))"
   ]
  },
  {
   "cell_type": "code",
   "execution_count": 17,
   "metadata": {},
   "outputs": [
    {
     "name": "stdout",
     "output_type": "stream",
     "text": [
      "['IFI6', 'PTAFR']\n",
      "0.8602914909290271 0.007508648877131656\n",
      "0.853766011904762 0.013182312012917351\n",
      "0.8693379790940766\n",
      "0.8686702850129584 0.00741060798696929\n",
      "0.9243902439024391\n"
     ]
    }
   ],
   "source": [
    "rpMandnorpMAUCs(['IFI6', 'PTAFR'])"
   ]
  },
  {
   "cell_type": "code",
   "execution_count": 18,
   "metadata": {},
   "outputs": [
    {
     "name": "stdout",
     "output_type": "stream",
     "text": [
      "['IFI6', 'GBP5']\n",
      "0.8867830061802233 0.005490651155151024\n",
      "0.8758208531746033 0.011687080091482905\n",
      "0.8954703832752613\n",
      "0.8788577571271929 0.007451145442708754\n",
      "0.9285714285714286\n"
     ]
    }
   ],
   "source": [
    "rpMandnorpMAUCs(['IFI6', 'GBP5'])"
   ]
  },
  {
   "cell_type": "code",
   "execution_count": 19,
   "metadata": {},
   "outputs": [
    {
     "name": "stdout",
     "output_type": "stream",
     "text": [
      "['IFI6', 'GRINA']\n",
      "0.8531939004685007 0.007806904800266287\n",
      "0.9022496031746032 0.010973935606340779\n",
      "0.8989547038327527\n",
      "0.8838121406997609 0.007047141898642161\n",
      "0.9400696864111499\n"
     ]
    }
   ],
   "source": [
    "rpMandnorpMAUCs(['IFI6', 'GRINA'])"
   ]
  },
  {
   "cell_type": "code",
   "execution_count": 20,
   "metadata": {},
   "outputs": [
    {
     "name": "stdout",
     "output_type": "stream",
     "text": [
      "['IFI44', 'TPM4']\n",
      "0.8644896300837321 0.004855151806441586\n",
      "0.838130615079365 0.012631596144732759\n",
      "0.8501742160278745\n",
      "0.9131138171102472 0.006535019077060335\n",
      "0.9177700348432055\n"
     ]
    }
   ],
   "source": [
    "rpMandnorpMAUCs(['IFI44', 'TPM4'])"
   ]
  },
  {
   "cell_type": "code",
   "execution_count": 21,
   "metadata": {},
   "outputs": [
    {
     "name": "stdout",
     "output_type": "stream",
     "text": [
      "['IFI44', 'BAZ1A']\n",
      "0.8554000949461722 0.005748161907463926\n",
      "0.8664335119047619 0.013225584508841693\n",
      "0.8989547038327526\n",
      "0.8667258199013158 0.010248356088173661\n",
      "0.913588850174216\n"
     ]
    }
   ],
   "source": [
    "rpMandnorpMAUCs(['IFI44', 'BAZ1A'])"
   ]
  },
  {
   "cell_type": "code",
   "execution_count": 22,
   "metadata": {},
   "outputs": [
    {
     "name": "stdout",
     "output_type": "stream",
     "text": [
      "['IFI44', 'VCAN']\n",
      "0.8406831003289473 0.008624329730927385\n",
      "0.7926942658730158 0.014279575156844625\n",
      "0.8289198606271777\n",
      "0.8583748612938596 0.00916255063506019\n",
      "0.8843205574912892\n"
     ]
    }
   ],
   "source": [
    "rpMandnorpMAUCs(['IFI44', 'VCAN'])"
   ]
  },
  {
   "cell_type": "code",
   "execution_count": 23,
   "metadata": {},
   "outputs": [
    {
     "name": "stdout",
     "output_type": "stream",
     "text": [
      "['IFI44L', 'GBP5']\n",
      "0.8794445910586124 0.004681357404995641\n",
      "0.8515173809523808 0.012052278188902957\n",
      "0.8801393728222996\n",
      "0.883833426659689 0.008600751404836442\n",
      "0.9278745644599303\n"
     ]
    }
   ],
   "source": [
    "rpMandnorpMAUCs(['IFI44L', 'GBP5'])"
   ]
  },
  {
   "cell_type": "code",
   "execution_count": 24,
   "metadata": {},
   "outputs": [
    {
     "name": "stdout",
     "output_type": "stream",
     "text": [
      "['IFI44L', 'BAZ1A']\n",
      "0.8712538101076556 0.006025738003142466\n",
      "0.8233347222222223 0.013586212057115462\n",
      "0.8642857142857143\n",
      "0.8731348511263953 0.011193967159935087\n",
      "0.9066202090592335\n"
     ]
    }
   ],
   "source": [
    "rpMandnorpMAUCs(['IFI44L', 'BAZ1A'])"
   ]
  },
  {
   "cell_type": "code",
   "execution_count": 25,
   "metadata": {},
   "outputs": [
    {
     "name": "stdout",
     "output_type": "stream",
     "text": [
      "['IFI44L', 'SH3BP2']\n",
      "0.8679272436204146 0.005511421657995489\n",
      "0.8483792857142857 0.013379937391836834\n",
      "0.8627177700348432\n",
      "0.8827739939443779 0.007838985773384405\n",
      "0.8878048780487805\n"
     ]
    }
   ],
   "source": [
    "rpMandnorpMAUCs(['IFI44L', 'SH3BP2'])"
   ]
  },
  {
   "cell_type": "code",
   "execution_count": null,
   "metadata": {},
   "outputs": [],
   "source": []
  }
 ],
 "metadata": {
  "kernelspec": {
   "display_name": "Python 3",
   "language": "python",
   "name": "python3"
  },
  "language_info": {
   "codemirror_mode": {
    "name": "ipython",
    "version": 3
   },
   "file_extension": ".py",
   "mimetype": "text/x-python",
   "name": "python",
   "nbconvert_exporter": "python",
   "pygments_lexer": "ipython3",
   "version": "3.6.12"
  }
 },
 "nbformat": 4,
 "nbformat_minor": 4
}

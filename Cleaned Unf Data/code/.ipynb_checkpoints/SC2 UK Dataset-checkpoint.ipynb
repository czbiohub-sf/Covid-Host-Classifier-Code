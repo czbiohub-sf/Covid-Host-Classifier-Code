{
 "cells": [
  {
   "cell_type": "code",
   "execution_count": null,
   "metadata": {},
   "outputs": [],
   "source": [
    "metatable_csv = \"../data/Adult-validation-cohort/adult_validation_metatable_with_viral_status.csv\"\n",
    "norm_gene_counts_csv = \"../data/Adult-validation-cohort/test2.csv\"\n",
    "gene_counts_csv = \"../data/Adult-validation-cohort/adult_validation_swab_gene_counts.csv\""
   ]
  },
  {
   "cell_type": "code",
   "execution_count": null,
   "metadata": {},
   "outputs": [],
   "source": [
    "import pandas as pd\n",
    "import numpy as np\n",
    "from sklearn.svm import SVC\n",
    "from sklearn.metrics import roc_auc_score\n",
    "from matplotlib import pyplot as plt\n",
    "from sklearn import preprocessing\n",
    "from sklearn.model_selection import cross_validate\n",
    "from sklearn.model_selection import StratifiedKFold\n",
    "from sklearn.model_selection import train_test_split"
   ]
  },
  {
   "cell_type": "code",
   "execution_count": null,
   "metadata": {},
   "outputs": [],
   "source": [
    "SKF = StratifiedKFold(n_splits=5, shuffle=True)"
   ]
  },
  {
   "cell_type": "code",
   "execution_count": null,
   "metadata": {},
   "outputs": [],
   "source": [
    "#Sets the seed for generating training and validation datasets\n",
    "\n",
    "seed = 1602028882"
   ]
  },
  {
   "cell_type": "code",
   "execution_count": null,
   "metadata": {},
   "outputs": [],
   "source": [
    "#Various dataframes\n",
    "\n",
    "metatable_df = pd.read_csv(metatable_csv,low_memory=False)\n",
    "norm_gene_counts = pd.read_csv(norm_gene_counts_csv,low_memory=False)\n",
    "norm_df = pd.read_csv('../code/test.csv',low_memory=False)\n",
    "full_old_metatable_df = pd.read_csv(\"../data/metatable_with_viral_status.csv\",low_memory=False)\n",
    "old_metatable_df = full_old_metatable_df[['CZB_ID', 'viral_status']]\n",
    "gene_counts_df = pd.read_csv(gene_counts_csv,low_memory=False)"
   ]
  },
  {
   "cell_type": "code",
   "execution_count": null,
   "metadata": {},
   "outputs": [],
   "source": [
    "#Various numpy arrays\n",
    "\n",
    "sharedgenes = np.intersect1d(norm_df.columns[1:], norm_gene_counts.columns[1:])\n",
    "comb_counts = np.concatenate((norm_gene_counts[sharedgenes], norm_df[sharedgenes]))\n",
    "comb_SC2 = np.concatenate((metatable_df['viral_status'].values == 'sc2', old_metatable_df['viral_status'].values == 'SC2'))\n",
    "comb_data_src = np.concatenate((np.zeros(metatable_df.shape[0]), np.ones(old_metatable_df.shape[0])))\n",
    "comb_rpm = np.concatenate((metatable_df['sc2_rpm'], full_old_metatable_df['SC2_rpm']))"
   ]
  },
  {
   "cell_type": "code",
   "execution_count": null,
   "metadata": {},
   "outputs": [],
   "source": [
    "#Splits the data into training and validation datasets (70:30)\n",
    "\n",
    "[train_ind, test_ind] = train_test_split(np.arange(368), random_state = seed, test_size = 0.3, stratify = 2*comb_SC2+comb_data_src)\n",
    "\n",
    "TRcomb_counts = comb_counts[train_ind]\n",
    "TEcomb_counts = comb_counts[test_ind]\n",
    "TRcomb_SC2 = comb_SC2[train_ind]\n",
    "TEcomb_SC2 = comb_SC2[test_ind]"
   ]
  },
  {
   "cell_type": "code",
   "execution_count": null,
   "metadata": {},
   "outputs": [],
   "source": [
    "#Beginning of gene set generation code\n",
    "#Each run of the code identifies an additional gene.  Each new gene identified during one round is added to other_genes list prior to next round\n",
    "\n",
    "other_genes = []\n",
    "all_scores = []\n",
    "y = TRcomb_SC2\n",
    "for i in range(comb_counts.shape[1]):\n",
    "    X = np.concatenate((TRcomb_counts[:, [i]+other_genes], comb_rpm[train_ind].reshape(-1, 1)), axis = 1)\n",
    "    cur_scores = []\n",
    "    if not i%100: print(i)\n",
    "    clf = SVC(gamma = 'auto', probability = True)\n",
    "    score = cross_validate(clf, X, y, scoring='roc_auc', cv=SKF)\n",
    "    av = np.average(score['test_score'])\n",
    "    all_scores.append(av)"
   ]
  },
  {
   "cell_type": "code",
   "execution_count": null,
   "metadata": {},
   "outputs": [],
   "source": [
    "#For maximum time optimization, the number 13000 can be increased if 0 or 1 genes have already been selected.\n",
    "\n",
    "bar = np.sort(all_scores)[13000]\n",
    "x = 13000-15783\n",
    "barset = np.argpartition(all_scores, x)[x:]\n",
    "bar"
   ]
  },
  {
   "cell_type": "code",
   "execution_count": null,
   "metadata": {
    "scrolled": true
   },
   "outputs": [],
   "source": [
    "all_scores = []\n",
    "y = TRcomb_SC2\n",
    "\n",
    "for i in barset:\n",
    "    cur_scores = []\n",
    "    print(i)\n",
    "    for j in range(10):\n",
    "        X = np.concatenate((TRcomb_counts[:, [i]+other_genes], comb_rpm[train_ind].reshape(-1, 1)), axis = 1)\n",
    "        clf = SVC(gamma = 'auto', probability = True)\n",
    "        score = cross_validate(clf, X, y, scoring='roc_auc', cv=SKF)\n",
    "        av = np.average(score['test_score'])\n",
    "        if av < bar:\n",
    "            cur_scores = np.zeros(10)\n",
    "            break\n",
    "        cur_scores.append(av)\n",
    "    all_scores.append(cur_scores)"
   ]
  },
  {
   "cell_type": "code",
   "execution_count": null,
   "metadata": {},
   "outputs": [],
   "source": [
    "onlyset = np.nonzero(np.average(all_scores, axis = 1) != 0)\n",
    "barset[onlyset]"
   ]
  },
  {
   "cell_type": "code",
   "execution_count": null,
   "metadata": {},
   "outputs": [],
   "source": [
    "all_scores = []\n",
    "y = TRcomb_SC2\n",
    "for i in barset[onlyset]:\n",
    "    cur_scores = []\n",
    "    print(i)\n",
    "    for j in range(100):\n",
    "        X = np.concatenate((TRcomb_counts[:, [i]+other_genes], comb_rpm[train_ind].reshape(-1, 1)), axis = 1)\n",
    "        clf = SVC(gamma = 'auto', probability = True)\n",
    "        score = cross_validate(clf, X, y, scoring='roc_auc', cv=SKF)\n",
    "        av = np.average(score['test_score'])\n",
    "        cur_scores.append(av)\n",
    "    all_scores.append(cur_scores)\n",
    "\n"
   ]
  },
  {
   "cell_type": "code",
   "execution_count": null,
   "metadata": {},
   "outputs": [],
   "source": [
    "best = np.argpartition(np.average(all_scores, axis = 1), [-3,-2])[-3:] # This guarantees proper order at end\n"
   ]
  },
  {
   "cell_type": "code",
   "execution_count": null,
   "metadata": {},
   "outputs": [],
   "source": [
    "best_gene_index = barset[onlyset][best]\n",
    "best_gene_index"
   ]
  },
  {
   "cell_type": "code",
   "execution_count": null,
   "metadata": {},
   "outputs": [],
   "source": [
    "[gene_counts_df.loc[gene_counts_df['Unnamed: 0']==ID].gene_symbol.values[0] for ID in sharedgenes[best_gene_index]]\n"
   ]
  },
  {
   "cell_type": "code",
   "execution_count": null,
   "metadata": {},
   "outputs": [],
   "source": [
    "#End of gene set generation code"
   ]
  },
  {
   "cell_type": "code",
   "execution_count": null,
   "metadata": {},
   "outputs": [],
   "source": [
    "#Plug in indices generated by barset[onlyset] to find corresponding Ensemble IDs\n",
    "\n",
    "sharedgenes[best_gene_index]"
   ]
  },
  {
   "cell_type": "code",
   "execution_count": null,
   "metadata": {},
   "outputs": [],
   "source": [
    "#Plug in Ensemble IDs to find corresponding indices\n",
    "\n",
    "np.nonzero(sharedgenes == 'ENSG00000168743')"
   ]
  },
  {
   "cell_type": "code",
   "execution_count": null,
   "metadata": {},
   "outputs": [],
   "source": [
    "#Saves the patient IDs for the training and validation sets as CSVs\n",
    "\n",
    "#np.savetxt(\"train.csv\", np.concatenate((norm_gene_counts['Unnamed: 0'], norm_df['Unnamed: 0']))[train_ind], delimiter=\",\", fmt='%s')\n",
    "#np.savetxt(\"test.csv\", np.concatenate((norm_gene_counts['Unnamed: 0'], norm_df['Unnamed: 0']))[test_ind], delimiter=\",\", fmt='%s')"
   ]
  },
  {
   "cell_type": "code",
   "execution_count": null,
   "metadata": {
    "scrolled": true
   },
   "outputs": [],
   "source": [
    "#Cross-validation performance on 257-patient training dataset\n",
    "\n",
    "gene_set = []\n",
    "X = TRcomb_counts[:, gene_set]\n",
    "y = TRcomb_SC2\n",
    "full = []\n",
    "for j in range(10000):\n",
    "    clf = SVC(gamma = 'auto', probability = True)\n",
    "    score = cross_validate(clf, X, y, scoring='roc_auc', cv=SKF)\n",
    "    av = np.average(score['test_score'])\n",
    "    full.append(av)\n",
    "    #print(np.average(full), np.std(full)) #Uncomment to view live averages (useful if you think the average will converge early)\n",
    "    \n",
    "print(np.average(full), np.std(full))"
   ]
  },
  {
   "cell_type": "code",
   "execution_count": null,
   "metadata": {},
   "outputs": [],
   "source": [
    "#Cross-validation performance on 111-patient validation dataset\n",
    "\n",
    "gene_set = []\n",
    "X = TEcomb_counts[:, gene_set]\n",
    "y = TEcomb_SC2\n",
    "full = []\n",
    "for j in range(10000):\n",
    "    clf = SVC(gamma = 'auto', probability = True)\n",
    "    score = cross_validate(clf, X, y, scoring='roc_auc', cv=SKF)\n",
    "    av = np.average(score['test_score'])\n",
    "    full.append(av)\n",
    "    #print(np.average(full), np.std(full)) #Uncomment to view live averages (useful if you think the average will converge early)\n",
    "    \n",
    "print(np.average(full), np.std(full))"
   ]
  },
  {
   "cell_type": "code",
   "execution_count": null,
   "metadata": {},
   "outputs": [],
   "source": [
    "#Cross-validation performance on 257-patient training dataset\n",
    "\n",
    "gene_set = []\n",
    "X = np.concatenate((TRcomb_counts[:, gene_set], comb_rpm[train_ind].reshape(-1, 1)), axis = 1)\n",
    "y = TRcomb_SC2\n",
    "full = []\n",
    "for j in range(10000):\n",
    "    clf = SVC(gamma = 'auto', probability = True)\n",
    "    score = cross_validate(clf, X, y, scoring='roc_auc', cv=SKF)\n",
    "    av = np.average(score['test_score'])\n",
    "    full.append(av)\n",
    "    #print(np.average(full), np.std(full)) #Uncomment to view live averages (useful if you think the average will converge early)\n",
    "    \n",
    "print(np.average(full), np.std(full))"
   ]
  },
  {
   "cell_type": "code",
   "execution_count": null,
   "metadata": {},
   "outputs": [],
   "source": [
    "#Cross-validation performance on 111-patient validation dataset\n",
    "\n",
    "gene_set = []\n",
    "X = np.concatenate((TEcomb_counts[:, gene_set], comb_rpm[test_ind].reshape(-1, 1)), axis = 1)\n",
    "y = TEcomb_SC2\n",
    "full = []\n",
    "for j in range(10000):\n",
    "    clf = SVC(gamma = 'auto', probability = True)\n",
    "    score = cross_validate(clf, X, y, scoring='roc_auc', cv=SKF)\n",
    "    av = np.average(score['test_score'])\n",
    "    full.append(av)\n",
    "    #print(np.average(full), np.std(full)) #Uncomment to view live averages (useful if you think the average will converge early)\n",
    "    \n",
    "print(np.average(full), np.std(full))"
   ]
  },
  {
   "cell_type": "code",
   "execution_count": null,
   "metadata": {
    "scrolled": true
   },
   "outputs": [],
   "source": [
    "#Only SC2-rpm Cross-validation performance on 257-patient training dataset\n",
    "\n",
    "X = comb_rpm[train_ind].reshape(-1, 1)\n",
    "y = TRcomb_SC2\n",
    "full = []\n",
    "for j in range(10000):\n",
    "    clf = SVC(gamma = 'auto', probability = True)\n",
    "    score = cross_validate(clf, X, y, scoring='roc_auc', cv=SKF)\n",
    "    av = np.average(score['test_score'])\n",
    "    full.append(av)\n",
    "    #print(np.average(full), np.std(full)) #Uncomment to view live averages (useful if you think the average will converge early)\n",
    "    \n",
    "print(np.average(full), np.std(full))"
   ]
  },
  {
   "cell_type": "code",
   "execution_count": null,
   "metadata": {},
   "outputs": [],
   "source": [
    "#Only SC2-rpm Cross-validation performance on 111-patient validation dataset\n",
    "\n",
    "X = comb_rpm[test_ind].reshape(-1, 1)\n",
    "y = TEcomb_SC2\n",
    "full = []\n",
    "for j in range(10000):\n",
    "    clf = SVC(gamma = 'auto', probability = True)\n",
    "    score = cross_validate(clf, X, y, scoring='roc_auc', cv=SKF)\n",
    "    av = np.average(score['test_score'])\n",
    "    full.append(av)\n",
    "    #print(np.average(full), np.std(full)) #Uncomment to view live averages (useful if you think the average will converge early)\n",
    "    \n",
    "print(np.average(full), np.std(full))"
   ]
  },
  {
   "cell_type": "code",
   "execution_count": null,
   "metadata": {},
   "outputs": [],
   "source": []
  }
 ],
 "metadata": {
  "kernelspec": {
   "display_name": "Python 3",
   "language": "python",
   "name": "python3"
  },
  "language_info": {
   "codemirror_mode": {
    "name": "ipython",
    "version": 3
   },
   "file_extension": ".py",
   "mimetype": "text/x-python",
   "name": "python",
   "nbconvert_exporter": "python",
   "pygments_lexer": "ipython3",
   "version": "3.8.3"
  }
 },
 "nbformat": 4,
 "nbformat_minor": 4
}

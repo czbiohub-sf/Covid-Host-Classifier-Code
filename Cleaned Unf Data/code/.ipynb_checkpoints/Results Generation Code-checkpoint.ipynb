{
 "cells": [
  {
   "cell_type": "code",
   "execution_count": null,
   "metadata": {},
   "outputs": [],
   "source": [
    "import pandas as pd"
   ]
  },
  {
   "cell_type": "code",
   "execution_count": null,
   "metadata": {},
   "outputs": [],
   "source": [
    "#TRcomb_counts = the gene counts of the training data\n",
    "#TRcomb_SC2 = the SC2 diagnoses of the training data\n",
    "#TEcomb_counts = the gene counts of the testing data\n",
    "#TEcomb_SC2 = the SC2 diagnoses of the testing data"
   ]
  },
  {
   "cell_type": "code",
   "execution_count": null,
   "metadata": {},
   "outputs": [],
   "source": [
    "from sklearn.metrics import roc_auc_score\n",
    "from sklearn.metrics import plot_roc_curve\n",
    "from sklearn.metrics import auc\n",
    "from sklearn.model_selection import StratifiedKFold\n",
    "from sklearn.model_selection import cross_validate\n",
    "import numpy as np\n",
    "from sklearn.ensemble import RandomForestClassifier\n",
    "import matplotlib.pyplot as plt"
   ]
  },
  {
   "cell_type": "code",
   "execution_count": null,
   "metadata": {},
   "outputs": [],
   "source": [
    "SKF = StratifiedKFold(n_splits=5, shuffle=True)"
   ]
  },
  {
   "cell_type": "code",
   "execution_count": null,
   "metadata": {},
   "outputs": [],
   "source": [
    "#Cross-validation performance\n",
    "\n",
    "gene_set = []\n",
    "X = TRcomb_counts[gene_set]\n",
    "#If dimensions are the other way just use X = TRcomb_counts[:, gene_set]\n",
    "y = TRcomb_SC2\n",
    "full = []\n",
    "#Change the number 1 if you want averaging\n",
    "for j in range(1):\n",
    "    clf = RandomForestClassifier(n_estimators=10000)\n",
    "    score = cross_validate(clf, X, y, scoring='roc_auc', cv=SKF)\n",
    "    av = np.average(score['test_score'])\n",
    "    full.append(av)\n",
    "    #print(np.average(full), np.std(full)) #Uncomment to view live averages (useful if you think the average will converge early)\n",
    "    \n",
    "print(np.average(full))\n",
    "#print(np.average(full), np.std(full))"
   ]
  },
  {
   "cell_type": "code",
   "execution_count": null,
   "metadata": {},
   "outputs": [],
   "source": [
    "#Train on training set, test on testing set\n",
    "\n",
    "gene_set = []\n",
    "X = TRcomb_counts[gene_set]\n",
    "#If dimensions are the other way just use X = TRcomb_counts[:, gene_set]\n",
    "y = TRcomb_SC2\n",
    "\n",
    "clf = RandomForestClassifier(n_estimators=10000)\n",
    "clf.fit(X, y)\n",
    "\n",
    "roc_auc_score(clf.predict(TEcomb_counts[gene_set]), TEcomb_SC2)"
   ]
  },
  {
   "cell_type": "code",
   "execution_count": null,
   "metadata": {},
   "outputs": [],
   "source": [
    "gene_set = []\n",
    "X = TRcomb_counts[gene_set]\n",
    "#If dimensions are the other way just use X = TRcomb_counts[:, gene_set]\n",
    "y = TRcomb_SC2\n",
    "\n",
    "SKF = StratifiedKFold(n_splits=5, shuffle = True)\n",
    "clf = RandomForestClassifier(n_estimators=10000)\n",
    "\n",
    "tprs = []\n",
    "aucs = []\n",
    "mean_fpr = np.linspace(0, 1, 100)\n",
    "\n",
    "fig, ax = plt.subplots()\n",
    "\n",
    "for i, (train, test) in enumerate(SKF.split(X, y)):\n",
    "    clf.fit(X[train], y[train])\n",
    "    sing_curve = plot_roc_curve(clf, X[test], y[test], ax=ax)\n",
    "    interp_tpr = np.interp(mean_fpr, sing_curve.fpr, sing_curve.tpr)\n",
    "    interp_tpr[0] = 0.0\n",
    "    tprs.append(interp_tpr)\n",
    "    aucs.append(sing_curve.roc_auc)\n",
    "    sing_curve.line_.remove()\n",
    "\n",
    "ax.plot([0, 1], [0, 1], linestyle='--', lw=2, color='navy', alpha=0.8)\n",
    "\n",
    "mean_tpr = np.mean(tprs, axis=0)\n",
    "mean_tpr[-1] = 1.0\n",
    "mean_auc = auc(mean_fpr, mean_tpr)\n",
    "std_auc = np.std(aucs)\n",
    "ax.plot(mean_fpr, mean_tpr, color='darkorange', label=r'Mean ROC (AUC = %0.2f)' % (mean_auc), lw=2, alpha=0.8)\n",
    "\n",
    "\n",
    "\n",
    "\n",
    "#Comment these lines if you don't want error regions\n",
    "std_tpr = np.std(tprs, axis=0)\n",
    "tprs_upper = np.minimum(mean_tpr + std_tpr, 1)\n",
    "tprs_lower = np.maximum(mean_tpr - std_tpr, 0)\n",
    "ax.fill_between(mean_fpr, tprs_lower, tprs_upper, color='grey', alpha=.2,\n",
    "                label=r'$\\pm$ 1 std. dev.')\n",
    "#Comment these lines if you don't want error regions\n",
    "\n",
    "\n",
    "\n",
    "\n",
    "ax.set(xlim=[-0.05, 1.05], ylim=[-0.05, 1.05], title=\"Title here\")\n",
    "ax.legend(loc=\"lower right\")\n",
    "plt.show()"
   ]
  }
 ],
 "metadata": {
  "kernelspec": {
   "display_name": "Python 3",
   "language": "python",
   "name": "python3"
  },
  "language_info": {
   "codemirror_mode": {
    "name": "ipython",
    "version": 3
   },
   "file_extension": ".py",
   "mimetype": "text/x-python",
   "name": "python",
   "nbconvert_exporter": "python",
   "pygments_lexer": "ipython3",
   "version": "3.8.3"
  }
 },
 "nbformat": 4,
 "nbformat_minor": 4
}

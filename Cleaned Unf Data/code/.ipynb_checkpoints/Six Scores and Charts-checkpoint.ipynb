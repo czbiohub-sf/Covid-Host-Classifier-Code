{
 "cells": [
  {
   "cell_type": "code",
   "execution_count": 1,
   "metadata": {},
   "outputs": [],
   "source": [
    "import pandas as pd\n",
    "import numpy as np\n",
    "from sklearn.svm import SVC\n",
    "from sklearn.metrics import roc_auc_score\n",
    "from matplotlib import pyplot as plt\n",
    "from sklearn import preprocessing\n",
    "from sklearn.model_selection import cross_validate\n",
    "from sklearn.model_selection import StratifiedKFold\n",
    "from sklearn.model_selection import train_test_split"
   ]
  },
  {
   "cell_type": "code",
   "execution_count": 2,
   "metadata": {},
   "outputs": [],
   "source": [
    "first_gene_counts_df = pd.read_csv(\"../data/swab_gene_counts.csv\",low_memory=False).T\n",
    "first_headers = first_gene_counts_df.iloc[0]\n",
    "first_gene_counts_df = first_gene_counts_df[1:]\n",
    "first_gene_counts_df.columns = first_headers"
   ]
  },
  {
   "cell_type": "code",
   "execution_count": 3,
   "metadata": {},
   "outputs": [],
   "source": [
    "second_gene_counts_df = pd.read_csv(\"../data/Adult-validation-cohort/adult_validation_swab_gene_counts.csv\",low_memory=False).T\n",
    "second_headers = second_gene_counts_df.iloc[0]\n",
    "second_gene_counts_df = second_gene_counts_df[1:]\n",
    "second_gene_counts_df.columns = second_headers\n",
    "second_gene_counts_df = second_gene_counts_df.drop(['gene_symbol'])"
   ]
  },
  {
   "cell_type": "code",
   "execution_count": 4,
   "metadata": {},
   "outputs": [],
   "source": [
    "third_gene_counts_df = pd.read_csv('GSE152075_raw_counts_GEO.txt', sep = ' ').T"
   ]
  },
  {
   "cell_type": "code",
   "execution_count": 5,
   "metadata": {},
   "outputs": [
    {
     "data": {
      "text/html": [
       "<div>\n",
       "<style scoped>\n",
       "    .dataframe tbody tr th:only-of-type {\n",
       "        vertical-align: middle;\n",
       "    }\n",
       "\n",
       "    .dataframe tbody tr th {\n",
       "        vertical-align: top;\n",
       "    }\n",
       "\n",
       "    .dataframe thead th {\n",
       "        text-align: right;\n",
       "    }\n",
       "</style>\n",
       "<table border=\"1\" class=\"dataframe\">\n",
       "  <thead>\n",
       "    <tr style=\"text-align: right;\">\n",
       "      <th></th>\n",
       "      <th>A1BG</th>\n",
       "      <th>A1CF</th>\n",
       "      <th>A2M</th>\n",
       "      <th>A2ML1</th>\n",
       "      <th>A2MP1</th>\n",
       "      <th>A3GALT2</th>\n",
       "      <th>A4GALT</th>\n",
       "      <th>A4GNT</th>\n",
       "      <th>AAAS</th>\n",
       "      <th>AACS</th>\n",
       "      <th>...</th>\n",
       "      <th>ZWINT</th>\n",
       "      <th>ZXDA</th>\n",
       "      <th>ZXDB</th>\n",
       "      <th>ZXDC</th>\n",
       "      <th>ZYG11A</th>\n",
       "      <th>ZYG11AP1</th>\n",
       "      <th>ZYG11B</th>\n",
       "      <th>ZYX</th>\n",
       "      <th>ZYXP1</th>\n",
       "      <th>ZZEF1</th>\n",
       "    </tr>\n",
       "  </thead>\n",
       "  <tbody>\n",
       "    <tr>\n",
       "      <th>POS_001</th>\n",
       "      <td>0</td>\n",
       "      <td>0</td>\n",
       "      <td>69</td>\n",
       "      <td>2</td>\n",
       "      <td>0</td>\n",
       "      <td>0</td>\n",
       "      <td>0</td>\n",
       "      <td>0</td>\n",
       "      <td>4</td>\n",
       "      <td>2</td>\n",
       "      <td>...</td>\n",
       "      <td>1</td>\n",
       "      <td>0</td>\n",
       "      <td>3</td>\n",
       "      <td>5</td>\n",
       "      <td>0</td>\n",
       "      <td>0</td>\n",
       "      <td>8</td>\n",
       "      <td>14</td>\n",
       "      <td>0</td>\n",
       "      <td>13</td>\n",
       "    </tr>\n",
       "    <tr>\n",
       "      <th>POS_002</th>\n",
       "      <td>1</td>\n",
       "      <td>0</td>\n",
       "      <td>36</td>\n",
       "      <td>0</td>\n",
       "      <td>0</td>\n",
       "      <td>0</td>\n",
       "      <td>11</td>\n",
       "      <td>19</td>\n",
       "      <td>0</td>\n",
       "      <td>33</td>\n",
       "      <td>...</td>\n",
       "      <td>0</td>\n",
       "      <td>0</td>\n",
       "      <td>0</td>\n",
       "      <td>0</td>\n",
       "      <td>0</td>\n",
       "      <td>0</td>\n",
       "      <td>40</td>\n",
       "      <td>33</td>\n",
       "      <td>0</td>\n",
       "      <td>46</td>\n",
       "    </tr>\n",
       "    <tr>\n",
       "      <th>POS_003</th>\n",
       "      <td>0</td>\n",
       "      <td>2</td>\n",
       "      <td>84</td>\n",
       "      <td>0</td>\n",
       "      <td>0</td>\n",
       "      <td>0</td>\n",
       "      <td>2</td>\n",
       "      <td>0</td>\n",
       "      <td>0</td>\n",
       "      <td>2</td>\n",
       "      <td>...</td>\n",
       "      <td>12</td>\n",
       "      <td>12</td>\n",
       "      <td>9</td>\n",
       "      <td>10</td>\n",
       "      <td>0</td>\n",
       "      <td>0</td>\n",
       "      <td>21</td>\n",
       "      <td>20</td>\n",
       "      <td>0</td>\n",
       "      <td>39</td>\n",
       "    </tr>\n",
       "    <tr>\n",
       "      <th>POS_004</th>\n",
       "      <td>0</td>\n",
       "      <td>0</td>\n",
       "      <td>42</td>\n",
       "      <td>0</td>\n",
       "      <td>0</td>\n",
       "      <td>0</td>\n",
       "      <td>0</td>\n",
       "      <td>0</td>\n",
       "      <td>0</td>\n",
       "      <td>0</td>\n",
       "      <td>...</td>\n",
       "      <td>0</td>\n",
       "      <td>0</td>\n",
       "      <td>3</td>\n",
       "      <td>0</td>\n",
       "      <td>0</td>\n",
       "      <td>0</td>\n",
       "      <td>9</td>\n",
       "      <td>0</td>\n",
       "      <td>0</td>\n",
       "      <td>5</td>\n",
       "    </tr>\n",
       "    <tr>\n",
       "      <th>POS_005</th>\n",
       "      <td>18</td>\n",
       "      <td>0</td>\n",
       "      <td>83</td>\n",
       "      <td>3</td>\n",
       "      <td>21</td>\n",
       "      <td>0</td>\n",
       "      <td>2</td>\n",
       "      <td>0</td>\n",
       "      <td>0</td>\n",
       "      <td>27</td>\n",
       "      <td>...</td>\n",
       "      <td>33</td>\n",
       "      <td>0</td>\n",
       "      <td>11</td>\n",
       "      <td>5</td>\n",
       "      <td>0</td>\n",
       "      <td>0</td>\n",
       "      <td>44</td>\n",
       "      <td>32</td>\n",
       "      <td>0</td>\n",
       "      <td>99</td>\n",
       "    </tr>\n",
       "    <tr>\n",
       "      <th>...</th>\n",
       "      <td>...</td>\n",
       "      <td>...</td>\n",
       "      <td>...</td>\n",
       "      <td>...</td>\n",
       "      <td>...</td>\n",
       "      <td>...</td>\n",
       "      <td>...</td>\n",
       "      <td>...</td>\n",
       "      <td>...</td>\n",
       "      <td>...</td>\n",
       "      <td>...</td>\n",
       "      <td>...</td>\n",
       "      <td>...</td>\n",
       "      <td>...</td>\n",
       "      <td>...</td>\n",
       "      <td>...</td>\n",
       "      <td>...</td>\n",
       "      <td>...</td>\n",
       "      <td>...</td>\n",
       "      <td>...</td>\n",
       "      <td>...</td>\n",
       "    </tr>\n",
       "    <tr>\n",
       "      <th>NEG_059</th>\n",
       "      <td>1</td>\n",
       "      <td>0</td>\n",
       "      <td>45</td>\n",
       "      <td>3</td>\n",
       "      <td>1</td>\n",
       "      <td>1</td>\n",
       "      <td>20</td>\n",
       "      <td>0</td>\n",
       "      <td>14</td>\n",
       "      <td>19</td>\n",
       "      <td>...</td>\n",
       "      <td>2</td>\n",
       "      <td>3</td>\n",
       "      <td>13</td>\n",
       "      <td>17</td>\n",
       "      <td>3</td>\n",
       "      <td>0</td>\n",
       "      <td>21</td>\n",
       "      <td>24</td>\n",
       "      <td>0</td>\n",
       "      <td>56</td>\n",
       "    </tr>\n",
       "    <tr>\n",
       "      <th>NEG_060</th>\n",
       "      <td>0</td>\n",
       "      <td>0</td>\n",
       "      <td>0</td>\n",
       "      <td>2</td>\n",
       "      <td>0</td>\n",
       "      <td>0</td>\n",
       "      <td>4</td>\n",
       "      <td>0</td>\n",
       "      <td>13</td>\n",
       "      <td>18</td>\n",
       "      <td>...</td>\n",
       "      <td>2</td>\n",
       "      <td>7</td>\n",
       "      <td>17</td>\n",
       "      <td>3</td>\n",
       "      <td>0</td>\n",
       "      <td>0</td>\n",
       "      <td>33</td>\n",
       "      <td>30</td>\n",
       "      <td>0</td>\n",
       "      <td>56</td>\n",
       "    </tr>\n",
       "    <tr>\n",
       "      <th>NEG_062</th>\n",
       "      <td>0</td>\n",
       "      <td>0</td>\n",
       "      <td>10</td>\n",
       "      <td>0</td>\n",
       "      <td>0</td>\n",
       "      <td>0</td>\n",
       "      <td>3</td>\n",
       "      <td>0</td>\n",
       "      <td>10</td>\n",
       "      <td>22</td>\n",
       "      <td>...</td>\n",
       "      <td>3</td>\n",
       "      <td>6</td>\n",
       "      <td>26</td>\n",
       "      <td>37</td>\n",
       "      <td>1</td>\n",
       "      <td>0</td>\n",
       "      <td>47</td>\n",
       "      <td>15</td>\n",
       "      <td>0</td>\n",
       "      <td>48</td>\n",
       "    </tr>\n",
       "    <tr>\n",
       "      <th>NEG_063</th>\n",
       "      <td>0</td>\n",
       "      <td>0</td>\n",
       "      <td>0</td>\n",
       "      <td>47</td>\n",
       "      <td>0</td>\n",
       "      <td>0</td>\n",
       "      <td>6</td>\n",
       "      <td>0</td>\n",
       "      <td>0</td>\n",
       "      <td>16</td>\n",
       "      <td>...</td>\n",
       "      <td>0</td>\n",
       "      <td>16</td>\n",
       "      <td>27</td>\n",
       "      <td>0</td>\n",
       "      <td>20</td>\n",
       "      <td>0</td>\n",
       "      <td>79</td>\n",
       "      <td>9</td>\n",
       "      <td>0</td>\n",
       "      <td>13</td>\n",
       "    </tr>\n",
       "    <tr>\n",
       "      <th>NEG_065</th>\n",
       "      <td>1</td>\n",
       "      <td>2</td>\n",
       "      <td>54</td>\n",
       "      <td>2</td>\n",
       "      <td>0</td>\n",
       "      <td>0</td>\n",
       "      <td>0</td>\n",
       "      <td>0</td>\n",
       "      <td>1</td>\n",
       "      <td>13</td>\n",
       "      <td>...</td>\n",
       "      <td>0</td>\n",
       "      <td>5</td>\n",
       "      <td>27</td>\n",
       "      <td>8</td>\n",
       "      <td>0</td>\n",
       "      <td>0</td>\n",
       "      <td>35</td>\n",
       "      <td>4</td>\n",
       "      <td>0</td>\n",
       "      <td>37</td>\n",
       "    </tr>\n",
       "  </tbody>\n",
       "</table>\n",
       "<p>484 rows × 35784 columns</p>\n",
       "</div>"
      ],
      "text/plain": [
       "         A1BG  A1CF  A2M  A2ML1  A2MP1  A3GALT2  A4GALT  A4GNT  AAAS  AACS  \\\n",
       "POS_001     0     0   69      2      0        0       0      0     4     2   \n",
       "POS_002     1     0   36      0      0        0      11     19     0    33   \n",
       "POS_003     0     2   84      0      0        0       2      0     0     2   \n",
       "POS_004     0     0   42      0      0        0       0      0     0     0   \n",
       "POS_005    18     0   83      3     21        0       2      0     0    27   \n",
       "...       ...   ...  ...    ...    ...      ...     ...    ...   ...   ...   \n",
       "NEG_059     1     0   45      3      1        1      20      0    14    19   \n",
       "NEG_060     0     0    0      2      0        0       4      0    13    18   \n",
       "NEG_062     0     0   10      0      0        0       3      0    10    22   \n",
       "NEG_063     0     0    0     47      0        0       6      0     0    16   \n",
       "NEG_065     1     2   54      2      0        0       0      0     1    13   \n",
       "\n",
       "         ...  ZWINT  ZXDA  ZXDB  ZXDC  ZYG11A  ZYG11AP1  ZYG11B  ZYX  ZYXP1  \\\n",
       "POS_001  ...      1     0     3     5       0         0       8   14      0   \n",
       "POS_002  ...      0     0     0     0       0         0      40   33      0   \n",
       "POS_003  ...     12    12     9    10       0         0      21   20      0   \n",
       "POS_004  ...      0     0     3     0       0         0       9    0      0   \n",
       "POS_005  ...     33     0    11     5       0         0      44   32      0   \n",
       "...      ...    ...   ...   ...   ...     ...       ...     ...  ...    ...   \n",
       "NEG_059  ...      2     3    13    17       3         0      21   24      0   \n",
       "NEG_060  ...      2     7    17     3       0         0      33   30      0   \n",
       "NEG_062  ...      3     6    26    37       1         0      47   15      0   \n",
       "NEG_063  ...      0    16    27     0      20         0      79    9      0   \n",
       "NEG_065  ...      0     5    27     8       0         0      35    4      0   \n",
       "\n",
       "         ZZEF1  \n",
       "POS_001     13  \n",
       "POS_002     46  \n",
       "POS_003     39  \n",
       "POS_004      5  \n",
       "POS_005     99  \n",
       "...        ...  \n",
       "NEG_059     56  \n",
       "NEG_060     56  \n",
       "NEG_062     48  \n",
       "NEG_063     13  \n",
       "NEG_065     37  \n",
       "\n",
       "[484 rows x 35784 columns]"
      ]
     },
     "execution_count": 5,
     "metadata": {},
     "output_type": "execute_result"
    }
   ],
   "source": [
    "third_gene_counts_df"
   ]
  },
  {
   "cell_type": "code",
   "execution_count": 7,
   "metadata": {},
   "outputs": [
    {
     "ename": "NameError",
     "evalue": "name 'ENSG_trans' is not defined",
     "output_type": "error",
     "traceback": [
      "\u001b[0;31m---------------------------------------------------------------------------\u001b[0m",
      "\u001b[0;31mNameError\u001b[0m                                 Traceback (most recent call last)",
      "\u001b[0;32m<ipython-input-7-87fa558d8363>\u001b[0m in \u001b[0;36m<module>\u001b[0;34m\u001b[0m\n\u001b[0;32m----> 1\u001b[0;31m \u001b[0mnp\u001b[0m\u001b[0;34m.\u001b[0m\u001b[0msum\u001b[0m\u001b[0;34m(\u001b[0m\u001b[0mnp\u001b[0m\u001b[0;34m.\u001b[0m\u001b[0msum\u001b[0m\u001b[0;34m(\u001b[0m\u001b[0mthird_gene_counts_df\u001b[0m\u001b[0;34m[\u001b[0m\u001b[0mENSG_trans\u001b[0m\u001b[0;34m[\u001b[0m\u001b[0msharedgenes\u001b[0m\u001b[0;34m]\u001b[0m\u001b[0;34m.\u001b[0m\u001b[0mvalues\u001b[0m\u001b[0;34m[\u001b[0m\u001b[0;36m0\u001b[0m\u001b[0;34m]\u001b[0m\u001b[0;34m]\u001b[0m \u001b[0;34m==\u001b[0m \u001b[0;36m0\u001b[0m\u001b[0;34m)\u001b[0m \u001b[0;34m==\u001b[0m \u001b[0;36m0\u001b[0m\u001b[0;34m)\u001b[0m\u001b[0;34m\u001b[0m\u001b[0;34m\u001b[0m\u001b[0m\n\u001b[0m",
      "\u001b[0;31mNameError\u001b[0m: name 'ENSG_trans' is not defined"
     ]
    }
   ],
   "source": [
    "np.sum(np.sum(third_gene_counts_df[ENSG_trans[sharedgenes].values[0]] == 0) == 0)"
   ]
  },
  {
   "cell_type": "code",
   "execution_count": 356,
   "metadata": {},
   "outputs": [
    {
     "data": {
      "text/plain": [
       "(484, 15623)"
      ]
     },
     "execution_count": 356,
     "metadata": {},
     "output_type": "execute_result"
    }
   ],
   "source": [
    "R_third_gene_counts.shape"
   ]
  },
  {
   "cell_type": "code",
   "execution_count": 4,
   "metadata": {},
   "outputs": [
    {
     "data": {
      "text/plain": [
       "(15900,)"
      ]
     },
     "execution_count": 4,
     "metadata": {},
     "output_type": "execute_result"
    }
   ],
   "source": [
    "first_gene_counts_df.columns.shape"
   ]
  },
  {
   "cell_type": "code",
   "execution_count": 5,
   "metadata": {},
   "outputs": [
    {
     "data": {
      "text/plain": [
       "(16022,)"
      ]
     },
     "execution_count": 5,
     "metadata": {},
     "output_type": "execute_result"
    }
   ],
   "source": [
    "second_gene_counts_df.columns.shape"
   ]
  },
  {
   "cell_type": "code",
   "execution_count": 10,
   "metadata": {},
   "outputs": [
    {
     "data": {
      "text/plain": [
       "(35784,)"
      ]
     },
     "execution_count": 10,
     "metadata": {},
     "output_type": "execute_result"
    }
   ],
   "source": [
    "third_gene_counts_df.columns.shape"
   ]
  },
  {
   "cell_type": "code",
   "execution_count": 15,
   "metadata": {},
   "outputs": [
    {
     "data": {
      "text/plain": [
       "(15623,)"
      ]
     },
     "execution_count": 15,
     "metadata": {},
     "output_type": "execute_result"
    }
   ],
   "source": [
    "sharedgenes.shape"
   ]
  },
  {
   "cell_type": "code",
   "execution_count": 16,
   "metadata": {},
   "outputs": [
    {
     "data": {
      "text/plain": [
       "array(['A1BG', 'A1CF', 'A2M', ..., 'ZYG11B', 'ZYX', 'ZZEF1'], dtype=object)"
      ]
     },
     "execution_count": 16,
     "metadata": {},
     "output_type": "execute_result"
    }
   ],
   "source": [
    "ENSG_trans[sharedgenes].values[0]"
   ]
  },
  {
   "cell_type": "code",
   "execution_count": 17,
   "metadata": {},
   "outputs": [],
   "source": [
    "third_gene_counts_df[ENSG_trans[sharedgenes].values[0]].T.to_csv('trimmed_UK_data.csv')"
   ]
  },
  {
   "cell_type": "code",
   "execution_count": 5,
   "metadata": {},
   "outputs": [],
   "source": [
    "ENSG_trans = pd.read_csv('../annotation/gene2name.txt',low_memory=False, index_col = 0, header = None, sep = '\\t').T\n",
    "sharedgenes = np.intersect1d(first_gene_counts_df.columns[1:], second_gene_counts_df.columns[1:])\n",
    "#sharedgenes = sharedgenes[ENSG_trans[sharedgenes].values[0].argsort()[np.searchsorted(ENSG_trans[sharedgenes].values[0], np.intersect1d(third_gene_counts_df.columns, ENSG_trans[sharedgenes].values[0]), sorter = ENSG_trans[sharedgenes].values[0].argsort())]]"
   ]
  },
  {
   "cell_type": "code",
   "execution_count": 6,
   "metadata": {},
   "outputs": [
    {
     "ename": "KeyError",
     "evalue": "\"['AC027644.4', 'ANKRD20A3', 'AC004706.3', 'AC069288.1', 'LINC00514', 'AC235565.2', 'C11orf74', 'SPDYE8P', 'AC022137.3', 'AC040160.1', 'AL049629.2', 'TPTEP2-CSNK1E', 'NOTCH2NLB', 'H3C2', 'GVQW2', 'SMIM41', 'AC020929.1', 'AC008397.2', 'AL590764.2', 'AC104472.3', 'C21orf59-TCP10L', 'S1PR2', 'AC010197.2', 'AP001267.5', 'VSIG10L2', 'AC093512.2', 'AC116366.3', 'EEF1AKMT4', 'AC009879.3', 'AC004151.1', 'AC022966.1', 'DERPC', 'AC022506.1', 'NOTCH2NLC', 'FO393400.1', 'AC091167.7', 'AC114267.1', 'AC139491.7', 'AL355312.6', 'AP002512.3', 'AL022238.4', 'AL117339.5', 'AP001453.5', 'AC091230.1', 'AC087721.2', 'AC055839.2', 'AL022318.4', 'SPDYE11', 'ELMSAN1', 'AL133353.2', 'AC093827.5', 'AC015802.6', 'AL135905.2', 'AC008676.3', 'C5orf30', 'DHH', 'AC112128.1', 'SCO2', 'BX255925.3', 'ICK', 'AP000812.5', 'AC000093.1', 'CXorf40B', 'GDF5OS', 'UPK3BL2', 'AL445524.2', 'AP003071.5', 'AL139142.2', 'AC004922.1', 'SLURP2', 'PRR33', 'H3C3', 'AC097634.4', 'AL358472.6', 'AC068946.2', 'AC022414.1', 'AC098582.1', 'AC108488.2', 'AC004687.2', 'AC012213.5', 'AL160272.2', 'ADPRHL2', 'AL121899.2', 'AC092718.8', 'BX664615.2', 'AC010422.8', 'AC021066.1', 'AL159141.1', 'AC008581.2', 'AL163636.3', 'FAM49B', 'AC242842.3', 'ACPP', 'AC072022.2', 'Z84488.2', 'AC026740.3', 'AC008770.4', 'AP000944.5', 'AL031315.1', 'AC004593.2', 'SPDYE9P', 'ANKRD20A4', 'C2orf81', 'AC092279.1', 'AL049834.1', 'AC002316.1', 'DUS4L-BCAP29', 'AC118553.2', 'AC253572.1', 'AL358113.1', 'AC114490.3', 'AC013271.1', 'AC008870.1', 'AC008397.1', 'AC005747.1', 'AC073111.4', 'AC005261.1', 'CXorf40A', 'AC000120.4', 'AC022415.3', 'AC018362.3', 'BX470111.1', 'AC025287.4', 'MARC2', 'SCYGR4', 'AC026316.4', 'CDR1', 'AC131160.1', 'AC097636.2', 'AC021087.5', 'H3-2', 'AL441992.3', 'ANKRD20A2', 'AC090517.4', 'FAM49A', 'AC006064.6', 'AL160269.1', 'AP001931.2', 'MARC1', 'AL358075.4', 'AC021092.2', 'AC009412.1', 'AC008012.1', 'AC007326.4', 'LYNX1-SLURP2', 'AC118281.1', 'AC067752.1', 'SPDYE21P', 'AC068831.8'] not in index\"",
     "output_type": "error",
     "traceback": [
      "\u001b[0;31m---------------------------------------------------------------------------\u001b[0m",
      "\u001b[0;31mKeyError\u001b[0m                                  Traceback (most recent call last)",
      "\u001b[0;32m<ipython-input-6-95c67318c499>\u001b[0m in \u001b[0;36m<module>\u001b[0;34m\u001b[0m\n\u001b[1;32m      1\u001b[0m \u001b[0mTSS_first_gene_counts\u001b[0m \u001b[0;34m=\u001b[0m \u001b[0;34m(\u001b[0m\u001b[0mnp\u001b[0m\u001b[0;34m.\u001b[0m\u001b[0mdivide\u001b[0m\u001b[0;34m(\u001b[0m\u001b[0mfirst_gene_counts_df\u001b[0m\u001b[0;34m[\u001b[0m\u001b[0msharedgenes\u001b[0m\u001b[0;34m]\u001b[0m\u001b[0;34m.\u001b[0m\u001b[0mT\u001b[0m\u001b[0;34m,\u001b[0m \u001b[0mnp\u001b[0m\u001b[0;34m.\u001b[0m\u001b[0msum\u001b[0m\u001b[0;34m(\u001b[0m\u001b[0mfirst_gene_counts_df\u001b[0m\u001b[0;34m[\u001b[0m\u001b[0msharedgenes\u001b[0m\u001b[0;34m]\u001b[0m\u001b[0;34m,\u001b[0m \u001b[0maxis\u001b[0m \u001b[0;34m=\u001b[0m \u001b[0;36m1\u001b[0m\u001b[0;34m)\u001b[0m\u001b[0;34m)\u001b[0m\u001b[0;34m*\u001b[0m\u001b[0msharedgenes\u001b[0m\u001b[0;34m.\u001b[0m\u001b[0mshape\u001b[0m\u001b[0;34m[\u001b[0m\u001b[0;36m0\u001b[0m\u001b[0;34m]\u001b[0m\u001b[0;34m)\u001b[0m\u001b[0;34m.\u001b[0m\u001b[0mT\u001b[0m\u001b[0;34m.\u001b[0m\u001b[0mvalues\u001b[0m\u001b[0;34m.\u001b[0m\u001b[0mastype\u001b[0m\u001b[0;34m(\u001b[0m\u001b[0mfloat\u001b[0m\u001b[0;34m)\u001b[0m\u001b[0;34m\u001b[0m\u001b[0;34m\u001b[0m\u001b[0m\n\u001b[1;32m      2\u001b[0m \u001b[0mTSS_second_gene_counts\u001b[0m \u001b[0;34m=\u001b[0m \u001b[0;34m(\u001b[0m\u001b[0mnp\u001b[0m\u001b[0;34m.\u001b[0m\u001b[0mdivide\u001b[0m\u001b[0;34m(\u001b[0m\u001b[0msecond_gene_counts_df\u001b[0m\u001b[0;34m[\u001b[0m\u001b[0msharedgenes\u001b[0m\u001b[0;34m]\u001b[0m\u001b[0;34m.\u001b[0m\u001b[0mT\u001b[0m\u001b[0;34m,\u001b[0m \u001b[0mnp\u001b[0m\u001b[0;34m.\u001b[0m\u001b[0msum\u001b[0m\u001b[0;34m(\u001b[0m\u001b[0msecond_gene_counts_df\u001b[0m\u001b[0;34m[\u001b[0m\u001b[0msharedgenes\u001b[0m\u001b[0;34m]\u001b[0m\u001b[0;34m,\u001b[0m \u001b[0maxis\u001b[0m \u001b[0;34m=\u001b[0m \u001b[0;36m1\u001b[0m\u001b[0;34m)\u001b[0m\u001b[0;34m)\u001b[0m\u001b[0;34m*\u001b[0m\u001b[0msharedgenes\u001b[0m\u001b[0;34m.\u001b[0m\u001b[0mshape\u001b[0m\u001b[0;34m[\u001b[0m\u001b[0;36m0\u001b[0m\u001b[0;34m]\u001b[0m\u001b[0;34m)\u001b[0m\u001b[0;34m.\u001b[0m\u001b[0mT\u001b[0m\u001b[0;34m.\u001b[0m\u001b[0mvalues\u001b[0m\u001b[0;34m.\u001b[0m\u001b[0mastype\u001b[0m\u001b[0;34m(\u001b[0m\u001b[0mfloat\u001b[0m\u001b[0;34m)\u001b[0m\u001b[0;34m\u001b[0m\u001b[0;34m\u001b[0m\u001b[0m\n\u001b[0;32m----> 3\u001b[0;31m \u001b[0mTSS_third_gene_counts\u001b[0m \u001b[0;34m=\u001b[0m \u001b[0;34m(\u001b[0m\u001b[0mnp\u001b[0m\u001b[0;34m.\u001b[0m\u001b[0mdivide\u001b[0m\u001b[0;34m(\u001b[0m\u001b[0mthird_gene_counts_df\u001b[0m\u001b[0;34m[\u001b[0m\u001b[0mENSG_trans\u001b[0m\u001b[0;34m[\u001b[0m\u001b[0msharedgenes\u001b[0m\u001b[0;34m]\u001b[0m\u001b[0;34m.\u001b[0m\u001b[0mvalues\u001b[0m\u001b[0;34m[\u001b[0m\u001b[0;36m0\u001b[0m\u001b[0;34m]\u001b[0m\u001b[0;34m]\u001b[0m\u001b[0;34m.\u001b[0m\u001b[0mT\u001b[0m\u001b[0;34m,\u001b[0m \u001b[0mnp\u001b[0m\u001b[0;34m.\u001b[0m\u001b[0msum\u001b[0m\u001b[0;34m(\u001b[0m\u001b[0mthird_gene_counts_df\u001b[0m\u001b[0;34m[\u001b[0m\u001b[0mENSG_trans\u001b[0m\u001b[0;34m[\u001b[0m\u001b[0msharedgenes\u001b[0m\u001b[0;34m]\u001b[0m\u001b[0;34m.\u001b[0m\u001b[0mvalues\u001b[0m\u001b[0;34m[\u001b[0m\u001b[0;36m0\u001b[0m\u001b[0;34m]\u001b[0m\u001b[0;34m]\u001b[0m\u001b[0;34m,\u001b[0m \u001b[0maxis\u001b[0m \u001b[0;34m=\u001b[0m \u001b[0;36m1\u001b[0m\u001b[0;34m)\u001b[0m\u001b[0;34m)\u001b[0m\u001b[0;34m*\u001b[0m\u001b[0msharedgenes\u001b[0m\u001b[0;34m.\u001b[0m\u001b[0mshape\u001b[0m\u001b[0;34m[\u001b[0m\u001b[0;36m0\u001b[0m\u001b[0;34m]\u001b[0m\u001b[0;34m)\u001b[0m\u001b[0;34m.\u001b[0m\u001b[0mT\u001b[0m\u001b[0;34m.\u001b[0m\u001b[0mvalues\u001b[0m\u001b[0;34m.\u001b[0m\u001b[0mastype\u001b[0m\u001b[0;34m(\u001b[0m\u001b[0mfloat\u001b[0m\u001b[0;34m)\u001b[0m\u001b[0;34m\u001b[0m\u001b[0;34m\u001b[0m\u001b[0m\n\u001b[0m",
      "\u001b[0;32m/opt/anaconda3/lib/python3.6/site-packages/pandas/core/frame.py\u001b[0m in \u001b[0;36m__getitem__\u001b[0;34m(self, key)\u001b[0m\n\u001b[1;32m   2910\u001b[0m             \u001b[0;32mif\u001b[0m \u001b[0mis_iterator\u001b[0m\u001b[0;34m(\u001b[0m\u001b[0mkey\u001b[0m\u001b[0;34m)\u001b[0m\u001b[0;34m:\u001b[0m\u001b[0;34m\u001b[0m\u001b[0;34m\u001b[0m\u001b[0m\n\u001b[1;32m   2911\u001b[0m                 \u001b[0mkey\u001b[0m \u001b[0;34m=\u001b[0m \u001b[0mlist\u001b[0m\u001b[0;34m(\u001b[0m\u001b[0mkey\u001b[0m\u001b[0;34m)\u001b[0m\u001b[0;34m\u001b[0m\u001b[0;34m\u001b[0m\u001b[0m\n\u001b[0;32m-> 2912\u001b[0;31m             \u001b[0mindexer\u001b[0m \u001b[0;34m=\u001b[0m \u001b[0mself\u001b[0m\u001b[0;34m.\u001b[0m\u001b[0mloc\u001b[0m\u001b[0;34m.\u001b[0m\u001b[0m_get_listlike_indexer\u001b[0m\u001b[0;34m(\u001b[0m\u001b[0mkey\u001b[0m\u001b[0;34m,\u001b[0m \u001b[0maxis\u001b[0m\u001b[0;34m=\u001b[0m\u001b[0;36m1\u001b[0m\u001b[0;34m,\u001b[0m \u001b[0mraise_missing\u001b[0m\u001b[0;34m=\u001b[0m\u001b[0;32mTrue\u001b[0m\u001b[0;34m)\u001b[0m\u001b[0;34m[\u001b[0m\u001b[0;36m1\u001b[0m\u001b[0;34m]\u001b[0m\u001b[0;34m\u001b[0m\u001b[0;34m\u001b[0m\u001b[0m\n\u001b[0m\u001b[1;32m   2913\u001b[0m \u001b[0;34m\u001b[0m\u001b[0m\n\u001b[1;32m   2914\u001b[0m         \u001b[0;31m# take() does not accept boolean indexers\u001b[0m\u001b[0;34m\u001b[0m\u001b[0;34m\u001b[0m\u001b[0;34m\u001b[0m\u001b[0m\n",
      "\u001b[0;32m/opt/anaconda3/lib/python3.6/site-packages/pandas/core/indexing.py\u001b[0m in \u001b[0;36m_get_listlike_indexer\u001b[0;34m(self, key, axis, raise_missing)\u001b[0m\n\u001b[1;32m   1252\u001b[0m             \u001b[0mkeyarr\u001b[0m\u001b[0;34m,\u001b[0m \u001b[0mindexer\u001b[0m\u001b[0;34m,\u001b[0m \u001b[0mnew_indexer\u001b[0m \u001b[0;34m=\u001b[0m \u001b[0max\u001b[0m\u001b[0;34m.\u001b[0m\u001b[0m_reindex_non_unique\u001b[0m\u001b[0;34m(\u001b[0m\u001b[0mkeyarr\u001b[0m\u001b[0;34m)\u001b[0m\u001b[0;34m\u001b[0m\u001b[0;34m\u001b[0m\u001b[0m\n\u001b[1;32m   1253\u001b[0m \u001b[0;34m\u001b[0m\u001b[0m\n\u001b[0;32m-> 1254\u001b[0;31m         \u001b[0mself\u001b[0m\u001b[0;34m.\u001b[0m\u001b[0m_validate_read_indexer\u001b[0m\u001b[0;34m(\u001b[0m\u001b[0mkeyarr\u001b[0m\u001b[0;34m,\u001b[0m \u001b[0mindexer\u001b[0m\u001b[0;34m,\u001b[0m \u001b[0maxis\u001b[0m\u001b[0;34m,\u001b[0m \u001b[0mraise_missing\u001b[0m\u001b[0;34m=\u001b[0m\u001b[0mraise_missing\u001b[0m\u001b[0;34m)\u001b[0m\u001b[0;34m\u001b[0m\u001b[0;34m\u001b[0m\u001b[0m\n\u001b[0m\u001b[1;32m   1255\u001b[0m         \u001b[0;32mreturn\u001b[0m \u001b[0mkeyarr\u001b[0m\u001b[0;34m,\u001b[0m \u001b[0mindexer\u001b[0m\u001b[0;34m\u001b[0m\u001b[0;34m\u001b[0m\u001b[0m\n\u001b[1;32m   1256\u001b[0m \u001b[0;34m\u001b[0m\u001b[0m\n",
      "\u001b[0;32m/opt/anaconda3/lib/python3.6/site-packages/pandas/core/indexing.py\u001b[0m in \u001b[0;36m_validate_read_indexer\u001b[0;34m(self, key, indexer, axis, raise_missing)\u001b[0m\n\u001b[1;32m   1302\u001b[0m             \u001b[0;32mif\u001b[0m \u001b[0mraise_missing\u001b[0m\u001b[0;34m:\u001b[0m\u001b[0;34m\u001b[0m\u001b[0;34m\u001b[0m\u001b[0m\n\u001b[1;32m   1303\u001b[0m                 \u001b[0mnot_found\u001b[0m \u001b[0;34m=\u001b[0m \u001b[0mlist\u001b[0m\u001b[0;34m(\u001b[0m\u001b[0mset\u001b[0m\u001b[0;34m(\u001b[0m\u001b[0mkey\u001b[0m\u001b[0;34m)\u001b[0m \u001b[0;34m-\u001b[0m \u001b[0mset\u001b[0m\u001b[0;34m(\u001b[0m\u001b[0max\u001b[0m\u001b[0;34m)\u001b[0m\u001b[0;34m)\u001b[0m\u001b[0;34m\u001b[0m\u001b[0;34m\u001b[0m\u001b[0m\n\u001b[0;32m-> 1304\u001b[0;31m                 \u001b[0;32mraise\u001b[0m \u001b[0mKeyError\u001b[0m\u001b[0;34m(\u001b[0m\u001b[0;34mf\"{not_found} not in index\"\u001b[0m\u001b[0;34m)\u001b[0m\u001b[0;34m\u001b[0m\u001b[0;34m\u001b[0m\u001b[0m\n\u001b[0m\u001b[1;32m   1305\u001b[0m \u001b[0;34m\u001b[0m\u001b[0m\n\u001b[1;32m   1306\u001b[0m             \u001b[0;31m# we skip the warning on Categorical\u001b[0m\u001b[0;34m\u001b[0m\u001b[0;34m\u001b[0m\u001b[0;34m\u001b[0m\u001b[0m\n",
      "\u001b[0;31mKeyError\u001b[0m: \"['AC027644.4', 'ANKRD20A3', 'AC004706.3', 'AC069288.1', 'LINC00514', 'AC235565.2', 'C11orf74', 'SPDYE8P', 'AC022137.3', 'AC040160.1', 'AL049629.2', 'TPTEP2-CSNK1E', 'NOTCH2NLB', 'H3C2', 'GVQW2', 'SMIM41', 'AC020929.1', 'AC008397.2', 'AL590764.2', 'AC104472.3', 'C21orf59-TCP10L', 'S1PR2', 'AC010197.2', 'AP001267.5', 'VSIG10L2', 'AC093512.2', 'AC116366.3', 'EEF1AKMT4', 'AC009879.3', 'AC004151.1', 'AC022966.1', 'DERPC', 'AC022506.1', 'NOTCH2NLC', 'FO393400.1', 'AC091167.7', 'AC114267.1', 'AC139491.7', 'AL355312.6', 'AP002512.3', 'AL022238.4', 'AL117339.5', 'AP001453.5', 'AC091230.1', 'AC087721.2', 'AC055839.2', 'AL022318.4', 'SPDYE11', 'ELMSAN1', 'AL133353.2', 'AC093827.5', 'AC015802.6', 'AL135905.2', 'AC008676.3', 'C5orf30', 'DHH', 'AC112128.1', 'SCO2', 'BX255925.3', 'ICK', 'AP000812.5', 'AC000093.1', 'CXorf40B', 'GDF5OS', 'UPK3BL2', 'AL445524.2', 'AP003071.5', 'AL139142.2', 'AC004922.1', 'SLURP2', 'PRR33', 'H3C3', 'AC097634.4', 'AL358472.6', 'AC068946.2', 'AC022414.1', 'AC098582.1', 'AC108488.2', 'AC004687.2', 'AC012213.5', 'AL160272.2', 'ADPRHL2', 'AL121899.2', 'AC092718.8', 'BX664615.2', 'AC010422.8', 'AC021066.1', 'AL159141.1', 'AC008581.2', 'AL163636.3', 'FAM49B', 'AC242842.3', 'ACPP', 'AC072022.2', 'Z84488.2', 'AC026740.3', 'AC008770.4', 'AP000944.5', 'AL031315.1', 'AC004593.2', 'SPDYE9P', 'ANKRD20A4', 'C2orf81', 'AC092279.1', 'AL049834.1', 'AC002316.1', 'DUS4L-BCAP29', 'AC118553.2', 'AC253572.1', 'AL358113.1', 'AC114490.3', 'AC013271.1', 'AC008870.1', 'AC008397.1', 'AC005747.1', 'AC073111.4', 'AC005261.1', 'CXorf40A', 'AC000120.4', 'AC022415.3', 'AC018362.3', 'BX470111.1', 'AC025287.4', 'MARC2', 'SCYGR4', 'AC026316.4', 'CDR1', 'AC131160.1', 'AC097636.2', 'AC021087.5', 'H3-2', 'AL441992.3', 'ANKRD20A2', 'AC090517.4', 'FAM49A', 'AC006064.6', 'AL160269.1', 'AP001931.2', 'MARC1', 'AL358075.4', 'AC021092.2', 'AC009412.1', 'AC008012.1', 'AC007326.4', 'LYNX1-SLURP2', 'AC118281.1', 'AC067752.1', 'SPDYE21P', 'AC068831.8'] not in index\""
     ]
    }
   ],
   "source": [
    "TSS_first_gene_counts = (np.divide(first_gene_counts_df[sharedgenes].T, np.sum(first_gene_counts_df[sharedgenes], axis = 1))*sharedgenes.shape[0]).T.values.astype(float)\n",
    "TSS_second_gene_counts = (np.divide(second_gene_counts_df[sharedgenes].T, np.sum(second_gene_counts_df[sharedgenes], axis = 1))*sharedgenes.shape[0]).T.values.astype(float)\n",
    "TSS_third_gene_counts = (np.divide(third_gene_counts_df[ENSG_trans[sharedgenes].values[0]].T, np.sum(third_gene_counts_df[ENSG_trans[sharedgenes].values[0]], axis = 1))*sharedgenes.shape[0]).T.values.astype(float)\n"
   ]
  },
  {
   "cell_type": "code",
   "execution_count": 6,
   "metadata": {},
   "outputs": [],
   "source": [
    "R_first_gene_counts = pd.read_csv('../code/test.csv',low_memory=False)[sharedgenes].values\n",
    "#R_first_gene_counts = pd.read_csv('../../GSE156063_swab_gene_counts.csv',low_memory=False).T\n",
    "#R_first_gene_counts.columns = R_first_gene_counts.iloc[0]\n",
    "#R_first_gene_counts = R_first_gene_counts.drop('Unnamed: 0')[sharedgenes].values\n",
    "R_second_gene_counts = pd.read_csv('../data/Adult-validation-cohort/test2.csv',low_memory=False)[sharedgenes].values\n",
    "#R_third_gene_counts = pd.read_csv('GSE152075_raw_counts_GEO.csv').drop('Unnamed: 0', axis = 1)[ENSG_trans[sharedgenes].values[0]].values\n"
   ]
  },
  {
   "cell_type": "code",
   "execution_count": 176,
   "metadata": {},
   "outputs": [
    {
     "data": {
      "text/plain": [
       "array(['ENSG00000000419', 'ENSG00000000457', 'ENSG00000000460', ...,\n",
       "       'ENSG00000288380', 'ENSG00000288534', 'ENSG00000288558'],\n",
       "      dtype=object)"
      ]
     },
     "execution_count": 176,
     "metadata": {},
     "output_type": "execute_result"
    }
   ],
   "source": [
    "sharedgenes"
   ]
  },
  {
   "cell_type": "code",
   "execution_count": 182,
   "metadata": {},
   "outputs": [
    {
     "data": {
      "text/plain": [
       "array([[7.06872615, 7.64940118, 7.12018671, ..., 6.08607249, 7.56938681,\n",
       "        4.40789893],\n",
       "       [7.24134704, 8.05351182, 7.13037891, ..., 4.40789893, 7.16622406,\n",
       "        6.65757977],\n",
       "       [7.17362705, 8.18448175, 6.45304228, ..., 4.40789893, 6.95282606,\n",
       "        6.27258073],\n",
       "       ...,\n",
       "       [8.59559177, 8.01434963, 4.40789893, ..., 4.40789893, 4.40789893,\n",
       "        4.40789893],\n",
       "       [7.04702743, 7.13876491, 6.82420642, ..., 4.40789893, 6.84270966,\n",
       "        5.75106435],\n",
       "       [7.15570762, 7.83623304, 6.74295439, ..., 4.40789893, 6.33204749,\n",
       "        5.71135962]])"
      ]
     },
     "execution_count": 182,
     "metadata": {},
     "output_type": "execute_result"
    }
   ],
   "source": [
    "R_second_gene_counts"
   ]
  },
  {
   "cell_type": "code",
   "execution_count": 179,
   "metadata": {},
   "outputs": [
    {
     "data": {
      "text/html": [
       "<div>\n",
       "<style scoped>\n",
       "    .dataframe tbody tr th:only-of-type {\n",
       "        vertical-align: middle;\n",
       "    }\n",
       "\n",
       "    .dataframe tbody tr th {\n",
       "        vertical-align: top;\n",
       "    }\n",
       "\n",
       "    .dataframe thead th {\n",
       "        text-align: right;\n",
       "    }\n",
       "</style>\n",
       "<table border=\"1\" class=\"dataframe\">\n",
       "  <thead>\n",
       "    <tr style=\"text-align: right;\">\n",
       "      <th>Unnamed: 0</th>\n",
       "      <th>ENSG00000000003</th>\n",
       "      <th>ENSG00000000419</th>\n",
       "      <th>ENSG00000000457</th>\n",
       "      <th>ENSG00000000460</th>\n",
       "      <th>ENSG00000000938</th>\n",
       "      <th>ENSG00000000971</th>\n",
       "      <th>ENSG00000001036</th>\n",
       "      <th>ENSG00000001084</th>\n",
       "      <th>ENSG00000001167</th>\n",
       "      <th>ENSG00000001460</th>\n",
       "      <th>...</th>\n",
       "      <th>ENSG00000286522</th>\n",
       "      <th>ENSG00000286905</th>\n",
       "      <th>ENSG00000287080</th>\n",
       "      <th>ENSG00000287542</th>\n",
       "      <th>ENSG00000287725</th>\n",
       "      <th>ENSG00000287856</th>\n",
       "      <th>ENSG00000288258</th>\n",
       "      <th>ENSG00000288380</th>\n",
       "      <th>ENSG00000288534</th>\n",
       "      <th>ENSG00000288558</th>\n",
       "    </tr>\n",
       "  </thead>\n",
       "  <tbody>\n",
       "    <tr>\n",
       "      <th>RR057e_00202</th>\n",
       "      <td>1534</td>\n",
       "      <td>153</td>\n",
       "      <td>295</td>\n",
       "      <td>75</td>\n",
       "      <td>19</td>\n",
       "      <td>500</td>\n",
       "      <td>271</td>\n",
       "      <td>2463</td>\n",
       "      <td>143</td>\n",
       "      <td>380</td>\n",
       "      <td>...</td>\n",
       "      <td>3</td>\n",
       "      <td>23</td>\n",
       "      <td>6</td>\n",
       "      <td>52</td>\n",
       "      <td>38</td>\n",
       "      <td>40</td>\n",
       "      <td>0</td>\n",
       "      <td>34</td>\n",
       "      <td>117</td>\n",
       "      <td>38</td>\n",
       "    </tr>\n",
       "    <tr>\n",
       "      <th>RR057e_00080</th>\n",
       "      <td>621</td>\n",
       "      <td>123</td>\n",
       "      <td>185</td>\n",
       "      <td>108</td>\n",
       "      <td>471</td>\n",
       "      <td>288</td>\n",
       "      <td>190</td>\n",
       "      <td>2540</td>\n",
       "      <td>167</td>\n",
       "      <td>337</td>\n",
       "      <td>...</td>\n",
       "      <td>31</td>\n",
       "      <td>23</td>\n",
       "      <td>4</td>\n",
       "      <td>35</td>\n",
       "      <td>26</td>\n",
       "      <td>77</td>\n",
       "      <td>21</td>\n",
       "      <td>0</td>\n",
       "      <td>42</td>\n",
       "      <td>29</td>\n",
       "    </tr>\n",
       "    <tr>\n",
       "      <th>RR057e_00287</th>\n",
       "      <td>1903</td>\n",
       "      <td>221</td>\n",
       "      <td>457</td>\n",
       "      <td>292</td>\n",
       "      <td>1843</td>\n",
       "      <td>687</td>\n",
       "      <td>655</td>\n",
       "      <td>3969</td>\n",
       "      <td>637</td>\n",
       "      <td>1209</td>\n",
       "      <td>...</td>\n",
       "      <td>40</td>\n",
       "      <td>138</td>\n",
       "      <td>12</td>\n",
       "      <td>62</td>\n",
       "      <td>64</td>\n",
       "      <td>189</td>\n",
       "      <td>2</td>\n",
       "      <td>0</td>\n",
       "      <td>195</td>\n",
       "      <td>13</td>\n",
       "    </tr>\n",
       "    <tr>\n",
       "      <th>RR057e_00753</th>\n",
       "      <td>2796</td>\n",
       "      <td>344</td>\n",
       "      <td>626</td>\n",
       "      <td>367</td>\n",
       "      <td>284</td>\n",
       "      <td>1528</td>\n",
       "      <td>663</td>\n",
       "      <td>11399</td>\n",
       "      <td>345</td>\n",
       "      <td>816</td>\n",
       "      <td>...</td>\n",
       "      <td>83</td>\n",
       "      <td>62</td>\n",
       "      <td>26</td>\n",
       "      <td>80</td>\n",
       "      <td>100</td>\n",
       "      <td>62</td>\n",
       "      <td>41</td>\n",
       "      <td>5</td>\n",
       "      <td>332</td>\n",
       "      <td>85</td>\n",
       "    </tr>\n",
       "    <tr>\n",
       "      <th>RR057e_00751</th>\n",
       "      <td>416</td>\n",
       "      <td>112</td>\n",
       "      <td>170</td>\n",
       "      <td>49</td>\n",
       "      <td>38</td>\n",
       "      <td>311</td>\n",
       "      <td>98</td>\n",
       "      <td>1073</td>\n",
       "      <td>136</td>\n",
       "      <td>209</td>\n",
       "      <td>...</td>\n",
       "      <td>51</td>\n",
       "      <td>7</td>\n",
       "      <td>20</td>\n",
       "      <td>20</td>\n",
       "      <td>5</td>\n",
       "      <td>95</td>\n",
       "      <td>34</td>\n",
       "      <td>0</td>\n",
       "      <td>30</td>\n",
       "      <td>15</td>\n",
       "    </tr>\n",
       "    <tr>\n",
       "      <th>...</th>\n",
       "      <td>...</td>\n",
       "      <td>...</td>\n",
       "      <td>...</td>\n",
       "      <td>...</td>\n",
       "      <td>...</td>\n",
       "      <td>...</td>\n",
       "      <td>...</td>\n",
       "      <td>...</td>\n",
       "      <td>...</td>\n",
       "      <td>...</td>\n",
       "      <td>...</td>\n",
       "      <td>...</td>\n",
       "      <td>...</td>\n",
       "      <td>...</td>\n",
       "      <td>...</td>\n",
       "      <td>...</td>\n",
       "      <td>...</td>\n",
       "      <td>...</td>\n",
       "      <td>...</td>\n",
       "      <td>...</td>\n",
       "      <td>...</td>\n",
       "    </tr>\n",
       "    <tr>\n",
       "      <th>RR057e_00721</th>\n",
       "      <td>1</td>\n",
       "      <td>15</td>\n",
       "      <td>36</td>\n",
       "      <td>9</td>\n",
       "      <td>4</td>\n",
       "      <td>35</td>\n",
       "      <td>14</td>\n",
       "      <td>45</td>\n",
       "      <td>7</td>\n",
       "      <td>5</td>\n",
       "      <td>...</td>\n",
       "      <td>0</td>\n",
       "      <td>0</td>\n",
       "      <td>0</td>\n",
       "      <td>0</td>\n",
       "      <td>0</td>\n",
       "      <td>0</td>\n",
       "      <td>0</td>\n",
       "      <td>8</td>\n",
       "      <td>0</td>\n",
       "      <td>11</td>\n",
       "    </tr>\n",
       "    <tr>\n",
       "      <th>RR057e_00731</th>\n",
       "      <td>56</td>\n",
       "      <td>19</td>\n",
       "      <td>26</td>\n",
       "      <td>1</td>\n",
       "      <td>3</td>\n",
       "      <td>61</td>\n",
       "      <td>18</td>\n",
       "      <td>157</td>\n",
       "      <td>8</td>\n",
       "      <td>21</td>\n",
       "      <td>...</td>\n",
       "      <td>6</td>\n",
       "      <td>0</td>\n",
       "      <td>0</td>\n",
       "      <td>0</td>\n",
       "      <td>0</td>\n",
       "      <td>9</td>\n",
       "      <td>0</td>\n",
       "      <td>0</td>\n",
       "      <td>0</td>\n",
       "      <td>7</td>\n",
       "    </tr>\n",
       "    <tr>\n",
       "      <th>RR057e_00728</th>\n",
       "      <td>99</td>\n",
       "      <td>1</td>\n",
       "      <td>31</td>\n",
       "      <td>0</td>\n",
       "      <td>1</td>\n",
       "      <td>61</td>\n",
       "      <td>5</td>\n",
       "      <td>170</td>\n",
       "      <td>4</td>\n",
       "      <td>71</td>\n",
       "      <td>...</td>\n",
       "      <td>0</td>\n",
       "      <td>0</td>\n",
       "      <td>0</td>\n",
       "      <td>0</td>\n",
       "      <td>0</td>\n",
       "      <td>0</td>\n",
       "      <td>2</td>\n",
       "      <td>1</td>\n",
       "      <td>0</td>\n",
       "      <td>8</td>\n",
       "    </tr>\n",
       "    <tr>\n",
       "      <th>RR057i_00067</th>\n",
       "      <td>297</td>\n",
       "      <td>33</td>\n",
       "      <td>121</td>\n",
       "      <td>24</td>\n",
       "      <td>14</td>\n",
       "      <td>204</td>\n",
       "      <td>52</td>\n",
       "      <td>311</td>\n",
       "      <td>16</td>\n",
       "      <td>51</td>\n",
       "      <td>...</td>\n",
       "      <td>10</td>\n",
       "      <td>6</td>\n",
       "      <td>8</td>\n",
       "      <td>0</td>\n",
       "      <td>4</td>\n",
       "      <td>7</td>\n",
       "      <td>2</td>\n",
       "      <td>11</td>\n",
       "      <td>0</td>\n",
       "      <td>44</td>\n",
       "    </tr>\n",
       "    <tr>\n",
       "      <th>RR057i_00116</th>\n",
       "      <td>83</td>\n",
       "      <td>19</td>\n",
       "      <td>61</td>\n",
       "      <td>60</td>\n",
       "      <td>0</td>\n",
       "      <td>39</td>\n",
       "      <td>63</td>\n",
       "      <td>353</td>\n",
       "      <td>24</td>\n",
       "      <td>143</td>\n",
       "      <td>...</td>\n",
       "      <td>0</td>\n",
       "      <td>5</td>\n",
       "      <td>0</td>\n",
       "      <td>0</td>\n",
       "      <td>7</td>\n",
       "      <td>6</td>\n",
       "      <td>5</td>\n",
       "      <td>2</td>\n",
       "      <td>12</td>\n",
       "      <td>9</td>\n",
       "    </tr>\n",
       "  </tbody>\n",
       "</table>\n",
       "<p>234 rows × 15979 columns</p>\n",
       "</div>"
      ],
      "text/plain": [
       "Unnamed: 0   ENSG00000000003 ENSG00000000419 ENSG00000000457 ENSG00000000460  \\\n",
       "RR057e_00202            1534             153             295              75   \n",
       "RR057e_00080             621             123             185             108   \n",
       "RR057e_00287            1903             221             457             292   \n",
       "RR057e_00753            2796             344             626             367   \n",
       "RR057e_00751             416             112             170              49   \n",
       "...                      ...             ...             ...             ...   \n",
       "RR057e_00721               1              15              36               9   \n",
       "RR057e_00731              56              19              26               1   \n",
       "RR057e_00728              99               1              31               0   \n",
       "RR057i_00067             297              33             121              24   \n",
       "RR057i_00116              83              19              61              60   \n",
       "\n",
       "Unnamed: 0   ENSG00000000938 ENSG00000000971 ENSG00000001036 ENSG00000001084  \\\n",
       "RR057e_00202              19             500             271            2463   \n",
       "RR057e_00080             471             288             190            2540   \n",
       "RR057e_00287            1843             687             655            3969   \n",
       "RR057e_00753             284            1528             663           11399   \n",
       "RR057e_00751              38             311              98            1073   \n",
       "...                      ...             ...             ...             ...   \n",
       "RR057e_00721               4              35              14              45   \n",
       "RR057e_00731               3              61              18             157   \n",
       "RR057e_00728               1              61               5             170   \n",
       "RR057i_00067              14             204              52             311   \n",
       "RR057i_00116               0              39              63             353   \n",
       "\n",
       "Unnamed: 0   ENSG00000001167 ENSG00000001460  ... ENSG00000286522  \\\n",
       "RR057e_00202             143             380  ...               3   \n",
       "RR057e_00080             167             337  ...              31   \n",
       "RR057e_00287             637            1209  ...              40   \n",
       "RR057e_00753             345             816  ...              83   \n",
       "RR057e_00751             136             209  ...              51   \n",
       "...                      ...             ...  ...             ...   \n",
       "RR057e_00721               7               5  ...               0   \n",
       "RR057e_00731               8              21  ...               6   \n",
       "RR057e_00728               4              71  ...               0   \n",
       "RR057i_00067              16              51  ...              10   \n",
       "RR057i_00116              24             143  ...               0   \n",
       "\n",
       "Unnamed: 0   ENSG00000286905 ENSG00000287080 ENSG00000287542 ENSG00000287725  \\\n",
       "RR057e_00202              23               6              52              38   \n",
       "RR057e_00080              23               4              35              26   \n",
       "RR057e_00287             138              12              62              64   \n",
       "RR057e_00753              62              26              80             100   \n",
       "RR057e_00751               7              20              20               5   \n",
       "...                      ...             ...             ...             ...   \n",
       "RR057e_00721               0               0               0               0   \n",
       "RR057e_00731               0               0               0               0   \n",
       "RR057e_00728               0               0               0               0   \n",
       "RR057i_00067               6               8               0               4   \n",
       "RR057i_00116               5               0               0               7   \n",
       "\n",
       "Unnamed: 0   ENSG00000287856 ENSG00000288258 ENSG00000288380 ENSG00000288534  \\\n",
       "RR057e_00202              40               0              34             117   \n",
       "RR057e_00080              77              21               0              42   \n",
       "RR057e_00287             189               2               0             195   \n",
       "RR057e_00753              62              41               5             332   \n",
       "RR057e_00751              95              34               0              30   \n",
       "...                      ...             ...             ...             ...   \n",
       "RR057e_00721               0               0               8               0   \n",
       "RR057e_00731               9               0               0               0   \n",
       "RR057e_00728               0               2               1               0   \n",
       "RR057i_00067               7               2              11               0   \n",
       "RR057i_00116               6               5               2              12   \n",
       "\n",
       "Unnamed: 0   ENSG00000288558  \n",
       "RR057e_00202              38  \n",
       "RR057e_00080              29  \n",
       "RR057e_00287              13  \n",
       "RR057e_00753              85  \n",
       "RR057e_00751              15  \n",
       "...                      ...  \n",
       "RR057e_00721              11  \n",
       "RR057e_00731               7  \n",
       "RR057e_00728               8  \n",
       "RR057i_00067              44  \n",
       "RR057i_00116               9  \n",
       "\n",
       "[234 rows x 15979 columns]"
      ]
     },
     "execution_count": 179,
     "metadata": {},
     "output_type": "execute_result"
    }
   ],
   "source": []
  },
  {
   "cell_type": "code",
   "execution_count": 7,
   "metadata": {},
   "outputs": [],
   "source": [
    "IDs = pd.read_csv('GSE152075_raw_counts_GEO.csv')['Unnamed: 0']\n",
    "\n",
    "first_SC2 = (pd.read_csv(\"../../covid19-swab-host-expression-master-1/data/metatable_with_viral_status.csv\",low_memory=False)['viral_status'].values == 'SC2')\n",
    "second_SC2 = (pd.read_csv(\"../data/Adult-validation-cohort/adult_validation_metatable_with_viral_status.csv\",low_memory=False)['viral_status'].values == 'sc2')\n",
    "#third_SC2 = (np.array([ID[:3] for ID in IDs]) == 'POS')"
   ]
  },
  {
   "cell_type": "code",
   "execution_count": 22,
   "metadata": {},
   "outputs": [
    {
     "data": {
      "text/plain": [
       "array([ 6182,  9300, 12768])"
      ]
     },
     "execution_count": 22,
     "metadata": {},
     "output_type": "execute_result"
    }
   ],
   "source": [
    "np.in1d(ENSG_trans[sharedgenes].values[0], ['IFI27', 'STAB1', 'PARP4']).nonzero()[0]"
   ]
  },
  {
   "cell_type": "code",
   "execution_count": 23,
   "metadata": {},
   "outputs": [
    {
     "data": {
      "text/plain": [
       "array(['A1BG', 'A1CF', 'A2M', ..., 'ZYG11B', 'ZYX', 'ZZEF1'], dtype=object)"
      ]
     },
     "execution_count": 23,
     "metadata": {},
     "output_type": "execute_result"
    }
   ],
   "source": [
    "ENSG_trans[sharedgenes].values[0]"
   ]
  },
  {
   "cell_type": "code",
   "execution_count": 8,
   "metadata": {},
   "outputs": [
    {
     "ename": "NameError",
     "evalue": "name 'TSS_first_gene_counts' is not defined",
     "output_type": "error",
     "traceback": [
      "\u001b[0;31m---------------------------------------------------------------------------\u001b[0m",
      "\u001b[0;31mNameError\u001b[0m                                 Traceback (most recent call last)",
      "\u001b[0;32m<ipython-input-8-db4539f63122>\u001b[0m in \u001b[0;36m<module>\u001b[0;34m\u001b[0m\n\u001b[1;32m      1\u001b[0m \u001b[0mR_first_second_gene_counts\u001b[0m \u001b[0;34m=\u001b[0m \u001b[0mnp\u001b[0m\u001b[0;34m.\u001b[0m\u001b[0mconcatenate\u001b[0m\u001b[0;34m(\u001b[0m\u001b[0;34m(\u001b[0m\u001b[0mR_first_gene_counts\u001b[0m\u001b[0;34m,\u001b[0m \u001b[0mR_second_gene_counts\u001b[0m\u001b[0;34m)\u001b[0m\u001b[0;34m)\u001b[0m\u001b[0;34m\u001b[0m\u001b[0;34m\u001b[0m\u001b[0m\n\u001b[0;32m----> 2\u001b[0;31m \u001b[0mTSS_first_second_gene_counts\u001b[0m \u001b[0;34m=\u001b[0m \u001b[0mnp\u001b[0m\u001b[0;34m.\u001b[0m\u001b[0mconcatenate\u001b[0m\u001b[0;34m(\u001b[0m\u001b[0;34m(\u001b[0m\u001b[0mTSS_first_gene_counts\u001b[0m\u001b[0;34m,\u001b[0m \u001b[0mTSS_second_gene_counts\u001b[0m\u001b[0;34m)\u001b[0m\u001b[0;34m)\u001b[0m\u001b[0;34m\u001b[0m\u001b[0;34m\u001b[0m\u001b[0m\n\u001b[0m",
      "\u001b[0;31mNameError\u001b[0m: name 'TSS_first_gene_counts' is not defined"
     ]
    }
   ],
   "source": [
    "R_first_second_gene_counts = np.concatenate((R_first_gene_counts, R_second_gene_counts))\n",
    "TSS_first_second_gene_counts = np.concatenate((TSS_first_gene_counts, TSS_second_gene_counts))"
   ]
  },
  {
   "cell_type": "code",
   "execution_count": 10,
   "metadata": {},
   "outputs": [
    {
     "data": {
      "text/plain": [
       "(368, 15782)"
      ]
     },
     "execution_count": 10,
     "metadata": {},
     "output_type": "execute_result"
    }
   ],
   "source": [
    "R_first_second_gene_counts.shape"
   ]
  },
  {
   "cell_type": "code",
   "execution_count": 9,
   "metadata": {},
   "outputs": [],
   "source": [
    "first_second_SC2 = np.concatenate((first_SC2, second_SC2))"
   ]
  },
  {
   "cell_type": "code",
   "execution_count": 114,
   "metadata": {},
   "outputs": [],
   "source": [
    "def six_scores(genes):\n",
    "    print(genes)\n",
    "    gene_inds = np.in1d(ENSG_trans[sharedgenes].values[0], genes).nonzero()[0]\n",
    "    print(gene_inds)\n",
    "    cur_scores = []\n",
    "    for i in range(10000):\n",
    "        clf = SVC(gamma = 'auto', probability = True)\n",
    "        score = cross_validate(clf, R_first_gene_counts[:, gene_inds], first_SC2, scoring='roc_auc', cv=StratifiedKFold(n_splits=5, shuffle=True))\n",
    "        av = np.average(score['test_score'])\n",
    "        cur_scores.append(av)\n",
    "    print('Mick R-norm:', np.average(cur_scores), np.std(cur_scores))\n",
    "\n",
    "    cur_scores = []\n",
    "    for i in range(10000):\n",
    "        clf = SVC(gamma = 'auto', probability = True)\n",
    "        score = cross_validate(clf, TSS_first_gene_counts[:, gene_inds], first_SC2, scoring='roc_auc', cv=StratifiedKFold(n_splits=5, shuffle=True))\n",
    "        av = np.average(score['test_score'])\n",
    "        cur_scores.append(av)\n",
    "    print('Mick TSS-norm:', np.average(cur_scores), np.std(cur_scores))\n",
    "    \n",
    "    cur_scores = []\n",
    "    for i in range(10000):\n",
    "        clf = SVC(gamma = 'auto', probability = True)\n",
    "        score = cross_validate(clf, R_second_gene_counts[:, gene_inds], second_SC2, scoring='roc_auc', cv=StratifiedKFold(n_splits=5, shuffle=True))\n",
    "        av = np.average(score['test_score'])\n",
    "        cur_scores.append(av)\n",
    "    print('UCSF R-norm:', np.average(cur_scores), np.std(cur_scores))\n",
    "\n",
    "    cur_scores = []\n",
    "    for i in range(10000):\n",
    "        clf = SVC(gamma = 'auto', probability = True)\n",
    "        score = cross_validate(clf, TSS_second_gene_counts[:, gene_inds], second_SC2, scoring='roc_auc', cv=StratifiedKFold(n_splits=5, shuffle=True))\n",
    "        av = np.average(score['test_score'])\n",
    "        cur_scores.append(av)\n",
    "    print('UCSF TSS-norm:', np.average(cur_scores), np.std(cur_scores))\n",
    "    \n",
    "    cur_scores = []\n",
    "    for i in range(10000):\n",
    "        clf = SVC(gamma = 'auto', probability = True)\n",
    "        score = cross_validate(clf, R_third_gene_counts[:, gene_inds], third_SC2, scoring='roc_auc', cv=StratifiedKFold(n_splits=5, shuffle=True))\n",
    "        av = np.average(score['test_score'])\n",
    "        cur_scores.append(av)\n",
    "    print('UK R-norm:', np.average(cur_scores), np.std(cur_scores))\n",
    "\n",
    "    cur_scores = []\n",
    "    for i in range(10000):\n",
    "        clf = SVC(gamma = 'auto', probability = True)\n",
    "        score = cross_validate(clf, TSS_third_gene_counts[:, gene_inds], third_SC2, scoring='roc_auc', cv=StratifiedKFold(n_splits=5, shuffle=True))\n",
    "        av = np.average(score['test_score'])\n",
    "        cur_scores.append(av)\n",
    "    print('UK TSS-norm:', np.average(cur_scores), np.std(cur_scores))"
   ]
  },
  {
   "cell_type": "code",
   "execution_count": 27,
   "metadata": {},
   "outputs": [],
   "source": [
    "def six_scores(genes):\n",
    "    print(genes)\n",
    "    gene_inds = np.in1d(ENSG_trans[sharedgenes].values[0], genes).nonzero()[0]\n",
    "    print(gene_inds)\n",
    "    clf = SVC(gamma = 'auto', probability = True)\n",
    "    clf.fit(scaled_R_first_second_gene_counts[:, gene_inds], first_second_SC2)\n",
    "    print(roc_auc_score(third_SC2, clf.predict_proba(test_scaled_R_third_gene_counts[:, gene_inds])[:, 1]))\n",
    "    clf = SVC(gamma = 'auto', probability = True)\n",
    "    clf.fit(scaled_TSS_first_second_gene_counts[:, gene_inds], first_second_SC2)\n",
    "    print(roc_auc_score(third_SC2, clf.predict_proba(test_scaled_TSS_third_gene_counts[:, gene_inds])[:, 1]))"
   ]
  },
  {
   "cell_type": "code",
   "execution_count": 231,
   "metadata": {},
   "outputs": [
    {
     "name": "stdout",
     "output_type": "stream",
     "text": [
      "['IFI27', 'STAB1', 'PARP4']\n",
      "[ 6182  9300 12768]\n",
      "0.5017657192075797\n",
      "0.4774332472006891\n"
     ]
    }
   ],
   "source": [
    "six_scores(['IFI27', 'STAB1', 'PARP4'])"
   ]
  },
  {
   "cell_type": "code",
   "execution_count": 232,
   "metadata": {},
   "outputs": [
    {
     "name": "stdout",
     "output_type": "stream",
     "text": [
      "['IFI27', 'ATP6V0C', 'PARP4']\n",
      "[1237 6182 9300]\n",
      "0.4875538329026701\n",
      "0.4654177433247201\n"
     ]
    }
   ],
   "source": [
    "six_scores(['IFI27', 'ATP6V0C', 'PARP4'])"
   ]
  },
  {
   "cell_type": "code",
   "execution_count": 233,
   "metadata": {},
   "outputs": [
    {
     "name": "stdout",
     "output_type": "stream",
     "text": [
      "['IFI6', 'IL1B', 'IL1R2']\n",
      "[6189 6287 6289]\n",
      "0.5031007751937985\n",
      "0.7865202411714041\n"
     ]
    }
   ],
   "source": [
    "six_scores(['IFI6', 'IL1B', 'IL1R2'])"
   ]
  },
  {
   "cell_type": "code",
   "execution_count": 234,
   "metadata": {},
   "outputs": [
    {
     "name": "stdout",
     "output_type": "stream",
     "text": [
      "['IFI27', 'FAM78A', 'FTL']\n",
      "[4652 5041 6182]\n",
      "0.558161068044789\n",
      "0.5137812230835487\n"
     ]
    }
   ],
   "source": [
    "six_scores(['IFI27', 'FAM78A', 'FTL'])"
   ]
  },
  {
   "cell_type": "code",
   "execution_count": 235,
   "metadata": {},
   "outputs": [
    {
     "name": "stdout",
     "output_type": "stream",
     "text": [
      "['IFI27', 'CXCR6', 'ALDH1A3']\n",
      "[ 589 3345 6182]\n",
      "0.577411714039621\n",
      "0.4866279069767442\n"
     ]
    }
   ],
   "source": [
    "six_scores(['IFI27', 'CXCR6', 'ALDH1A3'])"
   ]
  },
  {
   "cell_type": "code",
   "execution_count": 236,
   "metadata": {},
   "outputs": [
    {
     "name": "stdout",
     "output_type": "stream",
     "text": [
      "['IFI27', 'FTH1', 'AC010615.4']\n",
      "[ 143 5040 6182]\n",
      "0.625452196382429\n",
      "0.6293712316968131\n"
     ]
    }
   ],
   "source": [
    "six_scores(['IFI27', 'FTH1', 'AC010615.4'])"
   ]
  },
  {
   "cell_type": "code",
   "execution_count": 237,
   "metadata": {},
   "outputs": [
    {
     "name": "stdout",
     "output_type": "stream",
     "text": [
      "['IFI6', 'HIBADH', 'PRF1']\n",
      "[ 5913  6189 10216]\n",
      "0.5937984496124032\n",
      "0.6718346253229975\n"
     ]
    }
   ],
   "source": [
    "six_scores(['IFI6', 'HIBADH', 'PRF1'])"
   ]
  },
  {
   "cell_type": "code",
   "execution_count": 238,
   "metadata": {},
   "outputs": [
    {
     "name": "stdout",
     "output_type": "stream",
     "text": [
      "['IFI6', 'SNRPN', 'CD8A']\n",
      "[ 2365  6189 12430]\n",
      "0.5444013781223084\n",
      "0.6519810508182601\n"
     ]
    }
   ],
   "source": [
    "six_scores(['IFI6', 'SNRPN', 'CD8A'])"
   ]
  },
  {
   "cell_type": "code",
   "execution_count": 239,
   "metadata": {},
   "outputs": [
    {
     "name": "stdout",
     "output_type": "stream",
     "text": [
      "['IFI6', 'GBP5', 'SLC9A7']\n",
      "[ 5192  6189 12254]\n",
      "0.4964900947459087\n",
      "0.6681524547803618\n"
     ]
    }
   ],
   "source": [
    "six_scores(['IFI6', 'GBP5', 'SLC9A7'])"
   ]
  },
  {
   "cell_type": "code",
   "execution_count": 240,
   "metadata": {},
   "outputs": [
    {
     "name": "stdout",
     "output_type": "stream",
     "text": [
      "['WDR74', 'ATP13A4', 'OTUD7A']\n",
      "[ 1193  9170 14728]\n",
      "0.7043712316968131\n",
      "0.46509474590869937\n"
     ]
    }
   ],
   "source": [
    "six_scores(['WDR74', 'ATP13A4', 'OTUD7A'])"
   ]
  },
  {
   "cell_type": "code",
   "execution_count": 241,
   "metadata": {},
   "outputs": [
    {
     "name": "stdout",
     "output_type": "stream",
     "text": [
      "['WDR74', 'PLK4', 'PDGFRB']\n",
      "[ 9472  9870 14728]\n",
      "0.6689061154177434\n",
      "0.5695521102497846\n"
     ]
    }
   ],
   "source": [
    "six_scores(['WDR74', 'PLK4', 'PDGFRB'])"
   ]
  },
  {
   "cell_type": "code",
   "execution_count": 242,
   "metadata": {},
   "outputs": [
    {
     "name": "stdout",
     "output_type": "stream",
     "text": [
      "['WDR74', 'OR2C3', 'WASF1']\n",
      "[ 9057 14659 14728]\n",
      "0.7012058570198105\n",
      "0.46190783807062874\n"
     ]
    }
   ],
   "source": [
    "six_scores(['WDR74', 'OR2C3', 'WASF1'])"
   ]
  },
  {
   "cell_type": "code",
   "execution_count": 243,
   "metadata": {},
   "outputs": [
    {
     "name": "stdout",
     "output_type": "stream",
     "text": [
      "['PDGFRB', 'PBDC1', 'POP1']\n",
      "[ 9326  9472 10026]\n",
      "0.44354005167958654\n",
      "0.3829888027562446\n"
     ]
    }
   ],
   "source": [
    "six_scores(['PDGFRB', 'PBDC1', 'POP1'])"
   ]
  },
  {
   "cell_type": "code",
   "execution_count": 244,
   "metadata": {},
   "outputs": [
    {
     "name": "stdout",
     "output_type": "stream",
     "text": [
      "['PDGFRB', 'POSTN', 'MMADHC']\n",
      "[ 7874  9472 10033]\n",
      "0.5325366063738156\n",
      "0.437015503875969\n"
     ]
    }
   ],
   "source": [
    "six_scores(['PDGFRB', 'POSTN', 'MMADHC'])"
   ]
  },
  {
   "cell_type": "code",
   "execution_count": 245,
   "metadata": {},
   "outputs": [
    {
     "name": "stdout",
     "output_type": "stream",
     "text": [
      "['PDGFRB', 'ATP5F1C', 'GRIN2C']\n",
      "[1213 5589 9472]\n",
      "0.43507751937984496\n",
      "0.438458225667528\n"
     ]
    }
   ],
   "source": [
    "six_scores(['PDGFRB', 'ATP5F1C', 'GRIN2C'])"
   ]
  },
  {
   "cell_type": "code",
   "execution_count": 246,
   "metadata": {},
   "outputs": [
    {
     "name": "stdout",
     "output_type": "stream",
     "text": [
      "['IFI6', 'IER3', 'SNX10']\n",
      "[ 6175  6189 12442]\n",
      "0.595693367786391\n",
      "0.8470284237726099\n"
     ]
    }
   ],
   "source": [
    "six_scores(['IFI6', 'IER3', 'SNX10'])"
   ]
  },
  {
   "cell_type": "code",
   "execution_count": 247,
   "metadata": {},
   "outputs": [
    {
     "name": "stdout",
     "output_type": "stream",
     "text": [
      "['SIGLEC1', 'DCUN1D3', 'RAC1']\n",
      "[ 3521 10653 11880]\n",
      "0.6126614987080105\n",
      "0.7433677863910424\n"
     ]
    }
   ],
   "source": [
    "six_scores(['SIGLEC1', 'DCUN1D3', 'RAC1'])"
   ]
  },
  {
   "cell_type": "code",
   "execution_count": 248,
   "metadata": {},
   "outputs": [
    {
     "name": "stdout",
     "output_type": "stream",
     "text": [
      "['ISG15', 'DCUN1D3', 'ABTB2']\n",
      "[ 109 3521 6460]\n",
      "0.6636950904392764\n",
      "0.675452196382429\n"
     ]
    }
   ],
   "source": [
    "six_scores(['ISG15', 'DCUN1D3', 'ABTB2'])"
   ]
  },
  {
   "cell_type": "code",
   "execution_count": 36,
   "metadata": {},
   "outputs": [
    {
     "name": "stdout",
     "output_type": "stream",
     "text": [
      "['IFI44', 'GBP5']\n",
      "[5192 6187]\n",
      "0.4287037037037037\n",
      "0.8508828596037897\n"
     ]
    }
   ],
   "source": [
    "six_scores(['IFI44', 'GBP5'])"
   ]
  },
  {
   "cell_type": "code",
   "execution_count": 249,
   "metadata": {},
   "outputs": [
    {
     "name": "stdout",
     "output_type": "stream",
     "text": [
      "['IFI44', 'GBP5', 'PLAT']\n",
      "[5192 6187 9794]\n",
      "0.4503229974160207\n",
      "0.8419681309216193\n"
     ]
    }
   ],
   "source": [
    "six_scores(['IFI44', 'GBP5', 'PLAT'])"
   ]
  },
  {
   "cell_type": "code",
   "execution_count": 250,
   "metadata": {},
   "outputs": [
    {
     "name": "stdout",
     "output_type": "stream",
     "text": [
      "['IFI44', 'ATP6V1B2', 'PRICKLE2']\n",
      "[ 1244  6187 10220]\n",
      "0.6657622739018088\n",
      "0.8127476313522826\n"
     ]
    }
   ],
   "source": [
    "six_scores(['IFI44', 'ATP6V1B2', 'PRICKLE2'])"
   ]
  },
  {
   "cell_type": "code",
   "execution_count": 251,
   "metadata": {},
   "outputs": [
    {
     "name": "stdout",
     "output_type": "stream",
     "text": [
      "['IFI27', 'FTH1', 'AC010615.4']\n",
      "[ 143 5040 6182]\n",
      "0.625452196382429\n",
      "0.6293712316968131\n"
     ]
    }
   ],
   "source": [
    "six_scores(['IFI27', 'FTH1', 'AC010615.4'])"
   ]
  },
  {
   "cell_type": "code",
   "execution_count": 252,
   "metadata": {},
   "outputs": [
    {
     "name": "stdout",
     "output_type": "stream",
     "text": [
      "['IFI27', 'SPN', 'ATP6V0C']\n",
      "[ 1237  6182 12607]\n",
      "0.44836347975882856\n",
      "0.5073643410852713\n"
     ]
    }
   ],
   "source": [
    "six_scores(['IFI27', 'SPN', 'ATP6V0C'])"
   ]
  },
  {
   "cell_type": "code",
   "execution_count": 253,
   "metadata": {},
   "outputs": [
    {
     "name": "stdout",
     "output_type": "stream",
     "text": [
      "['IFI27']\n",
      "[6182]\n",
      "0.49183893195521106\n",
      "0.47353574504737295\n"
     ]
    }
   ],
   "source": [
    "six_scores(['IFI27'])"
   ]
  },
  {
   "cell_type": "code",
   "execution_count": 254,
   "metadata": {},
   "outputs": [
    {
     "name": "stdout",
     "output_type": "stream",
     "text": [
      "['IFI6']\n",
      "[6189]\n",
      "0.400473729543497\n",
      "0.8010766580534021\n"
     ]
    }
   ],
   "source": [
    "six_scores(['IFI6'])"
   ]
  },
  {
   "cell_type": "code",
   "execution_count": 255,
   "metadata": {},
   "outputs": [
    {
     "name": "stdout",
     "output_type": "stream",
     "text": [
      "['IFI44']\n",
      "[6187]\n",
      "0.47512919896640826\n",
      "0.8542420327304048\n"
     ]
    }
   ],
   "source": [
    "six_scores(['IFI44'])"
   ]
  },
  {
   "cell_type": "code",
   "execution_count": 256,
   "metadata": {},
   "outputs": [
    {
     "name": "stdout",
     "output_type": "stream",
     "text": [
      "['IFI27', 'IFI6']\n",
      "[6182 6189]\n",
      "0.4574289405684754\n",
      "0.5622093023255814\n"
     ]
    }
   ],
   "source": [
    "six_scores(['IFI27', 'IFI6'])"
   ]
  },
  {
   "cell_type": "code",
   "execution_count": 257,
   "metadata": {},
   "outputs": [
    {
     "name": "stdout",
     "output_type": "stream",
     "text": [
      "['IFI6', 'IFI44']\n",
      "[6187 6189]\n",
      "0.7462101636520242\n",
      "0.8597329888027562\n"
     ]
    }
   ],
   "source": [
    "six_scores(['IFI6', 'IFI44'])"
   ]
  },
  {
   "cell_type": "code",
   "execution_count": 258,
   "metadata": {},
   "outputs": [
    {
     "name": "stdout",
     "output_type": "stream",
     "text": [
      "['IFI27', 'IFI44']\n",
      "[6182 6187]\n",
      "0.3112833763996554\n",
      "0.5911283376399655\n"
     ]
    }
   ],
   "source": [
    "six_scores(['IFI27', 'IFI44'])"
   ]
  },
  {
   "cell_type": "code",
   "execution_count": 259,
   "metadata": {},
   "outputs": [
    {
     "name": "stdout",
     "output_type": "stream",
     "text": [
      "['IFI27', 'IFI6', 'IFI44']\n",
      "[6182 6187 6189]\n",
      "0.47603359173126614\n",
      "0.7779715762273902\n"
     ]
    }
   ],
   "source": [
    "six_scores(['IFI27', 'IFI6', 'IFI44'])"
   ]
  },
  {
   "cell_type": "code",
   "execution_count": null,
   "metadata": {},
   "outputs": [],
   "source": []
  },
  {
   "cell_type": "code",
   "execution_count": 13,
   "metadata": {},
   "outputs": [
    {
     "data": {
      "text/plain": [
       "array([[0.14780643, 0.04163561, 1.13665225, ..., 0.68906941, 0.87018432,\n",
       "        2.75419584],\n",
       "       [0.26056143, 0.07871126, 0.5889774 , ..., 0.6921163 , 1.67193584,\n",
       "        3.0018848 ],\n",
       "       [0.2503406 , 0.04312984, 0.56818877, ..., 0.77539953, 2.47434021,\n",
       "        2.7603098 ],\n",
       "       ...,\n",
       "       [0.        , 0.        , 0.        , ..., 1.08128872, 0.22261826,\n",
       "        8.10966536],\n",
       "       [0.10776341, 0.        , 0.26940852, ..., 0.43105363, 0.74087343,\n",
       "        1.52215813],\n",
       "       [0.16440547, 0.2192073 , 0.53431779, ..., 0.97273238, 1.02753421,\n",
       "        3.56211859]])"
      ]
     },
     "execution_count": 13,
     "metadata": {},
     "output_type": "execute_result"
    }
   ],
   "source": [
    "TSS_first_gene_counts"
   ]
  },
  {
   "cell_type": "code",
   "execution_count": 38,
   "metadata": {},
   "outputs": [],
   "source": [
    "import seaborn as sns"
   ]
  },
  {
   "cell_type": "code",
   "execution_count": 17,
   "metadata": {},
   "outputs": [
    {
     "data": {
      "text/plain": [
       "3181.25987540773"
      ]
     },
     "execution_count": 17,
     "metadata": {},
     "output_type": "execute_result"
    }
   ],
   "source": [
    "np.max(TSS_first_gene_counts)"
   ]
  },
  {
   "cell_type": "code",
   "execution_count": null,
   "metadata": {},
   "outputs": [],
   "source": [
    "np.sum(TSS_first_gene_counts > 100)"
   ]
  },
  {
   "cell_type": "code",
   "execution_count": 30,
   "metadata": {},
   "outputs": [
    {
     "data": {
      "text/plain": [
       "(3718172,)"
      ]
     },
     "execution_count": 30,
     "metadata": {},
     "output_type": "execute_result"
    }
   ],
   "source": [
    ".shape"
   ]
  },
  {
   "cell_type": "code",
   "execution_count": 359,
   "metadata": {},
   "outputs": [
    {
     "data": {
      "image/png": "[encoded data removed]",
      "text/plain": [
       "<Figure size 1224x720 with 4 Axes>"
      ]
     },
     "metadata": {
      "needs_background": "light"
     },
     "output_type": "display_data"
    }
   ],
   "source": [
    "bins = '100'\n",
    "hist = False\n",
    "f, axes = plt.subplots(2, 2, figsize=(17, 10))\n",
    "\n",
    "sns.distplot(TSS_first_gene_counts, bins = bins, ax=axes[0, 0], hist=hist, label = 'Mick et al.')\n",
    "sns.distplot(TSS_second_gene_counts, bins = bins, ax=axes[0, 0], hist=hist, label = 'UCSF')\n",
    "sns.distplot(TSS_third_gene_counts, bins = bins, ax=axes[0, 0], hist=hist, label = 'UK')\n",
    "\n",
    "sns.distplot(R_first_gene_counts, bins = bins, ax=axes[0, 1], hist=hist, label = 'Mick et al.')\n",
    "sns.distplot(R_second_gene_counts, bins = bins, ax=axes[0, 1], hist=hist, label = 'UCSF')\n",
    "sns.distplot(R_third_gene_counts, bins = bins, ax=axes[0, 1], hist=hist, label = 'UK')\n",
    "\n",
    "sns.distplot(scaled_TSS_first_gene_counts, bins = bins, ax=axes[1, 0], hist=hist, label = 'Mick et al.')\n",
    "sns.distplot(scaled_TSS_second_gene_counts, bins = bins, ax=axes[1, 0], hist=hist, label = 'UCSF')\n",
    "sns.distplot(scaled_TSS_third_gene_counts, bins = bins, ax=axes[1, 0], hist=hist, label = 'UK')\n",
    "\n",
    "sns.distplot(scaled_R_first_gene_counts, bins = bins, ax=axes[1, 1], hist=hist, label = 'Mick et al.')\n",
    "sns.distplot(scaled_R_second_gene_counts, bins = bins, ax=axes[1, 1], hist=hist, label = 'UCSF')\n",
    "sns.distplot(scaled_R_third_gene_counts, bins = bins, ax=axes[1, 1], hist=hist, label = 'UK')\n",
    "\n",
    "\n",
    "\n",
    "\n",
    "\n",
    "axes[0, 0].set_title(\"TSS\")\n",
    "axes[0, 0].set_xlim(right=2000)\n",
    "axes[0, 1].set_title(\"R\")\n",
    "axes[1, 0].set_title(\"Scaled TSS\")\n",
    "axes[1, 1].set_title(\"Scaled R\")\n",
    "\n",
    "\n",
    "plt.show()"
   ]
  },
  {
   "cell_type": "code",
   "execution_count": 149,
   "metadata": {},
   "outputs": [
    {
     "data": {
      "text/plain": [
       "<matplotlib.axes._subplots.AxesSubplot at 0x198e9c340>"
      ]
     },
     "execution_count": 149,
     "metadata": {},
     "output_type": "execute_result"
    },
    {
     "data": {
      "image/png": "[encoded data removed]",
      "text/plain": [
       "<Figure size 432x288 with 1 Axes>"
      ]
     },
     "metadata": {
      "needs_background": "light"
     },
     "output_type": "display_data"
    }
   ],
   "source": [
    "sns.distplot(np.log(TSS_first_gene_counts[TSS_first_gene_counts > 0]), bins = 100)"
   ]
  },
  {
   "cell_type": "code",
   "execution_count": 151,
   "metadata": {},
   "outputs": [
    {
     "data": {
      "text/plain": [
       "<matplotlib.axes._subplots.AxesSubplot at 0x1997750a0>"
      ]
     },
     "execution_count": 151,
     "metadata": {},
     "output_type": "execute_result"
    },
    {
     "data": {
      "image/png": "[encoded data removed]",
      "text/plain": [
       "<Figure size 432x288 with 1 Axes>"
      ]
     },
     "metadata": {
      "needs_background": "light"
     },
     "output_type": "display_data"
    }
   ],
   "source": [
    "sns.distplot(np.log(TSS_second_gene_counts[TSS_second_gene_counts > 0]), bins = 100)"
   ]
  },
  {
   "cell_type": "code",
   "execution_count": 152,
   "metadata": {},
   "outputs": [
    {
     "data": {
      "text/plain": [
       "<matplotlib.axes._subplots.AxesSubplot at 0x199504640>"
      ]
     },
     "execution_count": 152,
     "metadata": {},
     "output_type": "execute_result"
    },
    {
     "data": {
      "image/png": "[encoded data removed]",
      "text/plain": [
       "<Figure size 432x288 with 1 Axes>"
      ]
     },
     "metadata": {
      "needs_background": "light"
     },
     "output_type": "display_data"
    }
   ],
   "source": [
    "sns.distplot(np.log(TSS_third_gene_counts[TSS_third_gene_counts > 0]), bins = 100)"
   ]
  },
  {
   "cell_type": "code",
   "execution_count": 157,
   "metadata": {},
   "outputs": [
    {
     "data": {
      "text/plain": [
       "3.775734007264527"
      ]
     },
     "execution_count": 157,
     "metadata": {},
     "output_type": "execute_result"
    }
   ],
   "source": [
    "R_first_gene_counts.var()"
   ]
  },
  {
   "cell_type": "code",
   "execution_count": 173,
   "metadata": {},
   "outputs": [
    {
     "data": {
      "text/plain": [
       "<matplotlib.axes._subplots.AxesSubplot at 0x19b7bc7c0>"
      ]
     },
     "execution_count": 173,
     "metadata": {},
     "output_type": "execute_result"
    },
    {
     "data": {
      "image/png": "[encoded data removed]",
      "text/plain": [
       "<Figure size 432x288 with 1 Axes>"
      ]
     },
     "metadata": {
      "needs_background": "light"
     },
     "output_type": "display_data"
    }
   ],
   "source": [
    "sns.distplot(R_first_gene_counts[R_first_gene_counts > 5], bins = 100)"
   ]
  },
  {
   "cell_type": "code",
   "execution_count": 172,
   "metadata": {},
   "outputs": [
    {
     "data": {
      "text/plain": [
       "<matplotlib.axes._subplots.AxesSubplot at 0x1a81f88b0>"
      ]
     },
     "execution_count": 172,
     "metadata": {},
     "output_type": "execute_result"
    },
    {
     "data": {
      "image/png": "[encoded data removed]",
      "text/plain": [
       "<Figure size 432x288 with 1 Axes>"
      ]
     },
     "metadata": {
      "needs_background": "light"
     },
     "output_type": "display_data"
    }
   ],
   "source": [
    "sns.distplot(R_second_gene_counts[R_second_gene_counts > 5], bins = 100)"
   ]
  },
  {
   "cell_type": "code",
   "execution_count": 174,
   "metadata": {},
   "outputs": [
    {
     "data": {
      "text/plain": [
       "<matplotlib.axes._subplots.AxesSubplot at 0x1a7339e80>"
      ]
     },
     "execution_count": 174,
     "metadata": {},
     "output_type": "execute_result"
    },
    {
     "data": {
      "image/png": "[encoded data removed]",
      "text/plain": [
       "<Figure size 432x288 with 1 Axes>"
      ]
     },
     "metadata": {
      "needs_background": "light"
     },
     "output_type": "display_data"
    }
   ],
   "source": [
    "sns.distplot(R_third_gene_counts[R_third_gene_counts > 5], bins = 100)"
   ]
  },
  {
   "cell_type": "code",
   "execution_count": 17,
   "metadata": {},
   "outputs": [],
   "source": [
    "from sklearn.preprocessing import StandardScaler"
   ]
  },
  {
   "cell_type": "code",
   "execution_count": 18,
   "metadata": {},
   "outputs": [
    {
     "ename": "NameError",
     "evalue": "name 'R_third_gene_counts' is not defined",
     "output_type": "error",
     "traceback": [
      "\u001b[0;31m---------------------------------------------------------------------------\u001b[0m",
      "\u001b[0;31mNameError\u001b[0m                                 Traceback (most recent call last)",
      "\u001b[0;32m<ipython-input-18-fce5c1309c92>\u001b[0m in \u001b[0;36m<module>\u001b[0;34m\u001b[0m\n\u001b[1;32m     15\u001b[0m \u001b[0mscaled_R_second_gene_counts\u001b[0m \u001b[0;34m=\u001b[0m \u001b[0mscaler\u001b[0m\u001b[0;34m.\u001b[0m\u001b[0mtransform\u001b[0m\u001b[0;34m(\u001b[0m\u001b[0mR_second_gene_counts\u001b[0m\u001b[0;34m)\u001b[0m\u001b[0;34m\u001b[0m\u001b[0;34m\u001b[0m\u001b[0m\n\u001b[1;32m     16\u001b[0m \u001b[0;34m\u001b[0m\u001b[0m\n\u001b[0;32m---> 17\u001b[0;31m \u001b[0mscaler\u001b[0m \u001b[0;34m=\u001b[0m \u001b[0mStandardScaler\u001b[0m\u001b[0;34m(\u001b[0m\u001b[0;34m)\u001b[0m\u001b[0;34m.\u001b[0m\u001b[0mfit\u001b[0m\u001b[0;34m(\u001b[0m\u001b[0mR_third_gene_counts\u001b[0m\u001b[0;34m)\u001b[0m\u001b[0;34m\u001b[0m\u001b[0;34m\u001b[0m\u001b[0m\n\u001b[0m\u001b[1;32m     18\u001b[0m \u001b[0mscaled_R_third_gene_counts\u001b[0m \u001b[0;34m=\u001b[0m \u001b[0mscaler\u001b[0m\u001b[0;34m.\u001b[0m\u001b[0mtransform\u001b[0m\u001b[0;34m(\u001b[0m\u001b[0mR_third_gene_counts\u001b[0m\u001b[0;34m)\u001b[0m\u001b[0;34m\u001b[0m\u001b[0;34m\u001b[0m\u001b[0m\n",
      "\u001b[0;31mNameError\u001b[0m: name 'R_third_gene_counts' is not defined"
     ]
    }
   ],
   "source": [
    "#scaler = StandardScaler().fit(TSS_first_gene_counts)\n",
    "#scaled_TSS_first_gene_counts = scaler.transform(TSS_first_gene_counts)\n",
    "#\n",
    "#scaler = StandardScaler().fit(TSS_second_gene_counts)\n",
    "#scaled_TSS_second_gene_counts = scaler.transform(TSS_second_gene_counts)\n",
    "#\n",
    "#scaler = StandardScaler().fit(TSS_third_gene_counts)\n",
    "#scaled_TSS_third_gene_counts = scaler.transform(TSS_third_gene_counts)\n",
    "\n",
    "\n",
    "scaler = StandardScaler().fit(R_first_gene_counts)\n",
    "scaled_R_first_gene_counts = scaler.transform(R_first_gene_counts)\n",
    "\n",
    "scaler = StandardScaler().fit(R_second_gene_counts)\n",
    "scaled_R_second_gene_counts = scaler.transform(R_second_gene_counts)\n",
    "\n",
    "scaler = StandardScaler().fit(R_third_gene_counts)\n",
    "scaled_R_third_gene_counts = scaler.transform(R_third_gene_counts)"
   ]
  },
  {
   "cell_type": "code",
   "execution_count": 166,
   "metadata": {},
   "outputs": [
    {
     "data": {
      "text/plain": [
       "<matplotlib.axes._subplots.AxesSubplot at 0x19ad26c70>"
      ]
     },
     "execution_count": 166,
     "metadata": {},
     "output_type": "execute_result"
    },
    {
     "data": {
      "image/png": "[encoded data removed]",
      "text/plain": [
       "<Figure size 432x288 with 1 Axes>"
      ]
     },
     "metadata": {
      "needs_background": "light"
     },
     "output_type": "display_data"
    }
   ],
   "source": [
    "sns.distplot(scaled_TSS_first_gene_counts, bins = 100)"
   ]
  },
  {
   "cell_type": "code",
   "execution_count": 48,
   "metadata": {},
   "outputs": [
    {
     "data": {
      "text/plain": [
       "<matplotlib.axes._subplots.AxesSubplot at 0x183ba0f10>"
      ]
     },
     "execution_count": 48,
     "metadata": {},
     "output_type": "execute_result"
    },
    {
     "data": {
      "image/png": "[encoded data removed]",
      "text/plain": [
       "<Figure size 432x288 with 1 Axes>"
      ]
     },
     "metadata": {
      "needs_background": "light"
     },
     "output_type": "display_data"
    }
   ],
   "source": [
    "sns.distplot(scaled_TSS_second_gene_counts, bins = 100)"
   ]
  },
  {
   "cell_type": "code",
   "execution_count": 49,
   "metadata": {},
   "outputs": [
    {
     "data": {
      "text/plain": [
       "<matplotlib.axes._subplots.AxesSubplot at 0x1822432b0>"
      ]
     },
     "execution_count": 49,
     "metadata": {},
     "output_type": "execute_result"
    },
    {
     "data": {
      "image/png": "[encoded data removed]",
      "text/plain": [
       "<Figure size 432x288 with 1 Axes>"
      ]
     },
     "metadata": {
      "needs_background": "light"
     },
     "output_type": "display_data"
    }
   ],
   "source": [
    "sns.distplot(scaled_TSS_third_gene_counts, bins = 100)"
   ]
  },
  {
   "cell_type": "code",
   "execution_count": 50,
   "metadata": {},
   "outputs": [
    {
     "data": {
      "text/plain": [
       "<matplotlib.axes._subplots.AxesSubplot at 0x18379da90>"
      ]
     },
     "execution_count": 50,
     "metadata": {},
     "output_type": "execute_result"
    },
    {
     "data": {
      "image/png": "[encoded data removed]",
      "text/plain": [
       "<Figure size 432x288 with 1 Axes>"
      ]
     },
     "metadata": {
      "needs_background": "light"
     },
     "output_type": "display_data"
    }
   ],
   "source": [
    "sns.distplot(scaled_R_first_gene_counts, bins = 100)"
   ]
  },
  {
   "cell_type": "code",
   "execution_count": 51,
   "metadata": {},
   "outputs": [
    {
     "data": {
      "text/plain": [
       "<matplotlib.axes._subplots.AxesSubplot at 0x1835143d0>"
      ]
     },
     "execution_count": 51,
     "metadata": {},
     "output_type": "execute_result"
    },
    {
     "data": {
      "image/png": "[encoded data removed]",
      "text/plain": [
       "<Figure size 432x288 with 1 Axes>"
      ]
     },
     "metadata": {
      "needs_background": "light"
     },
     "output_type": "display_data"
    }
   ],
   "source": [
    "sns.distplot(scaled_R_second_gene_counts, bins = 100)"
   ]
  },
  {
   "cell_type": "code",
   "execution_count": 52,
   "metadata": {},
   "outputs": [
    {
     "data": {
      "text/plain": [
       "<matplotlib.axes._subplots.AxesSubplot at 0x1832f9f70>"
      ]
     },
     "execution_count": 52,
     "metadata": {},
     "output_type": "execute_result"
    },
    {
     "data": {
      "image/png": "[encoded data removed]",
      "text/plain": [
       "<Figure size 432x288 with 1 Axes>"
      ]
     },
     "metadata": {
      "needs_background": "light"
     },
     "output_type": "display_data"
    }
   ],
   "source": [
    "sns.distplot(scaled_R_third_gene_counts, bins = 100)"
   ]
  },
  {
   "cell_type": "code",
   "execution_count": null,
   "metadata": {},
   "outputs": [],
   "source": []
  },
  {
   "cell_type": "code",
   "execution_count": 19,
   "metadata": {
    "scrolled": true
   },
   "outputs": [
    {
     "ename": "NameError",
     "evalue": "name 'R_third_gene_counts' is not defined",
     "output_type": "error",
     "traceback": [
      "\u001b[0;31m---------------------------------------------------------------------------\u001b[0m",
      "\u001b[0;31mNameError\u001b[0m                                 Traceback (most recent call last)",
      "\u001b[0;32m<ipython-input-19-0000d3b9d3f0>\u001b[0m in \u001b[0;36m<module>\u001b[0;34m\u001b[0m\n\u001b[1;32m      2\u001b[0m \u001b[0mscaled_R_first_second_gene_counts\u001b[0m \u001b[0;34m=\u001b[0m \u001b[0mscaler\u001b[0m\u001b[0;34m.\u001b[0m\u001b[0mtransform\u001b[0m\u001b[0;34m(\u001b[0m\u001b[0mR_first_second_gene_counts\u001b[0m\u001b[0;34m)\u001b[0m\u001b[0;34m\u001b[0m\u001b[0;34m\u001b[0m\u001b[0m\n\u001b[1;32m      3\u001b[0m \u001b[0;34m\u001b[0m\u001b[0m\n\u001b[0;32m----> 4\u001b[0;31m \u001b[0mtest_scaled_R_third_gene_counts\u001b[0m \u001b[0;34m=\u001b[0m \u001b[0mscaler\u001b[0m\u001b[0;34m.\u001b[0m\u001b[0mtransform\u001b[0m\u001b[0;34m(\u001b[0m\u001b[0mR_third_gene_counts\u001b[0m\u001b[0;34m)\u001b[0m\u001b[0;34m\u001b[0m\u001b[0;34m\u001b[0m\u001b[0m\n\u001b[0m\u001b[1;32m      5\u001b[0m \u001b[0;34m\u001b[0m\u001b[0m\n\u001b[1;32m      6\u001b[0m \u001b[0;34m\u001b[0m\u001b[0m\n",
      "\u001b[0;31mNameError\u001b[0m: name 'R_third_gene_counts' is not defined"
     ]
    }
   ],
   "source": [
    "scaler = StandardScaler().fit(R_first_second_gene_counts)\n",
    "scaled_R_first_second_gene_counts = scaler.transform(R_first_second_gene_counts)\n",
    "\n",
    "test_scaled_R_third_gene_counts = scaler.transform(R_third_gene_counts)\n",
    "\n",
    "\n",
    "scaler = StandardScaler().fit(TSS_first_second_gene_counts)\n",
    "scaled_TSS_first_second_gene_counts = scaler.transform(TSS_first_second_gene_counts)\n",
    "\n",
    "test_scaled_TSS_third_gene_counts = scaler.transform(TSS_third_gene_counts)"
   ]
  },
  {
   "cell_type": "code",
   "execution_count": 117,
   "metadata": {},
   "outputs": [
    {
     "data": {
      "text/plain": [
       "array(['ENSG00000121410', 'ENSG00000148584', 'ENSG00000175899', ...,\n",
       "       'ENSG00000162378', 'ENSG00000159840', 'ENSG00000074755'],\n",
       "      dtype=object)"
      ]
     },
     "execution_count": 117,
     "metadata": {},
     "output_type": "execute_result"
    }
   ],
   "source": []
  },
  {
   "cell_type": "code",
   "execution_count": 130,
   "metadata": {},
   "outputs": [
    {
     "data": {
      "text/plain": [
       "'ENSG00000126709'"
      ]
     },
     "execution_count": 130,
     "metadata": {},
     "output_type": "execute_result"
    }
   ],
   "source": [
    "ENSG_trans.columns[382]"
   ]
  },
  {
   "cell_type": "code",
   "execution_count": 135,
   "metadata": {},
   "outputs": [
    {
     "data": {
      "text/plain": [
       "6189"
      ]
     },
     "execution_count": 135,
     "metadata": {},
     "output_type": "execute_result"
    }
   ],
   "source": [
    "np.where(sharedgenes == ENSG_trans.columns[np.where(ENSG_trans == 'IFI6')[1][0]])[0][0]"
   ]
  },
  {
   "cell_type": "code",
   "execution_count": 136,
   "metadata": {},
   "outputs": [
    {
     "data": {
      "text/plain": [
       "6182"
      ]
     },
     "execution_count": 136,
     "metadata": {},
     "output_type": "execute_result"
    }
   ],
   "source": [
    "np.where(sharedgenes == ENSG_trans.columns[np.where(ENSG_trans == 'IFI27')[1][0]])[0][0]"
   ]
  },
  {
   "cell_type": "code",
   "execution_count": 137,
   "metadata": {},
   "outputs": [
    {
     "data": {
      "text/plain": [
       "6187"
      ]
     },
     "execution_count": 137,
     "metadata": {},
     "output_type": "execute_result"
    }
   ],
   "source": [
    "np.where(sharedgenes == ENSG_trans.columns[np.where(ENSG_trans == 'IFI44')[1][0]])[0][0]"
   ]
  },
  {
   "cell_type": "code",
   "execution_count": null,
   "metadata": {},
   "outputs": [],
   "source": []
  },
  {
   "cell_type": "code",
   "execution_count": 144,
   "metadata": {},
   "outputs": [],
   "source": [
    "def pairwise(dataset):\n",
    "    sns.jointplot(x=dataset[:, 6189], y=dataset[:, 6182]).set_axis_labels(\"IFI6\", \"IFI27\")\n",
    "    \n",
    "    sns.jointplot(x=dataset[:, 6182], y=dataset[:, 6187]).set_axis_labels(\"IFI27\", \"IFI44\")\n",
    "    \n",
    "    sns.jointplot(x=dataset[:, 6182], y=dataset[:, 6189]).set_axis_labels(\"IFI44\", \"IFI6\")"
   ]
  },
  {
   "cell_type": "code",
   "execution_count": 283,
   "metadata": {},
   "outputs": [
    {
     "ename": "TypeError",
     "evalue": "loop of ufunc does not support argument 0 of type float which has no callable log method",
     "output_type": "error",
     "traceback": [
      "\u001b[0;31m---------------------------------------------------------------------------\u001b[0m",
      "\u001b[0;31mAttributeError\u001b[0m                            Traceback (most recent call last)",
      "\u001b[0;31mAttributeError\u001b[0m: 'float' object has no attribute 'log'",
      "\nThe above exception was the direct cause of the following exception:\n",
      "\u001b[0;31mTypeError\u001b[0m                                 Traceback (most recent call last)",
      "\u001b[0;32m<ipython-input-283-7e827d568938>\u001b[0m in \u001b[0;36m<module>\u001b[0;34m\u001b[0m\n\u001b[1;32m      1\u001b[0m \u001b[0mgc\u001b[0m \u001b[0;34m=\u001b[0m \u001b[0mfirst_gene_counts_df\u001b[0m\u001b[0;34m[\u001b[0m\u001b[0msharedgenes\u001b[0m\u001b[0;34m]\u001b[0m\u001b[0;34m.\u001b[0m\u001b[0mvalues\u001b[0m\u001b[0;34m\u001b[0m\u001b[0;34m\u001b[0m\u001b[0m\n\u001b[0;32m----> 2\u001b[0;31m \u001b[0msns\u001b[0m\u001b[0;34m.\u001b[0m\u001b[0mdistplot\u001b[0m\u001b[0;34m(\u001b[0m\u001b[0mnp\u001b[0m\u001b[0;34m.\u001b[0m\u001b[0mlog\u001b[0m\u001b[0;34m(\u001b[0m\u001b[0mgc\u001b[0m\u001b[0;34m+\u001b[0m\u001b[0;36m0.001\u001b[0m\u001b[0;34m)\u001b[0m\u001b[0;34m,\u001b[0m \u001b[0mbins\u001b[0m\u001b[0;34m=\u001b[0m\u001b[0;36m100\u001b[0m\u001b[0;34m)\u001b[0m\u001b[0;34m\u001b[0m\u001b[0;34m\u001b[0m\u001b[0m\n\u001b[0m",
      "\u001b[0;31mTypeError\u001b[0m: loop of ufunc does not support argument 0 of type float which has no callable log method"
     ]
    }
   ],
   "source": [
    "gc = first_gene_counts_df[sharedgenes].values\n",
    "sns.distplot(np.log(gc+0.001), bins=100)"
   ]
  },
  {
   "cell_type": "code",
   "execution_count": 284,
   "metadata": {},
   "outputs": [
    {
     "data": {
      "text/plain": [
       "array([[71, 20, 546, ..., 331, 418, 1323],\n",
       "       [96, 29, 217, ..., 255, 616, 1106],\n",
       "       [267, 46, 606, ..., 827, 2639, 2944],\n",
       "       ...,\n",
       "       [0, 0, 0, ..., 34, 7, 255],\n",
       "       [8, 0, 20, ..., 32, 55, 113],\n",
       "       [12, 16, 39, ..., 71, 75, 260]], dtype=object)"
      ]
     },
     "execution_count": 284,
     "metadata": {},
     "output_type": "execute_result"
    }
   ],
   "source": [
    "T"
   ]
  },
  {
   "cell_type": "code",
   "execution_count": 43,
   "metadata": {
    "scrolled": false
   },
   "outputs": [
    {
     "data": {
      "image/png": "[encoded data removed]",
      "text/plain": [
       "<Figure size 1152x864 with 12 Axes>"
      ]
     },
     "metadata": {
      "needs_background": "light"
     },
     "output_type": "display_data"
    }
   ],
   "source": [
    "titles = ['TSS Mick et al', 'TSS UCSF', \n",
    "          #'TSS UK', \n",
    "          'R Mick et al', 'R UCSF'\n",
    "          #, 'R UK'\n",
    "         ]\n",
    "#f, axes = plt.subplots(3,6, figsize=(24,12))\n",
    "f, axes = plt.subplots(3,4, figsize=(16,12))\n",
    "f.tight_layout(pad=3)\n",
    "for m, j in enumerate([(\"IFI6\", \"IFI27\", 6189, 6182),(\"IFI27\", \"IFI44\", 6182, 6187),(\"IFI44\", \"IFI6\", 6182, 6189)]):\n",
    "    for n, i in enumerate([TSS_first_gene_counts, TSS_second_gene_counts, \n",
    "                           #TSS_third_gene_counts,\n",
    "                           scaled_R_first_gene_counts, scaled_R_second_gene_counts\n",
    "                           #, R_third_gene_counts\n",
    "                          ]):\n",
    "    \n",
    "   \n",
    "        \n",
    "        row = m\n",
    "        col = n\n",
    "        #hue = [first_SC2,second_SC2,third_SC2][n%3]\n",
    "        hue = [first_SC2,second_SC2][n%2]\n",
    "        #hue = ['SC2 Pos' if h else 'SC2 Neg' for h in hue]\n",
    "        sns.scatterplot(x=i[:, j[2]], y=i[:, j[3]],hue=hue,alpha=0.6,ax=axes[row,col])\n",
    "        axes[row,col].set_xlabel(j[0])\n",
    "        axes[row,col].set_ylabel(j[1])\n",
    "        axes[row,col].legend(loc='upper left', handles=axes[row,col].get_legend_handles_labels()[0], labels=['SC2 Neg', 'SC2 Pos'])\n",
    "        \n",
    "        if row == 0:\n",
    "            axes[row,col].set_title(titles[col], fontweight=\"bold\")\n",
    "\n"
   ]
  },
  {
   "cell_type": "code",
   "execution_count": 409,
   "metadata": {},
   "outputs": [
    {
     "data": {
      "text/plain": [
       "[<matplotlib.collections.PathCollection at 0x2bd590c10>,\n",
       " <matplotlib.collections.PathCollection at 0x2bd590fd0>]"
      ]
     },
     "execution_count": 409,
     "metadata": {},
     "output_type": "execute_result"
    }
   ],
   "source": [
    "scatter.get_legend_handles_labels()[0]"
   ]
  },
  {
   "cell_type": "code",
   "execution_count": 367,
   "metadata": {},
   "outputs": [
    {
     "data": {
      "text/plain": [
       "array([[<matplotlib.axes._subplots.AxesSubplot object at 0x2a54ae940>,\n",
       "        <matplotlib.axes._subplots.AxesSubplot object at 0x2ab616c70>,\n",
       "        <matplotlib.axes._subplots.AxesSubplot object at 0x2ab659310>,\n",
       "        <matplotlib.axes._subplots.AxesSubplot object at 0x2ab683a60>,\n",
       "        <matplotlib.axes._subplots.AxesSubplot object at 0x2ab6b8220>,\n",
       "        <matplotlib.axes._subplots.AxesSubplot object at 0x2ab6e29a0>],\n",
       "       [<matplotlib.axes._subplots.AxesSubplot object at 0x2ab718160>,\n",
       "        <matplotlib.axes._subplots.AxesSubplot object at 0x2ab7428e0>,\n",
       "        <matplotlib.axes._subplots.AxesSubplot object at 0x2ab769100>,\n",
       "        <matplotlib.axes._subplots.AxesSubplot object at 0x2ab79f820>,\n",
       "        <matplotlib.axes._subplots.AxesSubplot object at 0x2ab7c8ee0>,\n",
       "        <matplotlib.axes._subplots.AxesSubplot object at 0x2ab7fd760>],\n",
       "       [<matplotlib.axes._subplots.AxesSubplot object at 0x2ab827ee0>,\n",
       "        <matplotlib.axes._subplots.AxesSubplot object at 0x2ab85c6a0>,\n",
       "        <matplotlib.axes._subplots.AxesSubplot object at 0x2ab887e20>,\n",
       "        <matplotlib.axes._subplots.AxesSubplot object at 0x2ab8bc5e0>,\n",
       "        <matplotlib.axes._subplots.AxesSubplot object at 0x2ab8e6d60>,\n",
       "        <matplotlib.axes._subplots.AxesSubplot object at 0x2ab91b520>]],\n",
       "      dtype=object)"
      ]
     },
     "execution_count": 367,
     "metadata": {},
     "output_type": "execute_result"
    }
   ],
   "source": [
    "plt.subplots(3,6)."
   ]
  },
  {
   "cell_type": "code",
   "execution_count": null,
   "metadata": {},
   "outputs": [],
   "source": []
  },
  {
   "cell_type": "code",
   "execution_count": 43,
   "metadata": {},
   "outputs": [
    {
     "data": {
      "text/plain": [
       "(368, 15782)"
      ]
     },
     "execution_count": 43,
     "metadata": {},
     "output_type": "execute_result"
    }
   ],
   "source": [
    "scaled_R_first_second_gene_counts.shape"
   ]
  },
  {
   "cell_type": "code",
   "execution_count": 10,
   "metadata": {},
   "outputs": [],
   "source": [
    "seed = 8675309"
   ]
  },
  {
   "cell_type": "code",
   "execution_count": 11,
   "metadata": {},
   "outputs": [],
   "source": [
    "comb_data_src = np.concatenate((np.zeros(first_SC2.shape[0]), np.ones(second_SC2.shape[0])))"
   ]
  },
  {
   "cell_type": "code",
   "execution_count": 20,
   "metadata": {},
   "outputs": [],
   "source": [
    "#Splits the data into training and validation datasets (70:30)\n",
    "\n",
    "[train_ind, test_ind] = train_test_split(np.arange(368), random_state = seed, test_size = 0.3\n",
    "                                         , stratify = 2*first_second_SC2+comb_data_src\n",
    "                                        )\n",
    "\n",
    "TRcomb_counts = scaled_R_first_second_gene_counts[train_ind]\n",
    "TEcomb_counts = scaled_R_first_second_gene_counts[test_ind]\n",
    "\n",
    "#TRcomb_counts = pre_norm_first_gene_counts_df.values[train_ind]\n",
    "#TEcomb_counts = pre_norm_first_gene_counts_df.values[test_ind]\n",
    "\n",
    "TRcomb_SC2 = first_second_SC2[train_ind]\n",
    "TEcomb_SC2 = first_second_SC2[test_ind]\n"
   ]
  },
  {
   "cell_type": "code",
   "execution_count": 27,
   "metadata": {},
   "outputs": [],
   "source": [
    "first_rpM = pd.read_csv(\"../../covid19-swab-host-expression-master-1/data/metatable_with_viral_status.csv\",low_memory=False)['SC2_rpm']\n",
    "second_rpM = pd.read_csv(\"../data/Adult-validation-cohort/adult_validation_metatable_with_viral_status.csv\",low_memory=False)['sc2_rpm']\n",
    "\n",
    "\n"
   ]
  },
  {
   "cell_type": "code",
   "execution_count": 28,
   "metadata": {},
   "outputs": [],
   "source": [
    "first_second_rpM = np.concatenate((first_rpM, second_rpM))\n"
   ]
  },
  {
   "cell_type": "code",
   "execution_count": 29,
   "metadata": {},
   "outputs": [],
   "source": [
    "cornell_counts = pd.read_csv('../../Cornell_counts/cornell_subset_vst.csv')\n",
    "cornell_counts.index = cornell_counts['Unnamed: 0']\n",
    "cornell_counts = cornell_counts.drop('Unnamed: 0', axis = 1)\n"
   ]
  },
  {
   "cell_type": "code",
   "execution_count": 30,
   "metadata": {},
   "outputs": [],
   "source": [
    "cornell_metatable = pd.read_csv('../../Cornell_counts/cornell_subset_meta.csv')\n",
    "bad_IDs = cornell_metatable[(cornell_metatable['Class'] == 'Negative') & (cornell_metatable['Type'] != 'None') & (cornell_metatable['Type'] != 'OtherViralInfection')]['Unnamed: 0']\n",
    "cornell_SC2 = cornell_metatable.drop(bad_IDs.index)['Class'] == 'Positive'\n",
    "filt_cornell_counts = cornell_counts.drop(bad_IDs, axis = 1)\n",
    "corn_scaler = StandardScaler()\n",
    "corn_scaler.fit(filt_cornell_counts.T)\n",
    "scaled_cornell_counts = corn_scaler.transform(filt_cornell_counts.T)\n"
   ]
  },
  {
   "cell_type": "code",
   "execution_count": 31,
   "metadata": {},
   "outputs": [],
   "source": [
    "TRcomb_counts_rpM = np.c_[TRcomb_counts, first_second_rpM[train_ind]]\n",
    "TEcomb_counts_rpM = np.c_[TEcomb_counts, first_second_rpM[test_ind]]\n",
    "scaled_cornell_counts_rpM = np.c_[scaled_cornell_counts, cornell_metatable.drop(bad_IDs.index, axis = 0)['SARS_CoV2_Reads']/1000000]\n",
    "\n",
    "\n"
   ]
  },
  {
   "cell_type": "code",
   "execution_count": 33,
   "metadata": {},
   "outputs": [],
   "source": [
    "from sklearn.metrics import roc_auc_score\n",
    "from sklearn.metrics import plot_roc_curve\n",
    "from sklearn.metrics import auc\n",
    "from sklearn.model_selection import StratifiedKFold\n",
    "from sklearn.model_selection import cross_validate\n",
    "import numpy as np\n",
    "from sklearn.ensemble import RandomForestClassifier\n",
    "import matplotlib.pyplot as plt"
   ]
  },
  {
   "cell_type": "code",
   "execution_count": null,
   "metadata": {},
   "outputs": [],
   "source": [
    "#ENSG00000137959', 'ENSG00000154451"
   ]
  },
  {
   "cell_type": "code",
   "execution_count": 79,
   "metadata": {},
   "outputs": [
    {
     "data": {
      "text/plain": [
       "array(['ENSG00000000419', 'ENSG00000000457', 'ENSG00000000460', ...,\n",
       "       'ENSG00000288380', 'ENSG00000288534', 'ENSG00000288558'],\n",
       "      dtype=object)"
      ]
     },
     "execution_count": 79,
     "metadata": {},
     "output_type": "execute_result"
    }
   ],
   "source": [
    "sharedgenes"
   ]
  },
  {
   "cell_type": "code",
   "execution_count": 116,
   "metadata": {},
   "outputs": [
    {
     "data": {
      "text/plain": [
       "6547"
      ]
     },
     "execution_count": 116,
     "metadata": {},
     "output_type": "execute_result"
    }
   ],
   "source": [
    "np.where(sharedgenes == ENSG_trans.columns[np.where(ENSG_trans == 'IFI44L')[1]][0])[0][0]"
   ]
  },
  {
   "cell_type": "code",
   "execution_count": 84,
   "metadata": {},
   "outputs": [
    {
     "data": {
      "text/plain": [
       "Index(['TSPAN6', 'DPM1', 'SCYL3', 'C1orf112', 'FGR', 'CFH', 'FUCA2', 'GCLC',\n",
       "       'NFYA', 'STPG1',\n",
       "       ...\n",
       "       'AP002985.1', 'AL133318.1', 'AC023421.2', 'AC016394.4', 'AL049198.1',\n",
       "       'AC092720.3', 'AL049777.1', 'AC023296.1', 'AC114778.2', 'AL357874.3'],\n",
       "      dtype='object', name='Unnamed: 0', length=20945)"
      ]
     },
     "execution_count": 84,
     "metadata": {},
     "output_type": "execute_result"
    }
   ],
   "source": [
    "np.where(sharedgenes == 'ENSG00000154451')"
   ]
  },
  {
   "cell_type": "code",
   "execution_count": 138,
   "metadata": {},
   "outputs": [
    {
     "data": {
      "text/plain": [
       "array([0.09202893, 0.09094619, 0.0920292 , 0.85979054, 0.88535797,\n",
       "       0.0920292 , 0.89996677, 0.86907043, 0.91130235, 0.0920292 ,\n",
       "       0.87973543, 0.0518351 , 0.86481931, 0.0920292 , 0.86863004,\n",
       "       0.86869879, 0.0920292 , 0.83058322, 0.0920292 , 0.0920292 ,\n",
       "       0.89869664, 0.0920292 , 0.87263325, 0.86663307, 0.69720009,\n",
       "       0.0920292 , 0.88753167, 0.0920292 , 0.06393197, 0.86541136,\n",
       "       0.8520958 , 0.83955975, 0.88537388, 0.87433183, 0.8615994 ,\n",
       "       0.86884282, 0.0920292 , 0.0920292 , 0.0920292 , 0.86084647,\n",
       "       0.09202917, 0.09162231, 0.8820432 , 0.88591823, 0.83434441,\n",
       "       0.88420225, 0.87735829, 0.0920292 , 0.86600355, 0.870408  ,\n",
       "       0.37066734, 0.83741538, 0.86846436, 0.86025022, 0.87633805,\n",
       "       0.90206266, 0.86920352, 0.86507165, 0.87400358, 0.86761206,\n",
       "       0.88311403, 0.86449383, 0.86258537, 0.86168818, 0.07042937,\n",
       "       0.87469975, 0.09201006, 0.8603986 , 0.0908092 , 0.89944785,\n",
       "       0.86963072, 0.77859555, 0.05042551, 0.0920292 , 0.0920292 ,\n",
       "       0.87192808, 0.86304345, 0.09186084, 0.0920292 , 0.76537736,\n",
       "       0.86924878, 0.89096867, 0.0920292 , 0.88853104, 0.0920292 ,\n",
       "       0.86865489, 0.86412941, 0.87212989, 0.16741739, 0.89229569,\n",
       "       0.65499295, 0.53470247, 0.25672932, 0.8767622 , 0.86447893,\n",
       "       0.86495467, 0.86197711, 0.88647053, 0.86532238, 0.0920292 ,\n",
       "       0.45878098, 0.88506575, 0.70485987, 0.78624776, 0.10049066,\n",
       "       0.88515332, 0.87144304, 0.86489158, 0.59579289, 0.87537535,\n",
       "       0.09202285])"
      ]
     },
     "execution_count": 138,
     "metadata": {},
     "output_type": "execute_result"
    }
   ],
   "source": [
    "clf.predict_proba(TEcomb_counts_rpM[:, comb_inds_rpM])[:, 0]"
   ]
  },
  {
   "cell_type": "code",
   "execution_count": 86,
   "metadata": {},
   "outputs": [
    {
     "data": {
      "text/plain": [
       "(array([8274]),)"
      ]
     },
     "execution_count": 86,
     "metadata": {},
     "output_type": "execute_result"
    }
   ],
   "source": [
    "np.where(filt_cornell_counts.index == 'GBP5')"
   ]
  },
  {
   "cell_type": "code",
   "execution_count": 169,
   "metadata": {},
   "outputs": [
    {
     "data": {
      "text/plain": [
       "(111,)"
      ]
     },
     "execution_count": 169,
     "metadata": {},
     "output_type": "execute_result"
    }
   ],
   "source": [
    "TEcomb_SC2.shape"
   ]
  },
  {
   "cell_type": "code",
   "execution_count": 157,
   "metadata": {},
   "outputs": [],
   "source": [
    "def rpMandnorpMAUCs(gene_set):\n",
    "    print(gene_set)\n",
    "    comb_inds = []\n",
    "    for gene in gene_set:\n",
    "        comb_inds.append(np.where(sharedgenes == ENSG_trans.columns[np.where(ENSG_trans == gene)[1]][0])[0][0])\n",
    "        \n",
    "        \n",
    "    cur_scores = []\n",
    "    for i in range(10000):\n",
    "        clf = SVC(gamma = 'auto', probability = True)\n",
    "        score = cross_validate(clf, TRcomb_counts_rpM[:, comb_inds], TRcomb_SC2, scoring='roc_auc', cv=StratifiedKFold(n_splits=5, shuffle=True))\n",
    "        av = np.average(score['test_score'])\n",
    "        cur_scores.append(av)\n",
    "    print(np.average(cur_scores), np.std(cur_scores))\n",
    "    \n",
    "    \n",
    "    cur_scores = []\n",
    "    for i in range(10000):\n",
    "        clf = SVC(gamma = 'auto', probability = True)\n",
    "        score = cross_validate(clf, TEcomb_counts_rpM[:, comb_inds], TEcomb_SC2, scoring='roc_auc', cv=StratifiedKFold(n_splits=5, shuffle=True))\n",
    "        av = np.average(score['test_score'])\n",
    "        cur_scores.append(av)\n",
    "    print(np.average(cur_scores), np.std(cur_scores))\n",
    "        \n",
    "    \n",
    "    clf = SVC(gamma = 'auto', probability = True)\n",
    "    clf.fit(TRcomb_counts_rpM[:, comb_inds], TRcomb_SC2)\n",
    "    print(roc_auc_score(TEcomb_SC2, clf.predict_proba(TEcomb_counts_rpM[:, comb_inds])[:, 1]))\n",
    "    \n",
    "    \n",
    "    comb_inds_rpM = comb_inds\n",
    "    comb_inds_rpM.append(-1)\n",
    "    \n",
    "    \n",
    "    cur_scores = []\n",
    "    for i in range(10000):\n",
    "        clf = SVC(gamma = 'auto', probability = True)\n",
    "        score = cross_validate(clf, TRcomb_counts_rpM[:, comb_inds_rpM], TRcomb_SC2, scoring='roc_auc', cv=StratifiedKFold(n_splits=5, shuffle=True))\n",
    "        av = np.average(score['test_score'])\n",
    "        cur_scores.append(av)\n",
    "    print(np.average(cur_scores), np.std(cur_scores))\n",
    "    \n",
    "    \n",
    "    clf = SVC(gamma = 'auto', probability = True)\n",
    "    clf.fit(TRcomb_counts_rpM[:, comb_inds_rpM], TRcomb_SC2)\n",
    "    print(roc_auc_score(TEcomb_SC2, clf.predict_proba(TEcomb_counts_rpM[:, comb_inds_rpM])[:, 1]))"
   ]
  },
  {
   "cell_type": "code",
   "execution_count": 158,
   "metadata": {},
   "outputs": [
    {
     "name": "stdout",
     "output_type": "stream",
     "text": [
      "['IFI6', 'PTAFR']\n",
      "0.8602374236941787 0.007565305068620248\n",
      "0.8536757539682539 0.013183201640382837\n",
      "0.8693379790940766\n",
      "0.868732849905303 0.00726737855774389\n",
      "0.9243902439024391\n"
     ]
    }
   ],
   "source": [
    "rpMandnorpMAUCs(['IFI6', 'PTAFR'])"
   ]
  },
  {
   "cell_type": "code",
   "execution_count": 159,
   "metadata": {},
   "outputs": [
    {
     "name": "stdout",
     "output_type": "stream",
     "text": [
      "['IFI6', 'GBP5']\n",
      "0.8866816963217703 0.005497464212704562\n",
      "0.8757597619047619 0.011745271296973355\n",
      "0.8954703832752613\n",
      "0.8787090654655103 0.007412934788372503\n",
      "0.9285714285714286\n"
     ]
    }
   ],
   "source": [
    "rpMandnorpMAUCs(['IFI6', 'GBP5'])"
   ]
  },
  {
   "cell_type": "code",
   "execution_count": 160,
   "metadata": {},
   "outputs": [
    {
     "name": "stdout",
     "output_type": "stream",
     "text": [
      "['IFI6', 'GRINA']\n",
      "0.8532030268141946 0.007794645246846646\n",
      "0.9021537500000001 0.011132801684772167\n",
      "0.8989547038327527\n",
      "0.8836156258223684 0.00699030763883207\n",
      "0.9400696864111499\n"
     ]
    }
   ],
   "source": [
    "rpMandnorpMAUCs(['IFI6', 'GRINA'])"
   ]
  },
  {
   "cell_type": "code",
   "execution_count": 161,
   "metadata": {},
   "outputs": [
    {
     "name": "stdout",
     "output_type": "stream",
     "text": [
      "['IFI44', 'TPM4']\n",
      "0.8645338211224083 0.004839704791012586\n",
      "0.8383219642857144 0.012830967894721683\n",
      "0.8501742160278745\n",
      "0.9131877317085327 0.006488096957112687\n",
      "0.9177700348432055\n"
     ]
    }
   ],
   "source": [
    "rpMandnorpMAUCs(['IFI44', 'TPM4'])"
   ]
  },
  {
   "cell_type": "code",
   "execution_count": 162,
   "metadata": {},
   "outputs": [
    {
     "name": "stdout",
     "output_type": "stream",
     "text": [
      "['IFI44', 'BAZ1A']\n",
      "0.8553622374401914 0.005797508171108705\n",
      "0.8665718452380952 0.013279792159610532\n",
      "0.8989547038327526\n",
      "0.8668608185307017 0.010358389950340597\n",
      "0.913588850174216\n"
     ]
    }
   ],
   "source": [
    "rpMandnorpMAUCs(['IFI44', 'BAZ1A'])"
   ]
  },
  {
   "cell_type": "code",
   "execution_count": 163,
   "metadata": {},
   "outputs": [
    {
     "name": "stdout",
     "output_type": "stream",
     "text": [
      "['IFI44', 'VCAN']\n",
      "0.8409225516846093 0.008504176400971883\n",
      "0.7924122222222222 0.014298138119297506\n",
      "0.8289198606271777\n",
      "0.8582456806967702 0.009085851852384532\n",
      "0.8843205574912892\n"
     ]
    }
   ],
   "source": [
    "rpMandnorpMAUCs(['IFI44', 'VCAN'])"
   ]
  },
  {
   "cell_type": "code",
   "execution_count": 164,
   "metadata": {},
   "outputs": [
    {
     "name": "stdout",
     "output_type": "stream",
     "text": [
      "['IFI44L', 'GBP5']\n",
      "0.8794572939593301 0.004660584929142718\n",
      "0.8515204365079364 0.011953842659664322\n",
      "0.8801393728222996\n",
      "0.8838599744068979 0.008538381105799003\n",
      "0.9278745644599303\n"
     ]
    }
   ],
   "source": [
    "rpMandnorpMAUCs(['IFI44L', 'GBP5'])"
   ]
  },
  {
   "cell_type": "code",
   "execution_count": 165,
   "metadata": {},
   "outputs": [
    {
     "name": "stdout",
     "output_type": "stream",
     "text": [
      "['IFI44L', 'BAZ1A']\n",
      "0.8712619466208135 0.005962231337441227\n",
      "0.8236618055555555 0.013387403680629127\n",
      "0.8644599303135888\n",
      "0.8729335409688996 0.011085122583201979\n",
      "0.9066202090592335\n"
     ]
    }
   ],
   "source": [
    "rpMandnorpMAUCs(['IFI44L', 'BAZ1A'])"
   ]
  },
  {
   "cell_type": "code",
   "execution_count": 166,
   "metadata": {},
   "outputs": [
    {
     "name": "stdout",
     "output_type": "stream",
     "text": [
      "['IFI44L', 'SH3BP2']\n",
      "0.8679902786084529 0.005631283942948893\n",
      "0.8483051785714286 0.01338526687382179\n",
      "0.8627177700348432\n",
      "0.8828530716457337 0.007850658034898305\n",
      "0.8878048780487805\n"
     ]
    }
   ],
   "source": [
    "rpMandnorpMAUCs(['IFI44L', 'SH3BP2'])"
   ]
  },
  {
   "cell_type": "code",
   "execution_count": 35,
   "metadata": {},
   "outputs": [],
   "source": [
    "plot_roc_curve?"
   ]
  },
  {
   "cell_type": "code",
   "execution_count": 46,
   "metadata": {},
   "outputs": [
    {
     "data": {
      "text/plain": [
       "[6547, 8417, -1]"
      ]
     },
     "execution_count": 46,
     "metadata": {},
     "output_type": "execute_result"
    }
   ],
   "source": [
    "comb_inds_rpM"
   ]
  },
  {
   "cell_type": "code",
   "execution_count": null,
   "metadata": {},
   "outputs": [],
   "source": []
  },
  {
   "cell_type": "code",
   "execution_count": null,
   "metadata": {},
   "outputs": [],
   "source": [
    "#gene_set = ['IFI44L', 'GBP5']\n",
    "#comb_inds = [6547, 8417]\n",
    "#corn_inds = [6468, 8274]\n",
    "comb_inds = [-1]\n",
    "corn_inds = [-1]\n",
    "comb_inds_rpM = [6547, 8417, -1]\n",
    "corn_inds_rpM = [6468, 8274, -1]\n",
    "#comb_inds = [6547, 8417]\n",
    "#corn_inds = [6468, 8274]\n",
    "clf = SVC(gamma = 'auto', probability = True)\n",
    "clf.fit(TRcomb_counts_rpM[:, comb_inds], TRcomb_SC2)\n",
    "fig, ax = plt.subplots()\n",
    "curve = plot_roc_curve(clf, TEcomb_counts_rpM[:, comb_inds], TEcomb_SC2, ax = ax)\n",
    "curve.line_.set_color('darkorange')\n",
    "curve.line_.set_label('IFI44L, GBP5 (AUC = 0.88)')\n",
    "ax.plot([0, 1], [0, 1], linestyle='--', lw=2, color='navy', alpha=0.8)\n",
    "ax.legend(loc = 4)\n",
    "plt.title('IFI44L, GBP5, SC2 rpM ROC curves')\n",
    "plt.show()"
   ]
  },
  {
   "cell_type": "code",
   "execution_count": 70,
   "metadata": {},
   "outputs": [
    {
     "data": {
      "text/plain": [
       "array([6547])"
      ]
     },
     "execution_count": 70,
     "metadata": {},
     "output_type": "execute_result"
    }
   ],
   "source": [
    "np.in1d(ENSG_trans[sharedgenes].values[0], ['IFI44L']).nonzero()[0]"
   ]
  },
  {
   "cell_type": "code",
   "execution_count": 71,
   "metadata": {},
   "outputs": [
    {
     "data": {
      "text/plain": [
       "array([8417])"
      ]
     },
     "execution_count": 71,
     "metadata": {},
     "output_type": "execute_result"
    }
   ],
   "source": [
    "np.in1d(ENSG_trans[sharedgenes].values[0], ['GBP5']).nonzero()[0]"
   ]
  },
  {
   "cell_type": "code",
   "execution_count": 72,
   "metadata": {},
   "outputs": [
    {
     "data": {
      "text/plain": [
       "array([5085])"
      ]
     },
     "execution_count": 72,
     "metadata": {},
     "output_type": "execute_result"
    }
   ],
   "source": [
    "np.in1d(ENSG_trans[sharedgenes].values[0], ['IFI6']).nonzero()[0]"
   ]
  },
  {
   "cell_type": "code",
   "execution_count": 67,
   "metadata": {},
   "outputs": [
    {
     "data": {
      "image/png": "[encoded data removed]",
      "text/plain": [
       "<Figure size 432x288 with 1 Axes>"
      ]
     },
     "metadata": {
      "needs_background": "light"
     },
     "output_type": "display_data"
    }
   ],
   "source": [
    "text = 'rpM'\n",
    "comb_inds = [-1]\n",
    "clf = SVC(gamma = 'auto', probability = True)\n",
    "clf.fit(TRcomb_counts_rpM[:, comb_inds], TRcomb_SC2)\n",
    "fig, ax = plt.subplots()\n",
    "curve = plot_roc_curve(clf, TEcomb_counts_rpM[:, comb_inds], TEcomb_SC2, ax = ax)\n",
    "curve.line_.set_color('darkorange')\n",
    "curve.line_.set_label(text+' (AUC = %.2f)' % curve.roc_auc)\n",
    "\n",
    "ax.plot([0, 1], [0, 1], linestyle='--', lw=2, color='navy', alpha=0.8)\n",
    "ax.legend(loc = 4)\n",
    "ax.set_xlabel('False Positive Rate')\n",
    "ax.set_ylabel('True Positive Rate')\n",
    "plt.title(text+' ROC curve')\n",
    "plt.show()"
   ]
  },
  {
   "cell_type": "code",
   "execution_count": 73,
   "metadata": {},
   "outputs": [
    {
     "data": {
      "image/png": "[encoded data removed]",
      "text/plain": [
       "<Figure size 432x288 with 1 Axes>"
      ]
     },
     "metadata": {
      "needs_background": "light"
     },
     "output_type": "display_data"
    }
   ],
   "source": [
    "text = 'IFI44L, GBP5'\n",
    "comb_inds = [6547, 8417]\n",
    "clf = SVC(gamma = 'auto', probability = True)\n",
    "clf.fit(TRcomb_counts_rpM[:, comb_inds], TRcomb_SC2)\n",
    "fig, ax = plt.subplots()\n",
    "curve = plot_roc_curve(clf, TEcomb_counts_rpM[:, comb_inds], TEcomb_SC2, ax = ax)\n",
    "curve.line_.set_color('darkorange')\n",
    "curve.line_.set_label(text+' (AUC = %.2f)' % curve.roc_auc)\n",
    "\n",
    "ax.plot([0, 1], [0, 1], linestyle='--', lw=2, color='navy', alpha=0.8)\n",
    "ax.legend(loc = 4)\n",
    "ax.set_xlabel('False Positive Rate')\n",
    "ax.set_ylabel('True Positive Rate')\n",
    "plt.title(text+' ROC curve')\n",
    "plt.show()"
   ]
  },
  {
   "cell_type": "code",
   "execution_count": 82,
   "metadata": {},
   "outputs": [
    {
     "data": {
      "image/png": "[encoded data removed]",
      "text/plain": [
       "<Figure size 432x288 with 1 Axes>"
      ]
     },
     "metadata": {
      "needs_background": "light"
     },
     "output_type": "display_data"
    }
   ],
   "source": [
    "text = 'IFI6, GBP5'\n",
    "comb_inds = [5085, 8417]\n",
    "clf = SVC(gamma = 'auto', probability = True)\n",
    "clf.fit(TRcomb_counts_rpM[:, comb_inds], TRcomb_SC2)\n",
    "fig, ax = plt.subplots()\n",
    "curve = plot_roc_curve(clf, TEcomb_counts_rpM[:, comb_inds], TEcomb_SC2, ax = ax)\n",
    "curve.line_.set_color('darkorange')\n",
    "curve.line_.set_label(text+' (AUC = %.2f)' % curve.roc_auc)\n",
    "\n",
    "ax.plot([0, 1], [0, 1], linestyle='--', lw=2, color='navy', alpha=0.8)\n",
    "ax.legend(loc = 4)\n",
    "ax.set_xlabel('False Positive Rate')\n",
    "ax.set_ylabel('True Positive Rate')\n",
    "plt.title(text+' ROC curve')\n",
    "plt.show()"
   ]
  },
  {
   "cell_type": "code",
   "execution_count": 75,
   "metadata": {},
   "outputs": [
    {
     "data": {
      "image/png": "[encoded data removed]",
      "text/plain": [
       "<Figure size 432x288 with 1 Axes>"
      ]
     },
     "metadata": {
      "needs_background": "light"
     },
     "output_type": "display_data"
    }
   ],
   "source": [
    "text = 'IFI44L, GBP5, rpM'\n",
    "comb_inds = [6547, 8417, -1]\n",
    "clf = SVC(gamma = 'auto', probability = True)\n",
    "clf.fit(TRcomb_counts_rpM[:, comb_inds], TRcomb_SC2)\n",
    "fig, ax = plt.subplots()\n",
    "curve = plot_roc_curve(clf, TEcomb_counts_rpM[:, comb_inds], TEcomb_SC2, ax = ax)\n",
    "curve.line_.set_color('darkorange')\n",
    "curve.line_.set_label(text+' (AUC = %.2f)' % curve.roc_auc)\n",
    "\n",
    "ax.plot([0, 1], [0, 1], linestyle='--', lw=2, color='navy', alpha=0.8)\n",
    "ax.legend(loc = 4)\n",
    "ax.set_xlabel('False Positive Rate')\n",
    "ax.set_ylabel('True Positive Rate')\n",
    "plt.title(text+' ROC curve')\n",
    "plt.show()"
   ]
  },
  {
   "cell_type": "code",
   "execution_count": 76,
   "metadata": {},
   "outputs": [
    {
     "data": {
      "image/png": "[encoded data removed]",
      "text/plain": [
       "<Figure size 432x288 with 1 Axes>"
      ]
     },
     "metadata": {
      "needs_background": "light"
     },
     "output_type": "display_data"
    }
   ],
   "source": [
    "text = 'IFI6, GBP5, rpM'\n",
    "comb_inds = [5085, 8417, -1]\n",
    "clf = SVC(gamma = 'auto', probability = True)\n",
    "clf.fit(TRcomb_counts_rpM[:, comb_inds], TRcomb_SC2)\n",
    "fig, ax = plt.subplots()\n",
    "curve = plot_roc_curve(clf, TEcomb_counts_rpM[:, comb_inds], TEcomb_SC2, ax = ax)\n",
    "curve.line_.set_color('darkorange')\n",
    "curve.line_.set_label(text+' (AUC = %.2f)' % curve.roc_auc)\n",
    "\n",
    "ax.plot([0, 1], [0, 1], linestyle='--', lw=2, color='navy', alpha=0.8)\n",
    "ax.legend(loc = 4)\n",
    "ax.set_xlabel('False Positive Rate')\n",
    "ax.set_ylabel('True Positive Rate')\n",
    "plt.title(text+' ROC curve')\n",
    "plt.show()"
   ]
  },
  {
   "cell_type": "code",
   "execution_count": null,
   "metadata": {},
   "outputs": [],
   "source": []
  },
  {
   "cell_type": "code",
   "execution_count": null,
   "metadata": {},
   "outputs": [],
   "source": []
  },
  {
   "cell_type": "code",
   "execution_count": null,
   "metadata": {},
   "outputs": [],
   "source": []
  },
  {
   "cell_type": "code",
   "execution_count": null,
   "metadata": {},
   "outputs": [],
   "source": []
  },
  {
   "cell_type": "code",
   "execution_count": 63,
   "metadata": {},
   "outputs": [
    {
     "ename": "AttributeError",
     "evalue": "'AxesSubplot' object has no attribute 'setxlabel'",
     "output_type": "error",
     "traceback": [
      "\u001b[0;31m---------------------------------------------------------------------------\u001b[0m",
      "\u001b[0;31mAttributeError\u001b[0m                            Traceback (most recent call last)",
      "\u001b[0;32m<ipython-input-63-fcf254102f6a>\u001b[0m in \u001b[0;36m<module>\u001b[0;34m\u001b[0m\n\u001b[0;32m----> 1\u001b[0;31m \u001b[0max\u001b[0m\u001b[0;34m.\u001b[0m\u001b[0msetxlabel\u001b[0m\u001b[0;34m\u001b[0m\u001b[0;34m\u001b[0m\u001b[0m\n\u001b[0m",
      "\u001b[0;31mAttributeError\u001b[0m: 'AxesSubplot' object has no attribute 'setxlabel'"
     ]
    }
   ],
   "source": []
  },
  {
   "cell_type": "code",
   "execution_count": 55,
   "metadata": {},
   "outputs": [
    {
     "data": {
      "text/plain": [
       "0.9857142857142858"
      ]
     },
     "execution_count": 55,
     "metadata": {},
     "output_type": "execute_result"
    }
   ],
   "source": [
    "1-curve.fpr[np.argmax(curve.tpr-curve.fpr)]"
   ]
  },
  {
   "cell_type": "code",
   "execution_count": 45,
   "metadata": {},
   "outputs": [
    {
     "data": {
      "text/plain": [
       "9"
      ]
     },
     "execution_count": 45,
     "metadata": {},
     "output_type": "execute_result"
    }
   ],
   "source": [
    "np.argmax(curve2.tpr-curve2.fpr)"
   ]
  },
  {
   "cell_type": "code",
   "execution_count": null,
   "metadata": {},
   "outputs": [],
   "source": [
    "\n",
    "\n",
    "first_SC2 = (pd.read_csv(\"../../covid19-swab-host-expression-master-1/data/metatable_with_viral_status.csv\",low_memory=False)['viral_status'].values == 'SC2')\n",
    "second_SC2 = (pd.read_csv(\"../data/Adult-validation-cohort/adult_validation_metatable_with_viral_status.csv\",low_memory=False)['viral_status'].values == 'sc2')\n"
   ]
  }
 ],
 "metadata": {
  "kernelspec": {
   "display_name": "Python 3",
   "language": "python",
   "name": "python3"
  },
  "language_info": {
   "codemirror_mode": {
    "name": "ipython",
    "version": 3
   },
   "file_extension": ".py",
   "mimetype": "text/x-python",
   "name": "python",
   "nbconvert_exporter": "python",
   "pygments_lexer": "ipython3",
   "version": "3.6.12"
  }
 },
 "nbformat": 4,
 "nbformat_minor": 4
}

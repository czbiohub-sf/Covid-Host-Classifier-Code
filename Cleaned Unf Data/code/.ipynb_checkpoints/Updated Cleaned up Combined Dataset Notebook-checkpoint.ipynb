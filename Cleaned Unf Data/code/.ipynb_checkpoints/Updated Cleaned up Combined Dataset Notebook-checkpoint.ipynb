{
 "cells": [
  {
   "cell_type": "code",
   "execution_count": null,
   "metadata": {},
   "outputs": [],
   "source": [
    "metatable_csv = \"../data/Adult-validation-cohort/adult_validation_metatable_with_viral_status.csv\"\n",
    "folds_out_csv = \"../results/cv-folds.csv\"\n",
    "log_out_csv = \"../data/cv-folds.log\"\n",
    "gene_counts_csv = \"../data/Adult-validation-cohort/adult_validation_swab_gene_counts.csv\"\n",
    "norm_gene_counts_csv = \"../data/Adult-validation-cohort/test2.csv\"\n"
   ]
  },
  {
   "cell_type": "code",
   "execution_count": null,
   "metadata": {},
   "outputs": [],
   "source": [
    "import pandas as pd\n",
    "import numpy as np\n",
    "from sklearn.svm import SVC\n",
    "from sklearn.metrics import roc_auc_score\n",
    "from matplotlib import pyplot as plt\n",
    "from sklearn import preprocessing\n",
    "from sklearn.model_selection import cross_validate\n",
    "from sklearn.model_selection import StratifiedKFold\n",
    "from sklearn.model_selection import train_test_split"
   ]
  },
  {
   "cell_type": "code",
   "execution_count": null,
   "metadata": {},
   "outputs": [],
   "source": [
    "metatable = pd.read_csv(metatable_csv,low_memory=False)"
   ]
  },
  {
   "cell_type": "code",
   "execution_count": null,
   "metadata": {},
   "outputs": [],
   "source": [
    "metatable"
   ]
  },
  {
   "cell_type": "code",
   "execution_count": null,
   "metadata": {},
   "outputs": [],
   "source": [
    "gene_counts = pd.read_csv(gene_counts_csv,low_memory=False)"
   ]
  },
  {
   "cell_type": "code",
   "execution_count": null,
   "metadata": {},
   "outputs": [],
   "source": [
    "gene_counts"
   ]
  },
  {
   "cell_type": "code",
   "execution_count": null,
   "metadata": {},
   "outputs": [],
   "source": [
    "norm_gene_counts = pd.read_csv(norm_gene_counts_csv,low_memory=False)"
   ]
  },
  {
   "cell_type": "code",
   "execution_count": null,
   "metadata": {},
   "outputs": [],
   "source": [
    "norm_gene_counts"
   ]
  },
  {
   "cell_type": "code",
   "execution_count": null,
   "metadata": {},
   "outputs": [],
   "source": [
    "norm_csv = pd.read_csv('../code/test.csv',low_memory=False)"
   ]
  },
  {
   "cell_type": "code",
   "execution_count": null,
   "metadata": {},
   "outputs": [],
   "source": [
    "norm_csv"
   ]
  },
  {
   "cell_type": "code",
   "execution_count": null,
   "metadata": {},
   "outputs": [],
   "source": [
    "norm_df = norm_csv.values[:, 1:]"
   ]
  },
  {
   "cell_type": "code",
   "execution_count": null,
   "metadata": {},
   "outputs": [],
   "source": [
    "old_metatable = pd.read_csv(\"../data/metatable_with_viral_status.csv\",low_memory=False)[['CZB_ID', 'viral_status']]"
   ]
  },
  {
   "cell_type": "code",
   "execution_count": null,
   "metadata": {},
   "outputs": [],
   "source": [
    "full_norm_df = np.append(norm_df.astype(float), old_metatable['viral_status'].values.reshape(-1, 1) == 'SC2', axis = 1)"
   ]
  },
  {
   "cell_type": "code",
   "execution_count": null,
   "metadata": {},
   "outputs": [],
   "source": [
    "old_gene_counts_df = pd.read_csv('../data/swab_gene_counts.csv',low_memory=False)"
   ]
  },
  {
   "cell_type": "code",
   "execution_count": null,
   "metadata": {},
   "outputs": [],
   "source": [
    "X = old_gene_counts_df.values"
   ]
  },
  {
   "cell_type": "code",
   "execution_count": null,
   "metadata": {},
   "outputs": [],
   "source": [
    "df = X[:,1:].transpose()"
   ]
  },
  {
   "cell_type": "code",
   "execution_count": null,
   "metadata": {},
   "outputs": [],
   "source": [
    "full_df = np.append(df, old_metatable['viral_status'].values.reshape(-1, 1) == 'SC2', axis = 1)"
   ]
  },
  {
   "cell_type": "code",
   "execution_count": null,
   "metadata": {},
   "outputs": [],
   "source": [
    "full_df"
   ]
  },
  {
   "cell_type": "code",
   "execution_count": null,
   "metadata": {},
   "outputs": [],
   "source": [
    "sharedgenes = np.intersect1d(norm_csv.columns[1:], norm_gene_counts.columns[1:])"
   ]
  },
  {
   "cell_type": "code",
   "execution_count": null,
   "metadata": {},
   "outputs": [],
   "source": [
    "sharedgenes"
   ]
  },
  {
   "cell_type": "code",
   "execution_count": null,
   "metadata": {},
   "outputs": [],
   "source": [
    "comb_df = np.concatenate((norm_gene_counts[sharedgenes], norm_csv[sharedgenes]))"
   ]
  },
  {
   "cell_type": "code",
   "execution_count": null,
   "metadata": {},
   "outputs": [],
   "source": [
    "comb_SC2 = np.concatenate((metatable['viral_status'].values == 'sc2', old_metatable['viral_status'].values == 'SC2'))"
   ]
  },
  {
   "cell_type": "code",
   "execution_count": null,
   "metadata": {},
   "outputs": [],
   "source": [
    "seed = 1602028882"
   ]
  },
  {
   "cell_type": "code",
   "execution_count": null,
   "metadata": {},
   "outputs": [],
   "source": [
    "comb_data_src = np.concatenate((np.zeros(metatable.shape[0]), np.ones(old_metatable.shape[0])))"
   ]
  },
  {
   "cell_type": "code",
   "execution_count": null,
   "metadata": {},
   "outputs": [],
   "source": [
    "[train_ind, test_ind] = train_test_split(np.arange(368), random_state = seed, test_size = 0.3, stratify = 2*comb_SC2+comb_data_src)"
   ]
  },
  {
   "cell_type": "code",
   "execution_count": null,
   "metadata": {},
   "outputs": [],
   "source": [
    "TRcomb_df = comb_df[train_ind]\n",
    "TEcomb_df = comb_df[test_ind]\n",
    "TRcomb_SC2 = comb_SC2[train_ind]\n",
    "TEcomb_SC2 = comb_SC2[test_ind]"
   ]
  },
  {
   "cell_type": "code",
   "execution_count": null,
   "metadata": {},
   "outputs": [],
   "source": [
    "full_old_metatable = pd.read_csv(\"../data/metatable_with_viral_status.csv\",low_memory=False)"
   ]
  },
  {
   "cell_type": "code",
   "execution_count": null,
   "metadata": {},
   "outputs": [],
   "source": [
    "#Beginning of gene set generation code\n",
    "#Each run through the code generates a single gene. Add each gene to the array [i] in the three code blocks below\n",
    "\n",
    "all_scores = []\n",
    "\n",
    "for i in range(comb_df.shape[1]):\n",
    "    cur_scores = []\n",
    "    if not i%100: print(i)\n",
    "    clf = SVC(gamma = 'auto', probability = True)\n",
    "    score = cross_validate(clf, np.concatenate((TRcomb_df[:, [i]], np.concatenate((metatable['sc2_rpm'], full_old_metatable['SC2_rpm']))[train_ind].reshape(-1, 1)), axis = 1), TRcomb_SC2, scoring='roc_auc', cv=StratifiedKFold(n_splits=5, shuffle=True))\n",
    "    av = np.average(score['test_score'])\n",
    "    all_scores.append(av)"
   ]
  },
  {
   "cell_type": "code",
   "execution_count": null,
   "metadata": {},
   "outputs": [],
   "source": [
    "#For maximum time optimization, the number 13000 can be increased if 0 or 1 genes have already been selected.\n",
    "\n",
    "bar = np.sort(all_scores)[13000]\n",
    "x = 13000-15783\n",
    "barset = np.argpartition(all_scores, x)[x:]\n",
    "bar"
   ]
  },
  {
   "cell_type": "code",
   "execution_count": null,
   "metadata": {
    "scrolled": true
   },
   "outputs": [],
   "source": [
    "all_scores = []\n",
    "\n",
    "for i in barset:\n",
    "    cur_scores = []\n",
    "    print(i)\n",
    "    for j in range(10):\n",
    "        clf = SVC(gamma = 'auto', probability = True)\n",
    "        score = cross_validate(clf, np.concatenate((TRcomb_df[:, [i]], np.concatenate((metatable['sc2_rpm'], full_old_metatable['SC2_rpm']))[train_ind].reshape(-1, 1)), axis = 1), TRcomb_SC2, scoring='roc_auc', cv=StratifiedKFold(n_splits=5, shuffle=True))\n",
    "        av = np.average(score['test_score'])\n",
    "        if av < bar:\n",
    "            #print(j)\n",
    "            cur_scores = np.zeros(10)\n",
    "            break\n",
    "        cur_scores.append(av)\n",
    "\n",
    "    if np.sum(cur_scores) != 0:\n",
    "        print(i)\n",
    "    all_scores.append(cur_scores)"
   ]
  },
  {
   "cell_type": "code",
   "execution_count": null,
   "metadata": {},
   "outputs": [],
   "source": [
    "onlyset = np.where(np.average(all_scores, axis = 1) != 0)[0]\n",
    "barset[onlyset]"
   ]
  },
  {
   "cell_type": "code",
   "execution_count": null,
   "metadata": {},
   "outputs": [],
   "source": [
    "all_scores = []\n",
    "for i in barset[onlyset]:\n",
    "    cur_scores = []\n",
    "    print(i)\n",
    "    for j in range(100):\n",
    "        clf = SVC(gamma = 'auto', probability = True)\n",
    "        score = cross_validate(clf, np.concatenate((TRcomb_df[:, [i]], np.concatenate((metatable['sc2_rpm'], full_old_metatable['SC2_rpm']))[train_ind].reshape(-1, 1)), axis = 1), TRcomb_SC2, scoring='roc_auc', cv=StratifiedKFold(n_splits=5, shuffle=True))\n",
    "        av = np.average(score['test_score'])\n",
    "        cur_scores.append(av)\n",
    "    all_scores.append(cur_scores)\n",
    "\n"
   ]
  },
  {
   "cell_type": "code",
   "execution_count": null,
   "metadata": {},
   "outputs": [],
   "source": [
    "#Finds the indices of the three best genes in the barset[onlyset] array.\n",
    "\n",
    "np.argpartition(np.average(all_scores, axis = 1), -1)[-3:]"
   ]
  },
  {
   "cell_type": "code",
   "execution_count": null,
   "metadata": {},
   "outputs": [],
   "source": [
    "barset[onlyset][243]"
   ]
  },
  {
   "cell_type": "code",
   "execution_count": null,
   "metadata": {},
   "outputs": [],
   "source": [
    "barset[onlyset][288]"
   ]
  },
  {
   "cell_type": "code",
   "execution_count": null,
   "metadata": {},
   "outputs": [],
   "source": [
    "barset[onlyset][287]"
   ]
  },
  {
   "cell_type": "code",
   "execution_count": null,
   "metadata": {},
   "outputs": [],
   "source": [
    "np.average(all_scores, axis = 1)[243]"
   ]
  },
  {
   "cell_type": "code",
   "execution_count": null,
   "metadata": {},
   "outputs": [],
   "source": [
    "#End of gene set generation code"
   ]
  },
  {
   "cell_type": "code",
   "execution_count": null,
   "metadata": {},
   "outputs": [],
   "source": [
    "#Plug in indices generated by barset[onlyset] to find corresponding Ensemble IDs\n",
    "\n",
    "sharedgenes[10018]"
   ]
  },
  {
   "cell_type": "code",
   "execution_count": null,
   "metadata": {},
   "outputs": [],
   "source": [
    "#Plug in Ensemble IDs to find corresponding indices\n",
    "\n",
    "np.argwhere(sharedgenes == 'ENSG00000126709')"
   ]
  },
  {
   "cell_type": "code",
   "execution_count": null,
   "metadata": {},
   "outputs": [],
   "source": [
    "#Saves the patient IDs for the training and validation sets as CSVs\n",
    "\n",
    "#np.savetxt(\"train.csv\", np.concatenate((norm_gene_counts['Unnamed: 0'], norm_csv['Unnamed: 0']))[train_ind], delimiter=\",\", fmt='%s')\n",
    "#np.savetxt(\"test.csv\", np.concatenate((norm_gene_counts['Unnamed: 0'], norm_csv['Unnamed: 0']))[test_ind], delimiter=\",\", fmt='%s')"
   ]
  },
  {
   "cell_type": "code",
   "execution_count": null,
   "metadata": {
    "scrolled": true
   },
   "outputs": [],
   "source": [
    "#Cross-validation performance on 257-patient training dataset\n",
    "\n",
    "gene_set = [3730]\n",
    "full = []\n",
    "for j in range(10000):\n",
    "    clf = SVC(gamma = 'auto', probability = True)\n",
    "    score = cross_validate(clf, TRcomb_df[:, gene_set], TRcomb_SC2, scoring='roc_auc', cv=StratifiedKFold(n_splits=5, shuffle=True))\n",
    "    av = np.average(score['test_score'])\n",
    "    full.append(av)\n",
    "    #print(np.average(full), np.std(full)) #Uncomment to view live averages (useful if you think the average will converge early)\n",
    "    \n",
    "print(np.average(full), np.std(full))"
   ]
  },
  {
   "cell_type": "code",
   "execution_count": null,
   "metadata": {},
   "outputs": [],
   "source": [
    "#Cross-validation performance on 111-patient validation dataset\n",
    "\n",
    "gene_set = [3730]\n",
    "full = []\n",
    "for j in range(10000):\n",
    "    clf = SVC(gamma = 'auto', probability = True)\n",
    "    score = cross_validate(clf, TEcomb_df[:, gene_set], TEcomb_SC2, scoring='roc_auc', cv=StratifiedKFold(n_splits=5, shuffle=True))\n",
    "    av = np.average(score['test_score'])\n",
    "    full.append(av)\n",
    "    #print(np.average(full), np.std(full)) #Uncomment to view live averages (useful if you think the average will converge early)\n",
    "    \n",
    "print(np.average(full), np.std(full))"
   ]
  },
  {
   "cell_type": "code",
   "execution_count": null,
   "metadata": {},
   "outputs": [],
   "source": [
    "#Cross-validation performance on 257-patient training dataset\n",
    "\n",
    "gene_set = [3730]\n",
    "full = []\n",
    "for j in range(10000):\n",
    "    clf = SVC(gamma = 'auto', probability = True)\n",
    "    score = cross_validate(clf, np.concatenate((TRcomb_df[:, gene_set], np.concatenate((metatable['sc2_rpm'], full_old_metatable['SC2_rpm']))[train_ind].reshape(-1, 1)), axis = 1), TRcomb_SC2, scoring='roc_auc', cv=StratifiedKFold(n_splits=5, shuffle=True))\n",
    "    av = np.average(score['test_score'])\n",
    "    full.append(av)\n",
    "    #print(np.average(full), np.std(full)) #Uncomment to view live averages (useful if you think the average will converge early)\n",
    "    \n",
    "print(np.average(full), np.std(full))"
   ]
  },
  {
   "cell_type": "code",
   "execution_count": null,
   "metadata": {},
   "outputs": [],
   "source": [
    "#Cross-validation performance on 111-patient validation dataset\n",
    "\n",
    "gene_set = [3730]\n",
    "full = []\n",
    "for j in range(10000):\n",
    "    clf = SVC(gamma = 'auto', probability = True)\n",
    "    score = cross_validate(clf, np.concatenate((TEcomb_df[:, gene_set], np.concatenate((metatable['sc2_rpm'], full_old_metatable['SC2_rpm']))[test_ind].reshape(-1, 1)), axis = 1), TEcomb_SC2, scoring='roc_auc', cv=StratifiedKFold(n_splits=5, shuffle=True))\n",
    "    av = np.average(score['test_score'])\n",
    "    full.append(av)\n",
    "    #print(np.average(full), np.std(full)) #Uncomment to view live averages (useful if you think the average will converge early)\n",
    "    \n",
    "print(np.average(full), np.std(full))"
   ]
  },
  {
   "cell_type": "code",
   "execution_count": null,
   "metadata": {
    "scrolled": true
   },
   "outputs": [],
   "source": [
    "#Only SC2-rpm Cross-validation performance on 257-patient training dataset\n",
    "\n",
    "full = []\n",
    "for j in range(10000):\n",
    "    clf = SVC(gamma = 'auto', probability = True)\n",
    "    score = cross_validate(clf, np.concatenate((metatable['sc2_rpm'], full_old_metatable['SC2_rpm']))[train_ind].reshape(-1, 1), TRcomb_SC2, scoring='roc_auc', cv=StratifiedKFold(n_splits=5, shuffle=True))\n",
    "    av = np.average(score['test_score'])\n",
    "    full.append(av)\n",
    "    #print(np.average(full), np.std(full)) #Uncomment to view live averages (useful if you think the average will converge early)\n",
    "    \n",
    "print(np.average(full), np.std(full))"
   ]
  },
  {
   "cell_type": "code",
   "execution_count": null,
   "metadata": {},
   "outputs": [],
   "source": [
    "#Only SC2-rpm Cross-validation performance on 111-patient validation dataset\n",
    "\n",
    "full = []\n",
    "for j in range(10000):\n",
    "    clf = SVC(gamma = 'auto', probability = True)\n",
    "    score = cross_validate(clf, np.concatenate((metatable['sc2_rpm'], full_old_metatable['SC2_rpm']))[test_ind].reshape(-1, 1), TEcomb_SC2, scoring='roc_auc', cv=StratifiedKFold(n_splits=5, shuffle=True))\n",
    "    av = np.average(score['test_score'])\n",
    "    full.append(av)\n",
    "    #print(np.average(full), np.std(full)) #Uncomment to view live averages (useful if you think the average will converge early)\n",
    "    \n",
    "print(np.average(full), np.std(full))"
   ]
  },
  {
   "cell_type": "code",
   "execution_count": null,
   "metadata": {},
   "outputs": [],
   "source": []
  }
 ],
 "metadata": {
  "kernelspec": {
   "display_name": "Python 3",
   "language": "python",
   "name": "python3"
  },
  "language_info": {
   "codemirror_mode": {
    "name": "ipython",
    "version": 3
   },
   "file_extension": ".py",
   "mimetype": "text/x-python",
   "name": "python",
   "nbconvert_exporter": "python",
   "pygments_lexer": "ipython3",
   "version": "3.8.3"
  }
 },
 "nbformat": 4,
 "nbformat_minor": 4
}

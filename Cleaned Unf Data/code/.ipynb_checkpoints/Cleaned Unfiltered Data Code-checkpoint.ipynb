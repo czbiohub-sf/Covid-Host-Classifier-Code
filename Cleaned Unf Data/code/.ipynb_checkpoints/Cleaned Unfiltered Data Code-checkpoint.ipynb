{
 "cells": [
  {
   "cell_type": "markdown",
   "metadata": {},
   "source": [
    "## Load Libraries"
   ]
  },
  {
   "cell_type": "code",
   "execution_count": 23,
   "metadata": {},
   "outputs": [],
   "source": [
    "import pandas as pd\n",
    "import numpy as np\n",
    "from sklearn.svm import SVC\n",
    "from matplotlib import pyplot as plt\n",
    "from sklearn import preprocessing\n",
    "from sklearn.model_selection import cross_validate\n",
    "from sklearn.model_selection import StratifiedKFold\n",
    "from sklearn.model_selection import train_test_split\n",
    "from sklearn.metrics import roc_auc_score\n",
    "from sklearn.metrics import plot_roc_curve\n",
    "from sklearn.metrics import auc\n",
    "from sklearn.ensemble import RandomForestClassifier\n",
    "from sklearn.preprocessing import StandardScaler"
   ]
  },
  {
   "cell_type": "markdown",
   "metadata": {},
   "source": [
    "## Load Data"
   ]
  },
  {
   "cell_type": "code",
   "execution_count": 2,
   "metadata": {},
   "outputs": [],
   "source": [
    "first_gene_counts_df = pd.read_csv(\"../data/swab_gene_counts.csv\",low_memory=False).T\n",
    "first_headers = first_gene_counts_df.iloc[0]\n",
    "first_gene_counts_df = first_gene_counts_df[1:]\n",
    "first_gene_counts_df.columns = first_headers"
   ]
  },
  {
   "cell_type": "code",
   "execution_count": 3,
   "metadata": {},
   "outputs": [],
   "source": [
    "second_gene_counts_df = pd.read_csv(\"../data/Adult-validation-cohort/adult_validation_swab_gene_counts.csv\",low_memory=False).T\n",
    "second_headers = second_gene_counts_df.iloc[0]\n",
    "second_gene_counts_df = second_gene_counts_df[1:]\n",
    "second_gene_counts_df.columns = second_headers\n",
    "second_gene_counts_df = second_gene_counts_df.drop(['gene_symbol'])"
   ]
  },
  {
   "cell_type": "code",
   "execution_count": 4,
   "metadata": {},
   "outputs": [],
   "source": [
    "ENSG_trans = pd.read_csv('../annotation/gene2name.txt',low_memory=False, index_col = 0, header = None, sep = '\\t').T\n",
    "sharedgenes = np.intersect1d(first_gene_counts_df.columns[1:], second_gene_counts_df.columns[1:])"
   ]
  },
  {
   "cell_type": "code",
   "execution_count": 5,
   "metadata": {},
   "outputs": [],
   "source": [
    "R_first_gene_counts = pd.read_csv('../code/test.csv',low_memory=False)[sharedgenes].values\n",
    "R_second_gene_counts = pd.read_csv('../data/Adult-validation-cohort/test2.csv',low_memory=False)[sharedgenes].values\n"
   ]
  },
  {
   "cell_type": "code",
   "execution_count": 7,
   "metadata": {},
   "outputs": [],
   "source": [
    "R_first_second_gene_counts = np.concatenate((R_first_gene_counts, R_second_gene_counts))"
   ]
  },
  {
   "cell_type": "code",
   "execution_count": 6,
   "metadata": {},
   "outputs": [],
   "source": [
    "IDs = pd.read_csv('GSE152075_raw_counts_GEO.csv')['Unnamed: 0']\n",
    "\n",
    "first_SC2 = (pd.read_csv(\"../../covid19-swab-host-expression-master-1/data/metatable_with_viral_status.csv\",low_memory=False)['viral_status'].values == 'SC2')\n",
    "second_SC2 = (pd.read_csv(\"../data/Adult-validation-cohort/adult_validation_metatable_with_viral_status.csv\",low_memory=False)['viral_status'].values == 'sc2')"
   ]
  },
  {
   "cell_type": "code",
   "execution_count": 8,
   "metadata": {},
   "outputs": [],
   "source": [
    "first_second_SC2 = np.concatenate((first_SC2, second_SC2))"
   ]
  },
  {
   "cell_type": "markdown",
   "metadata": {},
   "source": [
    "## Split Data into Training and Testing Cohorts"
   ]
  },
  {
   "cell_type": "code",
   "execution_count": 11,
   "metadata": {},
   "outputs": [],
   "source": [
    "seed = 8675309"
   ]
  },
  {
   "cell_type": "code",
   "execution_count": 12,
   "metadata": {},
   "outputs": [],
   "source": [
    "comb_data_src = np.concatenate((np.zeros(first_SC2.shape[0]), np.ones(second_SC2.shape[0])))"
   ]
  },
  {
   "cell_type": "code",
   "execution_count": 13,
   "metadata": {},
   "outputs": [],
   "source": [
    "scaler = StandardScaler().fit(R_first_second_gene_counts)\n",
    "scaled_R_first_second_gene_counts = scaler.transform(R_first_second_gene_counts)"
   ]
  },
  {
   "cell_type": "code",
   "execution_count": 14,
   "metadata": {},
   "outputs": [],
   "source": [
    "#Splits the data into training and validation datasets (70:30)\n",
    "\n",
    "[train_ind, test_ind] = train_test_split(np.arange(368), random_state = seed, test_size = 0.3, stratify = 2*first_second_SC2+comb_data_src)\n",
    "\n",
    "TRcomb_counts = scaled_R_first_second_gene_counts[train_ind]\n",
    "TEcomb_counts = scaled_R_first_second_gene_counts[test_ind]\n",
    "\n",
    "#TRcomb_counts = pre_norm_first_gene_counts_df.values[train_ind]\n",
    "#TEcomb_counts = pre_norm_first_gene_counts_df.values[test_ind]\n",
    "\n",
    "TRcomb_SC2 = first_second_SC2[train_ind]\n",
    "TEcomb_SC2 = first_second_SC2[test_ind]\n"
   ]
  },
  {
   "cell_type": "markdown",
   "metadata": {},
   "source": [
    "## Generate Scores for Gene Sets"
   ]
  },
  {
   "cell_type": "code",
   "execution_count": 20,
   "metadata": {},
   "outputs": [],
   "source": [
    "#Given a gene set, generates the following five scores:\n",
    "#\n",
    "#   CV score on the training cohort\n",
    "#   CV score on the testing cohort\n",
    "#   Score on the testing cohort when trained on the training cohort\n",
    "#   CV score on the training cohort with rpm\n",
    "#   Score on the testing cohort when trained on the training cohort with rpm\n",
    "\n",
    "\n",
    "def rpMandnorpMAUCs(gene_set):\n",
    "    print(gene_set)\n",
    "    comb_inds = []\n",
    "    for gene in gene_set:\n",
    "        comb_inds.append(np.where(sharedgenes == ENSG_trans.columns[np.where(ENSG_trans == gene)[1]][0])[0][0])\n",
    "        \n",
    "        \n",
    "    cur_scores = []\n",
    "    for i in range(10000):\n",
    "        clf = SVC(gamma = 'auto', probability = True)\n",
    "        score = cross_validate(clf, TRcomb_counts_rpM[:, comb_inds], TRcomb_SC2, scoring='roc_auc', cv=StratifiedKFold(n_splits=5, shuffle=True))\n",
    "        av = np.average(score['test_score'])\n",
    "        cur_scores.append(av)\n",
    "    print(np.average(cur_scores), np.std(cur_scores))\n",
    "    \n",
    "    \n",
    "    cur_scores = []\n",
    "    for i in range(10000):\n",
    "        clf = SVC(gamma = 'auto', probability = True)\n",
    "        score = cross_validate(clf, TEcomb_counts_rpM[:, comb_inds], TEcomb_SC2, scoring='roc_auc', cv=StratifiedKFold(n_splits=5, shuffle=True))\n",
    "        av = np.average(score['test_score'])\n",
    "        cur_scores.append(av)\n",
    "    print(np.average(cur_scores), np.std(cur_scores))\n",
    "        \n",
    "    \n",
    "    clf = SVC(gamma = 'auto', probability = True)\n",
    "    clf.fit(TRcomb_counts_rpM[:, comb_inds], TRcomb_SC2)\n",
    "    print(roc_auc_score(TEcomb_SC2, clf.predict_proba(TEcomb_counts_rpM[:, comb_inds])[:, 1]))\n",
    "    \n",
    "    \n",
    "    comb_inds_rpM = comb_inds\n",
    "    comb_inds_rpM.append(-1)\n",
    "    \n",
    "    \n",
    "    cur_scores = []\n",
    "    for i in range(10000):\n",
    "        clf = SVC(gamma = 'auto', probability = True)\n",
    "        score = cross_validate(clf, TRcomb_counts_rpM[:, comb_inds_rpM], TRcomb_SC2, scoring='roc_auc', cv=StratifiedKFold(n_splits=5, shuffle=True))\n",
    "        av = np.average(score['test_score'])\n",
    "        cur_scores.append(av)\n",
    "    print(np.average(cur_scores), np.std(cur_scores))\n",
    "    \n",
    "    \n",
    "    clf = SVC(gamma = 'auto', probability = True)\n",
    "    clf.fit(TRcomb_counts_rpM[:, comb_inds_rpM], TRcomb_SC2)\n",
    "    print(roc_auc_score(TEcomb_SC2, clf.predict_proba(TEcomb_counts_rpM[:, comb_inds_rpM])[:, 1]))"
   ]
  },
  {
   "cell_type": "code",
   "execution_count": 158,
   "metadata": {},
   "outputs": [
    {
     "name": "stdout",
     "output_type": "stream",
     "text": [
      "['IFI6', 'PTAFR']\n",
      "0.8602374236941787 0.007565305068620248\n",
      "0.8536757539682539 0.013183201640382837\n",
      "0.8693379790940766\n",
      "0.868732849905303 0.00726737855774389\n",
      "0.9243902439024391\n"
     ]
    }
   ],
   "source": [
    "rpMandnorpMAUCs(['IFI6', 'PTAFR'])"
   ]
  },
  {
   "cell_type": "code",
   "execution_count": 159,
   "metadata": {},
   "outputs": [
    {
     "name": "stdout",
     "output_type": "stream",
     "text": [
      "['IFI6', 'GBP5']\n",
      "0.8866816963217703 0.005497464212704562\n",
      "0.8757597619047619 0.011745271296973355\n",
      "0.8954703832752613\n",
      "0.8787090654655103 0.007412934788372503\n",
      "0.9285714285714286\n"
     ]
    }
   ],
   "source": [
    "rpMandnorpMAUCs(['IFI6', 'GBP5'])"
   ]
  },
  {
   "cell_type": "code",
   "execution_count": 160,
   "metadata": {},
   "outputs": [
    {
     "name": "stdout",
     "output_type": "stream",
     "text": [
      "['IFI6', 'GRINA']\n",
      "0.8532030268141946 0.007794645246846646\n",
      "0.9021537500000001 0.011132801684772167\n",
      "0.8989547038327527\n",
      "0.8836156258223684 0.00699030763883207\n",
      "0.9400696864111499\n"
     ]
    }
   ],
   "source": [
    "rpMandnorpMAUCs(['IFI6', 'GRINA'])"
   ]
  },
  {
   "cell_type": "code",
   "execution_count": 161,
   "metadata": {},
   "outputs": [
    {
     "name": "stdout",
     "output_type": "stream",
     "text": [
      "['IFI44', 'TPM4']\n",
      "0.8645338211224083 0.004839704791012586\n",
      "0.8383219642857144 0.012830967894721683\n",
      "0.8501742160278745\n",
      "0.9131877317085327 0.006488096957112687\n",
      "0.9177700348432055\n"
     ]
    }
   ],
   "source": [
    "rpMandnorpMAUCs(['IFI44', 'TPM4'])"
   ]
  },
  {
   "cell_type": "code",
   "execution_count": 162,
   "metadata": {},
   "outputs": [
    {
     "name": "stdout",
     "output_type": "stream",
     "text": [
      "['IFI44', 'BAZ1A']\n",
      "0.8553622374401914 0.005797508171108705\n",
      "0.8665718452380952 0.013279792159610532\n",
      "0.8989547038327526\n",
      "0.8668608185307017 0.010358389950340597\n",
      "0.913588850174216\n"
     ]
    }
   ],
   "source": [
    "rpMandnorpMAUCs(['IFI44', 'BAZ1A'])"
   ]
  },
  {
   "cell_type": "code",
   "execution_count": 163,
   "metadata": {},
   "outputs": [
    {
     "name": "stdout",
     "output_type": "stream",
     "text": [
      "['IFI44', 'VCAN']\n",
      "0.8409225516846093 0.008504176400971883\n",
      "0.7924122222222222 0.014298138119297506\n",
      "0.8289198606271777\n",
      "0.8582456806967702 0.009085851852384532\n",
      "0.8843205574912892\n"
     ]
    }
   ],
   "source": [
    "rpMandnorpMAUCs(['IFI44', 'VCAN'])"
   ]
  },
  {
   "cell_type": "code",
   "execution_count": 164,
   "metadata": {},
   "outputs": [
    {
     "name": "stdout",
     "output_type": "stream",
     "text": [
      "['IFI44L', 'GBP5']\n",
      "0.8794572939593301 0.004660584929142718\n",
      "0.8515204365079364 0.011953842659664322\n",
      "0.8801393728222996\n",
      "0.8838599744068979 0.008538381105799003\n",
      "0.9278745644599303\n"
     ]
    }
   ],
   "source": [
    "rpMandnorpMAUCs(['IFI44L', 'GBP5'])"
   ]
  },
  {
   "cell_type": "code",
   "execution_count": 165,
   "metadata": {},
   "outputs": [
    {
     "name": "stdout",
     "output_type": "stream",
     "text": [
      "['IFI44L', 'BAZ1A']\n",
      "0.8712619466208135 0.005962231337441227\n",
      "0.8236618055555555 0.013387403680629127\n",
      "0.8644599303135888\n",
      "0.8729335409688996 0.011085122583201979\n",
      "0.9066202090592335\n"
     ]
    }
   ],
   "source": [
    "rpMandnorpMAUCs(['IFI44L', 'BAZ1A'])"
   ]
  },
  {
   "cell_type": "code",
   "execution_count": 166,
   "metadata": {},
   "outputs": [
    {
     "name": "stdout",
     "output_type": "stream",
     "text": [
      "['IFI44L', 'SH3BP2']\n",
      "0.8679902786084529 0.005631283942948893\n",
      "0.8483051785714286 0.01338526687382179\n",
      "0.8627177700348432\n",
      "0.8828530716457337 0.007850658034898305\n",
      "0.8878048780487805\n"
     ]
    }
   ],
   "source": [
    "rpMandnorpMAUCs(['IFI44L', 'SH3BP2'])"
   ]
  },
  {
   "cell_type": "markdown",
   "metadata": {},
   "source": [
    "## Make ROC Curves"
   ]
  },
  {
   "cell_type": "code",
   "execution_count": 21,
   "metadata": {},
   "outputs": [
    {
     "data": {
      "image/png": "[encoded data removed]",
      "text/plain": [
       "<Figure size 432x432 with 1 Axes>"
      ]
     },
     "metadata": {
      "needs_background": "light"
     },
     "output_type": "display_data"
    }
   ],
   "source": [
    "all_text = ['rpM', 'IFI44L, GBP5', 'IFI6, GBP5', 'IFI44L, GBP5, rpM', 'IFI6, GBP5, rpM']\n",
    "all_inds = [[-1], [6547, 8417], [5085, 8417], [6547, 8417, -1], [5085, 8417, -1]]\n",
    "fig, ax = plt.subplots(figsize=(6, 6))\n",
    "for i in range(5):\n",
    "    text = all_text[i]\n",
    "    comb_inds = all_inds[i]\n",
    "    clf = SVC(gamma = 'auto', probability = True)\n",
    "    clf.fit(TRcomb_counts_rpM[:, comb_inds], TRcomb_SC2)\n",
    "    curve = plot_roc_curve(clf, TEcomb_counts_rpM[:, comb_inds], TEcomb_SC2, ax = ax)\n",
    "    #curve.line_.set_color('darkorange')\n",
    "    curve.line_.set_label(text+' (AUC = %.2f)' % curve.roc_auc)\n",
    "\n",
    "ax.plot([0, 1], [0, 1], linestyle='--', lw=2, color='navy', alpha=0.8)\n",
    "ax.legend(loc = 4, bbox_to_anchor=(1.62, 0))\n",
    "ax.set_xlabel('False Positive Rate')\n",
    "ax.set_ylabel('True Positive Rate')\n",
    "plt.title('ROC curve')\n",
    "plt.savefig('Figure 3.pdf', bbox_inches = 'tight', dpi = 200)\n",
    "plt.show()"
   ]
  },
  {
   "cell_type": "code",
   "execution_count": null,
   "metadata": {},
   "outputs": [],
   "source": []
  }
 ],
 "metadata": {
  "kernelspec": {
   "display_name": "Python 3",
   "language": "python",
   "name": "python3"
  },
  "language_info": {
   "codemirror_mode": {
    "name": "ipython",
    "version": 3
   },
   "file_extension": ".py",
   "mimetype": "text/x-python",
   "name": "python",
   "nbconvert_exporter": "python",
   "pygments_lexer": "ipython3",
   "version": "3.6.12"
  }
 },
 "nbformat": 4,
 "nbformat_minor": 4
}
